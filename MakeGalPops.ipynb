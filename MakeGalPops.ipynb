{
 "cells": [
  {
   "cell_type": "code",
   "execution_count": 1,
   "metadata": {},
   "outputs": [],
   "source": [
    "### Imports ###\n",
    "import numpy as np\n",
    "import matplotlib.pyplot as plt\n",
    "import matplotlib.gridspec as gridspec\n",
    "from astropy.io import fits\n",
    "from astropy.cosmology import FlatLambdaCDM\n",
    "from astropy import units as u\n",
    "import os\n",
    "from scipy.optimize import curve_fit\n",
    "cosmo = FlatLambdaCDM(H0=70, Om0=0.3)\n",
    "from GalPop import *\n",
    "from tqdm.notebook import tqdm"
   ]
  },
  {
   "cell_type": "code",
   "execution_count": 2,
   "metadata": {},
   "outputs": [],
   "source": [
    "### SET DATA LIMITS ###\n",
    "IRAC_lim = 26\n",
    "ra_range = (149.6, 150.52)  \n",
    "dec_range = (1.74, 2.73)\n",
    "z_range = (2., 3.)"
   ]
  },
  {
   "cell_type": "markdown",
   "metadata": {},
   "source": [
    "# Assign Peaks to C20p"
   ]
  },
  {
   "cell_type": "code",
   "execution_count": 4,
   "metadata": {},
   "outputs": [
    {
     "name": "stdout",
     "output_type": "stream",
     "text": [
      "Cosmos catalog = (1720700,)\n",
      "MCs = (1720700,)\n"
     ]
    }
   ],
   "source": [
    "### LOAD DATA ###\n",
    "# Cosmos data\n",
    "cosmos = fits.open(r\"C:\\Users\\sikor\\OneDrive\\Desktop\\BigData\\COSMOS2020\\COSMOS2020_CLASSIC_R1_v2.0.fits\")\n",
    "c20p = cosmos[1].data\n",
    "\n",
    "# MC iterations\n",
    "MCp = np.load(r\"C:\\Users\\sikor\\OneDrive\\Desktop\\BigData\\COSMOS2020\\C20_MC_250_0_redo.npy\")\n",
    "\n",
    "## Interpolated sigma cube\n",
    "sig_cube = fits.open(r\"C:\\Users\\sikor\\OneDrive\\Desktop\\benpy\\ThirdTry\\Hyperion_interpolated_cube_sigma.fits\")\n",
    "\n",
    "## Path for folders with .dat sigma files\n",
    "sigPath = r\"C:\\Users\\sikor\\OneDrive\\Desktop\\benpy\\HyperionPeaks\"\n",
    "\n",
    "print(f\"Cosmos catalog = {np.shape(c20p)}\")\n",
    "print(f\"MCs = {np.shape(MCp)}\")"
   ]
  },
  {
   "cell_type": "code",
   "execution_count": 5,
   "metadata": {},
   "outputs": [
    {
     "name": "stdout",
     "output_type": "stream",
     "text": [
      "Potentially good galaxies = (367677,)\n"
     ]
    }
   ],
   "source": [
    "## CUT DATA TO POTENTIALLY USABLE ##\n",
    "g_idxs = np.where((c20p[\"ALPHA_J2000\"] >= ra_range[0]) & (c20p[\"ALPHA_J2000\"] <= ra_range[1])       # RA\n",
    "                & (c20p[\"DELTA_J2000\"] >= dec_range[0]) & (c20p[\"DELTA_J2000\"] <= dec_range[1])     # DEC\n",
    "                & ((c20p[\"IRAC_CH1_MAG\"] <= IRAC_lim) | (c20p[\"IRAC_CH2_MAG\"] <= IRAC_lim)) # IRAC\n",
    "                & ((c20p[\"lp_type\"] == 0) | (c20p[\"lp_type\"] == 2)))        # LePhare type\n",
    "\n",
    "c20p = c20p[g_idxs] # cosmos photometry\n",
    "MCp = MCp[g_idxs]   # MC iterations\n",
    "\n",
    "print(f\"Potentially good galaxies = {np.shape(MCp)}\")"
   ]
  },
  {
   "cell_type": "code",
   "execution_count": 6,
   "metadata": {},
   "outputs": [
    {
     "name": "stdout",
     "output_type": "stream",
     "text": [
      "Updating voxel assignments (self.voxels)\n",
      "Finding peaks for sigma = 5.0\n",
      "Finding peaks for sigma = 4.0\n",
      "Finding peaks for sigma = 3.0\n",
      "Finding peaks for sigma = 2.0\n"
     ]
    }
   ],
   "source": [
    "## PEAKS FOR ORIGINAL SAMPLE ##\n",
    "\n",
    "sigs = [5.0, 4.0, 3.0, 2.0]\n",
    "sig_path = sigPath\n",
    "sig_sums = [f\"\\peaks_sig{s}.dat\" for s in sigs]\n",
    "sig_folders = [f\"\\sig{s}_peaks\" for s in sigs]\n",
    "\n",
    "# Create the galaxy coordinates for this iteration\n",
    "gal_coords = np.c_[c20p[\"ALPHA_J2000\"], c20p[\"DELTA_J2000\"], MCp[f\"lp_zPDF\"]]\n",
    "\n",
    "# Find good galaxies for this pop\n",
    "g_idxs = np.where((gal_coords[:,2] >= z_range[0]) & (gal_coords[:,2] <= z_range[1]))\n",
    "\n",
    "\n",
    "# Create an instance\n",
    "gp = GalPop(c20p[\"ID\"][g_idxs], gal_coords[g_idxs], c20p[\"lp_mass_med\"][g_idxs], verbose=True)\n",
    "\n",
    "# Assign the peaks\n",
    "gp.assignPeaks(sigs, sig_cube, sig_path, sig_sums, sig_folders, overwrite=True)\n",
    "\n",
    "# Save file\n",
    "gp.saveFile(f\"GalPops/c20p.npy\")"
   ]
  },
  {
   "cell_type": "code",
   "execution_count": 24,
   "metadata": {},
   "outputs": [
    {
     "name": "stdout",
     "output_type": "stream",
     "text": [
      "0\n",
      "10\n",
      "20\n",
      "30\n",
      "40\n",
      "50\n",
      "60\n",
      "70\n",
      "80\n",
      "90\n",
      "100\n",
      "110\n",
      "120\n",
      "130\n",
      "140\n",
      "150\n",
      "160\n",
      "170\n",
      "180\n",
      "190\n",
      "200\n",
      "210\n",
      "220\n",
      "230\n",
      "240\n"
     ]
    },
    {
     "ename": "ValueError",
     "evalue": "no field of name MC_iter250",
     "output_type": "error",
     "traceback": [
      "\u001b[1;31m---------------------------------------------------------------------------\u001b[0m",
      "\u001b[1;31mValueError\u001b[0m                                Traceback (most recent call last)",
      "Cell \u001b[1;32mIn[24], line 12\u001b[0m\n\u001b[0;32m     10\u001b[0m \u001b[38;5;28;01mif\u001b[39;00m m\u001b[38;5;241m%\u001b[39m\u001b[38;5;241m10\u001b[39m\u001b[38;5;241m==\u001b[39m\u001b[38;5;241m0\u001b[39m: \u001b[38;5;28mprint\u001b[39m(m)\n\u001b[0;32m     11\u001b[0m \u001b[38;5;66;03m# Create the galaxy coordinates for this iteration\u001b[39;00m\n\u001b[1;32m---> 12\u001b[0m gal_coords \u001b[38;5;241m=\u001b[39m np\u001b[38;5;241m.\u001b[39mc_[c20p[\u001b[38;5;124m\"\u001b[39m\u001b[38;5;124mALPHA_J2000\u001b[39m\u001b[38;5;124m\"\u001b[39m], c20p[\u001b[38;5;124m\"\u001b[39m\u001b[38;5;124mDELTA_J2000\u001b[39m\u001b[38;5;124m\"\u001b[39m], \u001b[43mMCp\u001b[49m\u001b[43m[\u001b[49m\u001b[38;5;124;43mf\u001b[39;49m\u001b[38;5;124;43m\"\u001b[39;49m\u001b[38;5;124;43mMC_iter\u001b[39;49m\u001b[38;5;132;43;01m{\u001b[39;49;00m\u001b[43mm\u001b[49m\u001b[38;5;241;43m+\u001b[39;49m\u001b[38;5;241;43m1\u001b[39;49m\u001b[38;5;132;43;01m}\u001b[39;49;00m\u001b[38;5;124;43m\"\u001b[39;49m\u001b[43m]\u001b[49m]\n\u001b[0;32m     14\u001b[0m \u001b[38;5;66;03m# Find good galaxies for this pop\u001b[39;00m\n\u001b[0;32m     15\u001b[0m g_idxs \u001b[38;5;241m=\u001b[39m np\u001b[38;5;241m.\u001b[39mwhere((gal_coords[:,\u001b[38;5;241m2\u001b[39m] \u001b[38;5;241m>\u001b[39m\u001b[38;5;241m=\u001b[39m z_range[\u001b[38;5;241m0\u001b[39m]) \u001b[38;5;241m&\u001b[39m (gal_coords[:,\u001b[38;5;241m2\u001b[39m] \u001b[38;5;241m<\u001b[39m\u001b[38;5;241m=\u001b[39m z_range[\u001b[38;5;241m1\u001b[39m]))\n",
      "\u001b[1;31mValueError\u001b[0m: no field of name MC_iter250"
     ]
    }
   ],
   "source": [
    "## Create GalPop Objects ##\n",
    "mc_iter = 250     # Number of differnet redshifts to use\n",
    "sigs = [5.0, 4.0, 3.0, 2.0]\n",
    "sig_path = sigPath\n",
    "sig_sums = [f\"\\peaks_sig{s}.dat\" for s in sigs]\n",
    "sig_folders = [f\"\\sig{s}_peaks\" for s in sigs]\n",
    "\n",
    "\n",
    "for m in range(mc_iter):\n",
    "    if m%10==0: print(m)\n",
    "    # Create the galaxy coordinates for this iteration\n",
    "    gal_coords = np.c_[c20p[\"ALPHA_J2000\"], c20p[\"DELTA_J2000\"], MCp[f\"MC_iter{m+1}\"]]\n",
    "\n",
    "    # Find good galaxies for this pop\n",
    "    g_idxs = np.where((gal_coords[:,2] >= z_range[0]) & (gal_coords[:,2] <= z_range[1]))\n",
    "\n",
    "\n",
    "    # Create an instance\n",
    "    gp = GalPop(c20p[\"ID\"][g_idxs], gal_coords[g_idxs], c20p[\"lp_mass_med\"][g_idxs], verbose=False)\n",
    "\n",
    "    # Assign the peaks\n",
    "    gp.assignPeaks(sigs, sig_cube, sig_path, sig_sums, sig_folders, overwrite=True)\n",
    "\n",
    "    # Save file\n",
    "    gp.saveFile(f\"GalPops/MC_{m}.npy\")"
   ]
  },
  {
   "cell_type": "code",
   "execution_count": 21,
   "metadata": {},
   "outputs": [],
   "source": [
    "cosmos = fits.open(r\"C:\\Users\\sikor\\OneDrive\\Desktop\\BigData\\COSMOS2020\\COSMOS2020_CLASSIC_R1_v2.0.fits\")\n",
    "c20p = cosmos[1].data\n",
    "MCs = np.load(r\"C:/Users/sikor/OneDrive/Desktop/BigData/COSMOS2020/C20spec_MC_1000.npy\", allow_pickle=True)\n",
    "\n",
    "c20_sgals = np.take(c20p, MCs[\"ID\"]-1, axis=0)"
   ]
  },
  {
   "cell_type": "code",
   "execution_count": 22,
   "metadata": {},
   "outputs": [
    {
     "name": "stdout",
     "output_type": "stream",
     "text": [
      "(40298,)\n"
     ]
    }
   ],
   "source": [
    "g_idxs = np.where((c20_sgals[\"ALPHA_J2000\"] >= ra_range[0]) & (c20_sgals[\"ALPHA_J2000\"] <= ra_range[1])       # RA\n",
    "                & (c20_sgals[\"DELTA_J2000\"] >= dec_range[0]) & (c20_sgals[\"DELTA_J2000\"] <= dec_range[1])     # DEC\n",
    "                & ((c20_sgals[\"IRAC_CH1_MAG\"] <= IRAC_lim) | (c20_sgals[\"IRAC_CH2_MAG\"] <= IRAC_lim))) # IRAC\n",
    "\n",
    "\n",
    "c20_sgals = c20_sgals[g_idxs] # cosmos photometry\n",
    "MCs = MCs[g_idxs]   # MC iterations\n",
    "\n",
    "print(MCs.shape)"
   ]
  },
  {
   "cell_type": "code",
   "execution_count": 24,
   "metadata": {},
   "outputs": [
    {
     "name": "stdout",
     "output_type": "stream",
     "text": [
      "Updating voxel assignments (self.voxels)\n",
      "Finding peaks for sigma = 5.0\n",
      "Finding peaks for sigma = 4.0\n",
      "Finding peaks for sigma = 3.0\n",
      "Finding peaks for sigma = 2.0\n",
      "Updating voxel assignments (self.voxels)\n",
      "Finding peaks for sigma = 5.0\n",
      "Finding peaks for sigma = 4.0\n",
      "Finding peaks for sigma = 3.0\n",
      "Finding peaks for sigma = 2.0\n"
     ]
    }
   ],
   "source": [
    "# Create the galaxy coordinates for this iteration\n",
    "for sample in [\"zs\", \"zg\"]:\n",
    "\n",
    "    gal_coords = np.c_[c20_sgals[\"ALPHA_J2000\"], c20_sgals[\"DELTA_J2000\"], MCs[sample]]\n",
    "\n",
    "    # Find good galaxies for this pop\n",
    "    g_idxs = np.where((gal_coords[:,2] >= z_range[0]) & (gal_coords[:,2] <= z_range[1]))\n",
    "\n",
    "\n",
    "    # Create an instance\n",
    "    gp = GalPop(c20_sgals[\"ID\"][g_idxs], gal_coords[g_idxs], c20_sgals[\"lp_mass_med\"][g_idxs], verbose=True)\n",
    "\n",
    "    # Assign the peaks\n",
    "    gp.assignPeaks(sigs, sig_cube, sig_path, sig_sums, sig_folders, overwrite=True)\n",
    "\n",
    "    # Save file\n",
    "    gp.saveFile(f\"GalPops_spec/{sample}.npy\")"
   ]
  },
  {
   "cell_type": "code",
   "execution_count": 25,
   "metadata": {},
   "outputs": [
    {
     "data": {
      "application/vnd.jupyter.widget-view+json": {
       "model_id": "4e258e7b233546cbb7506f81a0ce71d3",
       "version_major": 2,
       "version_minor": 0
      },
      "text/plain": [
       "  0%|          | 0/1000 [00:00<?, ?it/s]"
      ]
     },
     "metadata": {},
     "output_type": "display_data"
    }
   ],
   "source": [
    "## Create GalPop Objects ##\n",
    "mc_iter = 1000     # Number of differnet redshifts to use\n",
    "sigs = [5.0, 4.0, 3.0, 2.0]\n",
    "sig_path = sigPath\n",
    "sig_sums = [f\"\\peaks_sig{s}.dat\" for s in sigs]\n",
    "sig_folders = [f\"\\sig{s}_peaks\" for s in sigs]\n",
    "\n",
    "\n",
    "# Create the galaxy coordinates for this iteration\n",
    "for m in tqdm(range(mc_iter)):\n",
    "\n",
    "    gal_coords = np.c_[c20_sgals[\"ALPHA_J2000\"], c20_sgals[\"DELTA_J2000\"], MCs[f\"MC_iter{m}\"]]\n",
    "\n",
    "    # Find good galaxies for this pop\n",
    "    g_idxs = np.where((gal_coords[:,2] >= z_range[0]) & (gal_coords[:,2] <= z_range[1]))\n",
    "\n",
    "\n",
    "    # Create an instance\n",
    "    gp = GalPop(c20_sgals[\"ID\"][g_idxs], gal_coords[g_idxs], c20_sgals[\"lp_mass_med\"][g_idxs], verbose=False)\n",
    "\n",
    "    # Assign the peaks\n",
    "    gp.assignPeaks(sigs, sig_cube, sig_path, sig_sums, sig_folders, overwrite=True)\n",
    "\n",
    "    # Save file\n",
    "    gp.saveFile(f\"GalPops_spec/MC_{m}.npy\")"
   ]
  },
  {
   "cell_type": "code",
   "execution_count": 4,
   "metadata": {},
   "outputs": [],
   "source": [
    "tester = GalPop()\n",
    "tester.loadFile(\"GalPops/MC_0.npy\")"
   ]
  },
  {
   "cell_type": "code",
   "execution_count": 6,
   "metadata": {},
   "outputs": [
    {
     "data": {
      "text/plain": [
       "60822"
      ]
     },
     "execution_count": 6,
     "metadata": {},
     "output_type": "execute_result"
    }
   ],
   "source": [
    "len(tester.ms)"
   ]
  },
  {
   "cell_type": "code",
   "execution_count": 16,
   "metadata": {},
   "outputs": [
    {
     "name": "stdout",
     "output_type": "stream",
     "text": [
      "Updating voxel assignments (self.voxels)\n",
      "Finding peaks for sigma = 4.0\n",
      "Finding peaks for sigma = 3.0\n",
      "Finding peaks for sigma = 2.0\n"
     ]
    }
   ],
   "source": [
    "## Assign Peak numbers for given sigma thresholds ##\n",
    "\n",
    "sigs = [5.0, 4.0, 3.0, 2.0]\n",
    "sig_path = sigPath\n",
    "sig_sums = [f\"\\peaks_sig{s}.dat\" for s in sigs]\n",
    "sig_folders = [f\"\\sig{s}_peaks\" for s in sigs]\n",
    "\n",
    "for gp in gal_pops:\n",
    "\n",
    "    gp.assignPeaks(sigs, sig_cube, sig_path, sig_sums, sig_folders, overwrite=True)"
   ]
  },
  {
   "cell_type": "code",
   "execution_count": 19,
   "metadata": {},
   "outputs": [],
   "source": [
    "gal_pops[0].saveFile(\"galpopTest.npy\")"
   ]
  },
  {
   "cell_type": "code",
   "execution_count": 4,
   "metadata": {},
   "outputs": [],
   "source": [
    "gal_pops = []\n",
    "g = GalPop()\n",
    "g.loadFile(\"galpopTest.npy\")\n",
    "gal_pops.append(g)"
   ]
  },
  {
   "cell_type": "code",
   "execution_count": 5,
   "metadata": {},
   "outputs": [],
   "source": [
    "### Create Sub populations ###\n",
    "sigs = [4.0, 3.0, 2.0]\n",
    "sig_path = sigPath\n",
    "sig_sums = [f\"\\peaks_sig{s}.dat\" for s in sigs]\n",
    "sig_folders = [f\"\\sig{s}_peaks\" for s in sigs]\n",
    "sig_sums = [\"\\peaks_sig4.0.dat\"] + sig_sums\n",
    "\n",
    "keys = [\"field\", \"o4\", \"o3\", \"o2\"]\n",
    "s_ranges = [[-99, 4.0], [4.0, np.inf], [3.0,np.inf], [2.0,np.inf]]\n",
    "z_ranges = [[2.,3.]] + 3*[[2.45,2.55]]\n",
    "cosmo = FlatLambdaCDM(H0=70, Om0=0.3)\n",
    "\n",
    "for gp in gal_pops:\n",
    "    for i, k in enumerate(keys):\n",
    "        gp.subPop(k, s_ranges[i], 13., [2.45, 2.55], sig_path, sig_sums[i], sig_cube, cosmo = cosmo, plot=\"./testingPlots/\")"
   ]
  },
  {
   "cell_type": "code",
   "execution_count": 6,
   "metadata": {},
   "outputs": [
    {
     "name": "stdout",
     "output_type": "stream",
     "text": [
      "{'field': 1088577.1812911765, 'o4': 6000.3796, 'o3': 24529.533100000004, 'o2': 139048.8584}\n"
     ]
    }
   ],
   "source": [
    "print(gal_pops[0].vols)"
   ]
  },
  {
   "cell_type": "code",
   "execution_count": 12,
   "metadata": {},
   "outputs": [],
   "source": [
    "### Create SMFs ###\n",
    "m_range = [9., 12.0, 0.5]\n",
    "gal_pops[0].SMF(keys, m_range)"
   ]
  },
  {
   "cell_type": "code",
   "execution_count": 13,
   "metadata": {},
   "outputs": [
    {
     "data": {
      "image/png": "[encoded data removed]",
      "text/plain": [
       "<Figure size 640x480 with 1 Axes>"
      ]
     },
     "metadata": {},
     "output_type": "display_data"
    }
   ],
   "source": [
    "labels = [\">4\", \">3\", \">2\"]\n",
    "gal_pops[0].SMF_plot(keys[1:], labels)"
   ]
  }
 ],
 "metadata": {
  "kernelspec": {
   "display_name": "py38",
   "language": "python",
   "name": "python3"
  },
  "language_info": {
   "codemirror_mode": {
    "name": "ipython",
    "version": 3
   },
   "file_extension": ".py",
   "mimetype": "text/x-python",
   "name": "python",
   "nbconvert_exporter": "python",
   "pygments_lexer": "ipython3",
   "version": "3.8.19"
  }
 },
 "nbformat": 4,
 "nbformat_minor": 2
}
