{
 "cells": [
  {
   "cell_type": "code",
   "execution_count": 1,
   "metadata": {},
   "outputs": [],
   "source": [
    "### Imports ###\n",
    "import numpy as np\n",
    "import matplotlib.pyplot as plt\n",
    "import matplotlib.gridspec as gridspec\n",
    "from astropy.io import fits\n",
    "from astropy.cosmology import FlatLambdaCDM\n",
    "from astropy import units as u\n",
    "import os\n",
    "from scipy.optimize import curve_fit\n",
    "cosmo = FlatLambdaCDM(H0=70, Om0=0.3)\n",
    "from GalPop import *\n",
    "from tqdm.notebook import tqdm"
   ]
  },
  {
   "cell_type": "code",
   "execution_count": 2,
   "metadata": {},
   "outputs": [],
   "source": [
    "### SET DATA LIMITS ###\n",
    "IRAC_lim = 26\n",
    "ra_range = (149.6, 150.52)  \n",
    "dec_range = (1.74, 2.73)\n",
    "z_range = (2., 3.)"
   ]
  },
  {
   "cell_type": "markdown",
   "metadata": {},
   "source": [
    "# Assign Peaks to C20p"
   ]
  },
  {
   "cell_type": "code",
   "execution_count": 3,
   "metadata": {},
   "outputs": [
    {
     "name": "stdout",
     "output_type": "stream",
     "text": [
      "Cosmos catalog = (1720700,)\n",
      "MCs = (1720700,)\n"
     ]
    }
   ],
   "source": [
    "### LOAD DATA ###\n",
    "# Cosmos data\n",
    "cosmos = fits.open(r\"C:\\Users\\sikor\\OneDrive\\Desktop\\BigData\\COSMOS2020\\COSMOS2020_CLASSIC_R1_v2.0.fits\")\n",
    "c20p = cosmos[1].data\n",
    "\n",
    "# MC iterations\n",
    "MCp = np.load(r\"C:\\Users\\sikor\\OneDrive\\Desktop\\BigData\\COSMOS2020\\C20_MC_250_0_redo.npy\")\n",
    "\n",
    "## Interpolated sigma cube\n",
    "sig_cube = fits.open(r\"C:\\Users\\sikor\\OneDrive\\Desktop\\benpy\\ThirdTry\\Hyperion_interpolated_cube_sigma.fits\")\n",
    "\n",
    "## Path for folders with .dat sigma files\n",
    "sigPath = r\"C:\\Users\\sikor\\OneDrive\\Desktop\\benpy\\HyperionPeaks\"\n",
    "\n",
    "print(f\"Cosmos catalog = {np.shape(c20p)}\")\n",
    "print(f\"MCs = {np.shape(MCp)}\")"
   ]
  },
  {
   "cell_type": "code",
   "execution_count": 4,
   "metadata": {},
   "outputs": [
    {
     "name": "stdout",
     "output_type": "stream",
     "text": [
      "Potentially good galaxies = (367677,)\n"
     ]
    }
   ],
   "source": [
    "## CUT DATA TO POTENTIALLY USABLE ##\n",
    "g_idxs = np.where((c20p[\"ALPHA_J2000\"] >= ra_range[0]) & (c20p[\"ALPHA_J2000\"] <= ra_range[1])       # RA\n",
    "                & (c20p[\"DELTA_J2000\"] >= dec_range[0]) & (c20p[\"DELTA_J2000\"] <= dec_range[1])     # DEC\n",
    "                & ((c20p[\"IRAC_CH1_MAG\"] <= IRAC_lim) | (c20p[\"IRAC_CH2_MAG\"] <= IRAC_lim)) # IRAC\n",
    "                & ((c20p[\"lp_type\"] == 0) | (c20p[\"lp_type\"] == 2)))        # LePhare type\n",
    "\n",
    "c20p = c20p[g_idxs] # cosmos photometry\n",
    "MCp = MCp[g_idxs]   # MC iterations\n",
    "\n",
    "print(f\"Potentially good galaxies = {np.shape(MCp)}\")"
   ]
  },
  {
   "cell_type": "code",
   "execution_count": 5,
   "metadata": {},
   "outputs": [],
   "source": [
    "## PEAKS FOR ORIGINAL SAMPLE ##\n",
    "\n",
    "sigs = [5.0, 4.0, 3.0, 2.0]\n",
    "sig_path = sigPath\n",
    "sig_sums = [f\"\\peaks_sig{s}.dat\" for s in sigs]\n",
    "sig_folders = [f\"\\sig{s}_peaks\" for s in sigs]\n",
    "\n",
    "# Create the galaxy coordinates for this iteration\n",
    "gal_coords = np.c_[c20p[\"ALPHA_J2000\"], c20p[\"DELTA_J2000\"], MCp[f\"lp_zPDF\"]]\n",
    "\n",
    "# Find good galaxies for this pop\n",
    "g_idxs = np.where((gal_coords[:,2] >= z_range[0]) & (gal_coords[:,2] <= z_range[1]))\n",
    "\n",
    "\n",
    "# Create an instance\n",
    "gp = GalPop(c20p[\"ID\"][g_idxs], gal_coords[g_idxs], c20p[\"lp_mass_med\"][g_idxs], verbose=False)\n",
    "\n",
    "# Assign the peaks\n",
    "gp.assignPeaks(sigs, sig_cube, sig_path, sig_sums, sig_folders, overwrite=True)\n",
    "\n",
    "# Save file\n",
    "gp.saveFile(f\"GalPops_phot/c20p.npy\")"
   ]
  },
  {
   "cell_type": "code",
   "execution_count": 6,
   "metadata": {},
   "outputs": [
    {
     "data": {
      "application/vnd.jupyter.widget-view+json": {
       "model_id": "db3f84c15320488a815ca23f66b20864",
       "version_major": 2,
       "version_minor": 0
      },
      "text/plain": [
       "  0%|          | 0/10 [00:00<?, ?it/s]"
      ]
     },
     "metadata": {},
     "output_type": "display_data"
    }
   ],
   "source": [
    "## Create GalPop Objects ##\n",
    "mc_iter = 10     # Number of differnet redshifts to use\n",
    "sigs = [5.0, 4.0, 3.0, 2.0]\n",
    "sig_path = sigPath\n",
    "sig_sums = [f\"\\peaks_sig{s}.dat\" for s in sigs]\n",
    "sig_folders = [f\"\\sig{s}_peaks\" for s in sigs]\n",
    "\n",
    "\n",
    "for m in tqdm(range(mc_iter)):\n",
    "\n",
    "    # Create the galaxy coordinates for this iteration\n",
    "    gal_coords = np.c_[c20p[\"ALPHA_J2000\"], c20p[\"DELTA_J2000\"], MCp[f\"MC_iter{m}\"]]\n",
    "\n",
    "    # Find good galaxies for this pop\n",
    "    g_idxs = np.where((gal_coords[:,2] >= z_range[0]) & (gal_coords[:,2] <= z_range[1]))\n",
    "\n",
    "\n",
    "    # Create an instance\n",
    "    gp = GalPop(c20p[\"ID\"][g_idxs], gal_coords[g_idxs], c20p[\"lp_mass_med\"][g_idxs], verbose=False)\n",
    "\n",
    "    # Assign the peaks\n",
    "    gp.assignPeaks(sigs, sig_cube, sig_path, sig_sums, sig_folders, overwrite=True)\n",
    "\n",
    "    # Save file\n",
    "    gp.saveFile(f\"GalPops_phot/MC_{m}.npy\")"
   ]
  },
  {
   "cell_type": "code",
   "execution_count": 7,
   "metadata": {},
   "outputs": [],
   "source": [
    "cosmos = fits.open(r\"C:\\Users\\sikor\\OneDrive\\Desktop\\BigData\\COSMOS2020\\COSMOS2020_CLASSIC_R1_v2.0.fits\")\n",
    "c20p = cosmos[1].data\n",
    "MCs = np.load(r\"C:/Users/sikor/OneDrive/Desktop/BigData/COSMOS2020/C20spec_MC_1000.npy\", allow_pickle=True)\n",
    "\n",
    "c20_sgals = np.take(c20p, MCs[\"ID\"]-1, axis=0)"
   ]
  },
  {
   "cell_type": "code",
   "execution_count": 8,
   "metadata": {},
   "outputs": [
    {
     "name": "stdout",
     "output_type": "stream",
     "text": [
      "(40298,)\n"
     ]
    }
   ],
   "source": [
    "g_idxs = np.where((c20_sgals[\"ALPHA_J2000\"] >= ra_range[0]) & (c20_sgals[\"ALPHA_J2000\"] <= ra_range[1])       # RA\n",
    "                & (c20_sgals[\"DELTA_J2000\"] >= dec_range[0]) & (c20_sgals[\"DELTA_J2000\"] <= dec_range[1])     # DEC\n",
    "                & ((c20_sgals[\"IRAC_CH1_MAG\"] <= IRAC_lim) | (c20_sgals[\"IRAC_CH2_MAG\"] <= IRAC_lim))) # IRAC\n",
    "\n",
    "\n",
    "c20_sgals = c20_sgals[g_idxs] # cosmos photometry\n",
    "MCs = MCs[g_idxs]   # MC iterations\n",
    "\n",
    "print(MCs.shape)"
   ]
  },
  {
   "cell_type": "code",
   "execution_count": 9,
   "metadata": {},
   "outputs": [
    {
     "name": "stdout",
     "output_type": "stream",
     "text": [
      "Updating voxel assignments (self.voxels)\n",
      "Updating overdensity values (self.ODs)\n",
      "Updating n_sigmas values (self.n_sigmas)\n",
      "Finding peaks for sigma = 5.0\n",
      "Finding peaks for sigma = 4.0\n",
      "Finding peaks for sigma = 3.0\n",
      "Finding peaks for sigma = 2.0\n",
      "Saved GalPop object to GalPops_spec/zs.npy, excluding []\n",
      "Updating voxel assignments (self.voxels)\n",
      "Updating overdensity values (self.ODs)\n",
      "Updating n_sigmas values (self.n_sigmas)\n",
      "Finding peaks for sigma = 5.0\n",
      "Finding peaks for sigma = 4.0\n",
      "Finding peaks for sigma = 3.0\n",
      "Finding peaks for sigma = 2.0\n",
      "Saved GalPop object to GalPops_spec/zg.npy, excluding []\n"
     ]
    }
   ],
   "source": [
    "# Create the galaxy coordinates for this iteration\n",
    "for sample in [\"zs\", \"zg\"]:\n",
    "\n",
    "    gal_coords = np.c_[c20_sgals[\"ALPHA_J2000\"], c20_sgals[\"DELTA_J2000\"], MCs[sample]]\n",
    "\n",
    "    # Find good galaxies for this pop\n",
    "    g_idxs = np.where((gal_coords[:,2] >= z_range[0]) & (gal_coords[:,2] <= z_range[1]))\n",
    "\n",
    "\n",
    "    # Create an instance\n",
    "    gp = GalPop(c20_sgals[\"ID\"][g_idxs], gal_coords[g_idxs], c20_sgals[\"lp_mass_med\"][g_idxs], verbose=True)\n",
    "\n",
    "    # Assign the peaks\n",
    "    gp.assignPeaks(sigs, sig_cube, sig_path, sig_sums, sig_folders, overwrite=True)\n",
    "\n",
    "    # Save file\n",
    "    gp.saveFile(f\"GalPops_spec/{sample}.npy\")"
   ]
  },
  {
   "cell_type": "code",
   "execution_count": 10,
   "metadata": {},
   "outputs": [],
   "source": [
    "## Create GalPop Objects ##\n",
    "mc_iter = 10     # Number of differnet redshifts to use\n",
    "sigs = [5.0, 4.0, 3.0, 2.0]\n",
    "sig_path = sigPath\n",
    "sig_sums = [f\"\\peaks_sig{s}.dat\" for s in sigs]\n",
    "sig_folders = [f\"\\sig{s}_peaks\" for s in sigs]\n",
    "\n",
    "\n",
    "# Create the galaxy coordinates for this iteration\n",
    "for m in range(mc_iter):\n",
    "\n",
    "\n",
    "    gal_coords = np.c_[c20_sgals[\"ALPHA_J2000\"], c20_sgals[\"DELTA_J2000\"], MCs[f\"MC_iter{m}\"]]\n",
    "\n",
    "    # Find good galaxies for this pop\n",
    "    g_idxs = np.where((gal_coords[:,2] >= z_range[0]) & (gal_coords[:,2] <= z_range[1]))\n",
    "\n",
    "\n",
    "    # Create an instance\n",
    "    gp = GalPop(c20_sgals[\"ID\"][g_idxs], gal_coords[g_idxs], c20_sgals[\"lp_mass_med\"][g_idxs], verbose=False)\n",
    "\n",
    "    # Assign the peaks\n",
    "    gp.assignPeaks(sigs, sig_cube, sig_path, sig_sums, sig_folders, overwrite=True)\n",
    "\n",
    "    # Save file\n",
    "    gp.saveFile(f\"GalPops_spec/MC_{m}.npy\")"
   ]
  },
  {
   "cell_type": "markdown",
   "metadata": {},
   "source": [
    "## Combine Populations"
   ]
  },
  {
   "cell_type": "code",
   "execution_count": 11,
   "metadata": {},
   "outputs": [],
   "source": [
    "ra_range = (149.6, 150.52)  \n",
    "dec_range = (1.74, 2.73)\n",
    "IRAC_cut = 25."
   ]
  },
  {
   "cell_type": "code",
   "execution_count": 12,
   "metadata": {},
   "outputs": [],
   "source": [
    "### PREP ###\n",
    "sig_cube = fits.open(r\"C:\\Users\\sikor\\OneDrive\\Desktop\\benpy\\ThirdTry\\Hyperion_interpolated_cube_sigma.fits\")\n",
    "\n",
    "sigs = [2.0, 3.0, 4.0]\n",
    "p_sums = []\n",
    "for s in sigs:\n",
    "    p_sums.append(np.genfromtxt(f\"HyperionPeaks_new/peaks_sig{s}.dat\", dtype=float))\n",
    "\n",
    "\n",
    "cosmos_file = fits.open(r\"C:/Users/sikor/OneDrive/Desktop/BigData/COSMOS2020/COSMOS2020_CLASSIC_R1_v2.0.fits\")\n",
    "c20p = cosmos_file[1].data"
   ]
  },
  {
   "cell_type": "code",
   "execution_count": 16,
   "metadata": {},
   "outputs": [
    {
     "data": {
      "application/vnd.jupyter.widget-view+json": {
       "model_id": "52d6b1fbc98644a3b297f25977fde1a8",
       "version_major": 2,
       "version_minor": 0
      },
      "text/plain": [
       "  0%|          | 0/250 [00:00<?, ?it/s]"
      ]
     },
     "metadata": {},
     "output_type": "display_data"
    },
    {
     "ename": "IndexError",
     "evalue": "index 5028 is out of bounds for axis 0 with size 5027",
     "output_type": "error",
     "traceback": [
      "\u001b[1;31m---------------------------------------------------------------------------\u001b[0m",
      "\u001b[1;31mIndexError\u001b[0m                                Traceback (most recent call last)",
      "Cell \u001b[1;32mIn[16], line 34\u001b[0m\n\u001b[0;32m     28\u001b[0m \u001b[38;5;66;03m# Find the objects which don't meet the specified criteria\u001b[39;00m\n\u001b[0;32m     29\u001b[0m b_ids \u001b[38;5;241m=\u001b[39m np\u001b[38;5;241m.\u001b[39mwhere((gals[\u001b[38;5;124m\"\u001b[39m\u001b[38;5;124mALPHA_J2000\u001b[39m\u001b[38;5;124m\"\u001b[39m] \u001b[38;5;241m<\u001b[39m\u001b[38;5;241m=\u001b[39m ra_range[\u001b[38;5;241m0\u001b[39m]) \u001b[38;5;241m|\u001b[39m (gals[\u001b[38;5;124m\"\u001b[39m\u001b[38;5;124mALPHA_J2000\u001b[39m\u001b[38;5;124m\"\u001b[39m] \u001b[38;5;241m>\u001b[39m\u001b[38;5;241m=\u001b[39m ra_range[\u001b[38;5;241m1\u001b[39m]) \u001b[38;5;66;03m# RA\u001b[39;00m\n\u001b[0;32m     30\u001b[0m             \u001b[38;5;241m|\u001b[39m (gals[\u001b[38;5;124m\"\u001b[39m\u001b[38;5;124mDELTA_J2000\u001b[39m\u001b[38;5;124m\"\u001b[39m] \u001b[38;5;241m<\u001b[39m\u001b[38;5;241m=\u001b[39m dec_range[\u001b[38;5;241m0\u001b[39m]) \u001b[38;5;241m|\u001b[39m (gals[\u001b[38;5;124m\"\u001b[39m\u001b[38;5;124mDELTA_J2000\u001b[39m\u001b[38;5;124m\"\u001b[39m] \u001b[38;5;241m>\u001b[39m\u001b[38;5;241m=\u001b[39m dec_range[\u001b[38;5;241m1\u001b[39m]) \u001b[38;5;66;03m# Dec\u001b[39;00m\n\u001b[0;32m     31\u001b[0m         \u001b[38;5;241m|\u001b[39m ((gals[\u001b[38;5;124m\"\u001b[39m\u001b[38;5;124mIRAC_CH1_MAG\u001b[39m\u001b[38;5;124m\"\u001b[39m] \u001b[38;5;241m>\u001b[39m IRAC_cut) \u001b[38;5;241m&\u001b[39m (gals[\u001b[38;5;124m\"\u001b[39m\u001b[38;5;124mIRAC_CH2_MAG\u001b[39m\u001b[38;5;124m\"\u001b[39m] \u001b[38;5;241m>\u001b[39m IRAC_cut))   )       \u001b[38;5;66;03m# IRAC cut\u001b[39;00m\n\u001b[1;32m---> 34\u001b[0m \u001b[43mnew_tot\u001b[49m\u001b[38;5;241;43m.\u001b[39;49m\u001b[43mdel_objs\u001b[49m\u001b[43m(\u001b[49m\u001b[43mnew_tot\u001b[49m\u001b[38;5;241;43m.\u001b[39;49m\u001b[43mIDs\u001b[49m\u001b[43m[\u001b[49m\u001b[43mb_ids\u001b[49m\u001b[43m]\u001b[49m\u001b[43m)\u001b[49m\n\u001b[0;32m     36\u001b[0m tot_pops\u001b[38;5;241m.\u001b[39mappend(new_tot)\n",
      "File \u001b[1;32mc:\\Users\\sikor\\OneDrive\\Desktop\\Research\\699_1\\GalPop.py:686\u001b[0m, in \u001b[0;36mGalPop.del_objs\u001b[1;34m(self, IDs)\u001b[0m\n\u001b[0;32m    683\u001b[0m \u001b[38;5;66;03m# Delete in non-empty iterables (excluding dictionaries)\u001b[39;00m\n\u001b[0;32m    684\u001b[0m \u001b[38;5;28;01mif\u001b[39;00m \u001b[38;5;28mself\u001b[39m\u001b[38;5;241m.\u001b[39misIt(self_attr) \u001b[38;5;129;01mand\u001b[39;00m (\u001b[38;5;28mlen\u001b[39m(self_attr)\u001b[38;5;241m!=\u001b[39m\u001b[38;5;241m0\u001b[39m):\n\u001b[1;32m--> 686\u001b[0m     \u001b[38;5;28msetattr\u001b[39m(\u001b[38;5;28mself\u001b[39m, attr, \u001b[43mnp\u001b[49m\u001b[38;5;241;43m.\u001b[39;49m\u001b[43mdelete\u001b[49m\u001b[43m(\u001b[49m\u001b[43mself_attr\u001b[49m\u001b[43m,\u001b[49m\u001b[43midxs\u001b[49m\u001b[43m,\u001b[49m\u001b[43m \u001b[49m\u001b[43maxis\u001b[49m\u001b[38;5;241;43m=\u001b[39;49m\u001b[38;5;241;43m0\u001b[39;49m\u001b[43m)\u001b[49m )\n\u001b[0;32m    688\u001b[0m \u001b[38;5;28;01melif\u001b[39;00m \u001b[38;5;28misinstance\u001b[39m(self_attr, \u001b[38;5;28mdict\u001b[39m):   \u001b[38;5;66;03m# attr is a dict\u001b[39;00m\n\u001b[0;32m    689\u001b[0m     temp_dict \u001b[38;5;241m=\u001b[39m {}\n",
      "File \u001b[1;32m<__array_function__ internals>:180\u001b[0m, in \u001b[0;36mdelete\u001b[1;34m(*args, **kwargs)\u001b[0m\n",
      "File \u001b[1;32mc:\\Users\\sikor\\Anaconda3\\envs\\py38\\lib\\site-packages\\numpy\\lib\\function_base.py:5180\u001b[0m, in \u001b[0;36mdelete\u001b[1;34m(arr, obj, axis)\u001b[0m\n\u001b[0;32m   5178\u001b[0m \u001b[38;5;28;01melse\u001b[39;00m:\n\u001b[0;32m   5179\u001b[0m     keep \u001b[38;5;241m=\u001b[39m ones(N, dtype\u001b[38;5;241m=\u001b[39m\u001b[38;5;28mbool\u001b[39m)\n\u001b[1;32m-> 5180\u001b[0m     \u001b[43mkeep\u001b[49m\u001b[43m[\u001b[49m\u001b[43mobj\u001b[49m\u001b[43m,\u001b[49m\u001b[43m]\u001b[49m \u001b[38;5;241m=\u001b[39m \u001b[38;5;28;01mFalse\u001b[39;00m\n\u001b[0;32m   5182\u001b[0m slobj[axis] \u001b[38;5;241m=\u001b[39m keep\n\u001b[0;32m   5183\u001b[0m new \u001b[38;5;241m=\u001b[39m arr[\u001b[38;5;28mtuple\u001b[39m(slobj)]\n",
      "\u001b[1;31mIndexError\u001b[0m: index 5028 is out of bounds for axis 0 with size 5027"
     ]
    }
   ],
   "source": [
    "### MAKE GAL POPS ###\n",
    "\n",
    "m_iter = 250            # Max iterations\n",
    "tot_pops = []           # Store total gal pops \n",
    "\n",
    "\n",
    "for m in tqdm(range(m_iter)):\n",
    "    # Load Photo\n",
    "    new_p = GalPop.loadFile(f\"GalPops_phot/MC_{m}.npy\")\n",
    "\n",
    "\n",
    "    # Load specs\n",
    "    new_s = GalPop.loadFile(f\"GalPops_spec/MC_{m}.npy\")\n",
    "\n",
    "\n",
    "\n",
    "    # Cut repeat gals from photos\n",
    "    pids = new_s.IDs   # IDs for the spectra\n",
    "    new_p.del_objs(pids)       # Delete the objects\n",
    "\n",
    "    # Combine\n",
    "    new_tot = new_s.combine(new_p)\n",
    "    \n",
    "    # Remove based on IRAC cut\n",
    "    c_idxs = new_tot.IDs.astype(int) - 1     # Get the indices of the cosmos ids in the new pop\n",
    "    gals = c20p[c_idxs]     # pull these galaxies from cosmos\n",
    "    \n",
    "    # Find the objects which don't meet the specified criteria\n",
    "    b_ids = np.where((gals[\"ALPHA_J2000\"] <= ra_range[0]) | (gals[\"ALPHA_J2000\"] >= ra_range[1]) # RA\n",
    "                | (gals[\"DELTA_J2000\"] <= dec_range[0]) | (gals[\"DELTA_J2000\"] >= dec_range[1]) # Dec\n",
    "            | ((gals[\"IRAC_CH1_MAG\"] > IRAC_cut) & (gals[\"IRAC_CH2_MAG\"] > IRAC_cut))   )       # IRAC cut\n",
    "\n",
    "\n",
    "    new_tot.del_objs(new_tot.IDs[b_ids])\n",
    "\n",
    "    tot_pops.append(new_tot)"
   ]
  },
  {
   "cell_type": "markdown",
   "metadata": {},
   "source": [
    "## Create subpopulations"
   ]
  },
  {
   "cell_type": "code",
   "execution_count": 17,
   "metadata": {},
   "outputs": [
    {
     "data": {
      "application/vnd.jupyter.widget-view+json": {
       "model_id": "1c62aa54921448bf8f3fff4716483862",
       "version_major": 2,
       "version_minor": 0
      },
      "text/plain": [
       "0it [00:00, ?it/s]"
      ]
     },
     "metadata": {},
     "output_type": "display_data"
    }
   ],
   "source": [
    "### TOT-Z ###\n",
    "pk_path = \"HyperionPeaks_new/\"\n",
    "pk_sums = [f\"peaks_sig{s}.dat\" for s in sigs]\n",
    "\n",
    "for idx, t in tqdm(enumerate(tot_pops)):\n",
    "\n",
    "    t.subPop(\"field1\", [-99, 4.0], 13. , [2.2, 2.3], pk_path, pk_sums[2], sig_cube, cosmo = cosmo, plot=f\"popPlots/tot_{idx}\")\n",
    "    t.subPop(\"field2\", [-99, 4.0], 13. , [2.65, 2.75], pk_path, pk_sums[2], sig_cube, cosmo = cosmo, plot=f\"popPlots/tot_{idx}\")\n",
    "\n",
    "    for si, sigma in enumerate(sigs):\n",
    "        t.subPop(f\"o{sigma}\", [sigma, np.inf], 13., [2.45, 2.55], pk_path, pk_sums[si], sig_cube, plot=f\"popPlots/tot_{idx}\")\n",
    "\n",
    "    t.saveFile(f\"GalPops_tot/MC_{idx}.npy\")"
   ]
  }
 ],
 "metadata": {
  "kernelspec": {
   "display_name": "py38",
   "language": "python",
   "name": "python3"
  },
  "language_info": {
   "codemirror_mode": {
    "name": "ipython",
    "version": 3
   },
   "file_extension": ".py",
   "mimetype": "text/x-python",
   "name": "python",
   "nbconvert_exporter": "python",
   "pygments_lexer": "ipython3",
   "version": "3.8.19"
  }
 },
 "nbformat": 4,
 "nbformat_minor": 2
}
