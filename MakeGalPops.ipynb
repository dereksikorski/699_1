{
 "cells": [
  {
   "cell_type": "markdown",
   "metadata": {},
   "source": [
    "<font size = 6><h1 align = center>Making Galaxy Populations </h1 ></font>      \n",
    "\n",
    "<font size = 4><h2 align = center> Derek Sikorski </font><h2>\n",
    "\n",
    "---\n",
    "---\n",
    "---\n"
   ]
  },
  {
   "cell_type": "markdown",
   "metadata": {},
   "source": [
    "<font size = 5><h1 align = center>File Summary</h1 ></font>      \n",
    "\n",
    "**Purpose:** \n",
    "This file is meant to construct galaxy population objects based off the the MCed data for Hyperion.\n",
    "\n",
    "**Outputs:**\n",
    "This file will output the final GalPop objects after some cuts have been made. Broadly speaking, the final GalPop objects should have:\n",
    "1. Galaxy locations (Ra, Dec, z)\n",
    "2. Magnitudes\n",
    "3. Physical properties from LePhare\n",
    "\n",
    "Note that halfway through the file I take an output and run LePhare on it, so the file cannot be run as a continuous Python script\n",
    "\n",
    "---\n",
    "---\n",
    "---\n"
   ]
  },
  {
   "cell_type": "code",
   "execution_count": 1,
   "metadata": {},
   "outputs": [],
   "source": [
    "import numpy as np\n",
    "import matplotlib.pyplot as plt\n",
    "from astropy.io import fits\n",
    "from tqdm.notebook import tqdm\n",
    "from GalPop import GalPop"
   ]
  },
  {
   "cell_type": "markdown",
   "metadata": {},
   "source": [
    "<font size = 6><h1 align = center>Loading Data </h1 ></font>      "
   ]
  },
  {
   "cell_type": "code",
   "execution_count": 3,
   "metadata": {},
   "outputs": [
    {
     "name": "stdout",
     "output_type": "stream",
     "text": [
      "C20 Catalog shape:  (1720700,)\n",
      "MC Catalog shape:  (1720700, 102)\n",
      "MC Choice Shape:  (43699, 102)\n"
     ]
    }
   ],
   "source": [
    "# COSMOS CATALOG\n",
    "cosmos_file = fits.open(r\"C:/Users/sikor/OneDrive/Desktop/BigData/COSMOS2020/COSMOS2020_CLASSIC_R1_v2.0.fits\")\n",
    "c20p = cosmos_file[1].data\n",
    "\n",
    "# MCed Redshifts\n",
    "MCzs = np.load(r\"C:/Users/sikor/OneDrive/Desktop/BigData/COSMOS2020/C20_tot100.npy\")\n",
    "MCchoice = np.load(r\"C:/Users/sikor/OneDrive/Desktop/BigData/COSMOS2020/C20_totChoice.npy\")\n",
    "\n",
    "print(\"C20 Catalog shape: \", c20p.shape)\n",
    "print(\"MC Catalog shape: \", MCzs.shape)\n",
    "print(\"MC Choice Shape: \", MCchoice.shape)"
   ]
  },
  {
   "cell_type": "markdown",
   "metadata": {},
   "source": [
    "---\n",
    "---\n",
    "---\n"
   ]
  },
  {
   "cell_type": "markdown",
   "metadata": {},
   "source": [
    "<font size = 6><h1 align = center>Pack Initial GalPops </h1 ></font>      "
   ]
  },
  {
   "cell_type": "markdown",
   "metadata": {},
   "source": [
    "The first step is to pack the GalPops with all of the COSMOS things. The masses for these objects will not be correct but will eventually be replaced in LePhare at some point in the code. So this initial step is simply packing GalPops according to some cuts"
   ]
  },
  {
   "cell_type": "code",
   "execution_count": 3,
   "metadata": {},
   "outputs": [
    {
     "data": {
      "application/vnd.jupyter.widget-view+json": {
       "model_id": "b9f025f8861c4ac0ad5bdefb283997ec",
       "version_major": 2,
       "version_minor": 0
      },
      "text/plain": [
       "  0%|          | 0/101 [00:00<?, ?it/s]"
      ]
     },
     "metadata": {},
     "output_type": "display_data"
    }
   ],
   "source": [
    "## Define Constraints ##\n",
    "ra_range = (149.6, 150.52)  \n",
    "dec_range = (1.74, 2.73)\n",
    "z_range = (2., 3.)\n",
    "IRAC_cut = 25.4\n",
    "lp_types = [0,2]\n",
    "\n",
    "# --------------------------------\n",
    "\n",
    "gps = []        # Where to store the galaxy populations\n",
    "\n",
    "\n",
    "# Loop through each MC noting col 1 is COSMOS_ID and col 2 is the non-MCed data\n",
    "for _mc in tqdm(range(1, MCzs.shape[1])):\n",
    "\n",
    "    # Constrain the galaxy sample\n",
    "    good_gals = np.where( \n",
    "                    (c20p[\"ALPHA_J2000\"] >= ra_range[0]) & (c20p[\"ALPHA_J2000\"] <= ra_range[1])       # RA Check\n",
    "                    & (c20p[\"DELTA_J2000\"] >= dec_range[0]) & (c20p[\"DELTA_J2000\"] <= dec_range[1])      # Dec Check\n",
    "                    & (MCzs[:,_mc] >= z_range[0]) & (MCzs[:,_mc] <= z_range[1])           # Redshift Check\n",
    "                    & ((c20p[\"IRAC_CH1_MAG\"] <= IRAC_cut) | (c20p[\"IRAC_CH2_MAG\"] <= IRAC_cut))  # Check either IRAC1 or IRAC2\n",
    "                    & (np.isin(c20p['lp_type'], lp_types))      # Check type\n",
    "                         )     \n",
    "    \n",
    "    gs = c20p[good_gals]        # Galaxy data from cosmos\n",
    "   # Create a mask for matching galaxy IDs in MCchoice\n",
    "    match_mask = np.isin(gs[\"ID\"], MCchoice[:, 0])\n",
    "\n",
    "    # Get indices where IDs match\n",
    "    matching_indices = np.searchsorted(MCchoice[:, 0], gs[\"ID\"], sorter=np.argsort(MCchoice[:, 0]))\n",
    "    valid_matches = MCchoice[:, 0][matching_indices] == gs[\"ID\"]\n",
    "\n",
    "    # Use matching_indices to get corresponding z values and set others to 0\n",
    "    z_type = np.zeros(len(gs), dtype=MCchoice[:, _mc].dtype)  # Preallocate\n",
    "    z_type[match_mask & valid_matches] = MCchoice[:, _mc][matching_indices[match_mask & valid_matches]]\n",
    "    \n",
    "    gpop = GalPop(IDs = gs[\"ID\"],\n",
    "                  coords = np.c_[gs['ALPHA_J2000'], gs[\"DELTA_J2000\"], MCzs[:,_mc][good_gals]],\n",
    "                  ms = gs['lp_mass_med'],\n",
    "                  obs_type= z_type,\n",
    "                  mags = {'IRAC':np.min(np.c_[gs[\"IRAC_CH1_MAG\"], gs[\"IRAC_CH2_MAG\"]], axis=1)}\n",
    "                  )\n",
    "    \n",
    "    gps.append(gpop)"
   ]
  },
  {
   "cell_type": "code",
   "execution_count": 4,
   "metadata": {},
   "outputs": [],
   "source": [
    "gp_folder = 'OldGPs/'\n",
    "\n",
    "for _id, gp in enumerate(gps):\n",
    "    gp.saveFile(gp_folder + f'MC_{_id}')"
   ]
  },
  {
   "cell_type": "markdown",
   "metadata": {},
   "source": [
    "Great, now we're ready to fit the masses..."
   ]
  },
  {
   "cell_type": "markdown",
   "metadata": {},
   "source": [
    "---\n",
    "---\n",
    "---\n"
   ]
  },
  {
   "cell_type": "markdown",
   "metadata": {},
   "source": [
    "<font size = 6><h1 align = center>Assigning Peaks </h1 ></font>      \n",
    "\n",
    "At this point, the masses should have been fit with LePhare and packed into a new folder. Thus, we just need to assign each galaxy to a peak number."
   ]
  },
  {
   "cell_type": "code",
   "execution_count": 2,
   "metadata": {},
   "outputs": [
    {
     "data": {
      "application/vnd.jupyter.widget-view+json": {
       "model_id": "43b70c2b7ac147cfa75ad1b793134807",
       "version_major": 2,
       "version_minor": 0
      },
      "text/plain": [
       "  0%|          | 0/101 [00:00<?, ?it/s]"
      ]
     },
     "metadata": {},
     "output_type": "display_data"
    }
   ],
   "source": [
    "## Load New GalPops ##\n",
    "new_gps = [f\"./LP_GalPops/MC_{idx}.npy\" for idx in range(0,101)]\n",
    "\n",
    "## Load Overdensity Info ##\n",
    "\n",
    "# Interpolated sigma cube\n",
    "sig_cube = fits.open(r\"C:\\Users\\sikor\\OneDrive\\Desktop\\benpy\\FinalTry\\Hyperion_interpolated_cube_sigma.fits\")\n",
    "\n",
    "# Path for folders with .dat sigma files\n",
    "sigPath = r\"C:\\Users\\sikor\\OneDrive\\Desktop\\BigData\\Hyperion\\HyperionPeaks\"\n",
    "\n",
    "# Define sigma information\n",
    "sigs = [2.0, 2.25, 2.3, 2.35, 2.4, 2.5, 3.0, 3.5, 4.0, 4.5, 5.0]\n",
    "sig_path = sigPath\n",
    "\n",
    "sig_sums = [sigPath + f\"\\peaks_sig{s}.dat\" for s in sigs]\n",
    "sig_folders = [sigPath+ f\"\\sig{s}_peaks\" for s in sigs]\n",
    "\n",
    "# Assign peaks to objects\n",
    "for _id, ngp in tqdm(enumerate(new_gps), total=len(new_gps)):\n",
    "\n",
    "    gp = GalPop.loadFile(ngp)\n",
    "    gp.assignPeaks(sigs, sig_cube, sig_sums, sig_folders, overwrite=True)\n",
    "    gp.saveFile(f\"Final_GPs/MC_{_id}\")"
   ]
  }
 ],
 "metadata": {
  "kernelspec": {
   "display_name": "py38",
   "language": "python",
   "name": "python3"
  },
  "language_info": {
   "codemirror_mode": {
    "name": "ipython",
    "version": 3
   },
   "file_extension": ".py",
   "mimetype": "text/x-python",
   "name": "python",
   "nbconvert_exporter": "python",
   "pygments_lexer": "ipython3",
   "version": "3.8.19"
  }
 },
 "nbformat": 4,
 "nbformat_minor": 2
}
