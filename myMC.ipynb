{
 "cells": [
  {
   "cell_type": "code",
   "execution_count": 2,
   "metadata": {},
   "outputs": [],
   "source": [
    "import numpy as np\n",
    "from scipy.stats import skewnorm\n",
    "import matplotlib.pyplot as plt\n",
    "from astropy.io import fits\n",
    "import os"
   ]
  },
  {
   "cell_type": "code",
   "execution_count": 3,
   "metadata": {},
   "outputs": [],
   "source": [
    "def MCz(niter, zs, qfs, z_range, MC_fn, plot_field=\"\", plot_zrange=\"\", verbose=False, **kwargs):\n",
    "    \"\"\"\n",
    "    Performs a Monte Carlo on the redshift distribution of input galaxies\n",
    "\n",
    "    INPUTS:\n",
    "        - niter (int)   = Number of MC iterations to run\n",
    "        - zs (array)    = List of median redshift values\n",
    "        - qfs (array)    = Quality flags that dictate the weights of the MC. Photoz's have qf=0\n",
    "        - z_range (array)   = Range of redshifts to keep\n",
    "        - MC_fun (fn)   = Python function used to generate the new redshift values for the galaxies\n",
    "        - plot_field (str)    = Path to the directory where plots should be saved. If left as \"\", then no plots are saved\n",
    "        - plot_zrange (str)    = Path to the directory where plots of galaxies in z_range should be saved.\n",
    "        - verbose (bool)    = If you want to print every 50 iterations as a progress report\n",
    "        - **kwargs = For the MC_fun\n",
    "        \n",
    "    OUTPUTS:\n",
    "        - (array) --> Indices in redshift array of objects falling in z_range at least once\n",
    "        - (array) --> 2D array of redshifts of shape (len(zs), niter)\n",
    "    \"\"\"\n",
    "    new_zs = [] # Fill with new redshifts\n",
    "\n",
    "    for n in range(niter):\n",
    "        if (verbose==True) and (n%50==0): print(n)\n",
    "        z_in = np.copy(zs)\n",
    "\n",
    "        # Set the MC weights based on the quality flags\n",
    "        weights = np.select( [(qfs>0)&(qfs%10==2), (qfs>0)&(qfs%10==9), (qfs>0)&(qfs%10==3), (qfs>0)&(qfs%10==4) ],\n",
    "                [0.7, 0.7, 0.993, 0.993],\n",
    "                default=0)\n",
    "\n",
    "        new_idxs = np.where( np.random.random(size=len(zs)) >= weights )     # Indices of zs that need to be replaced\n",
    "\n",
    "        nz = MC_fn(*kwargs.values())        # Generate the set of redshifts\n",
    "\n",
    "        z_in[new_idxs] = nz[new_idxs]    # Replace redshifts as dictated by the MC\n",
    "        new_zs.append(z_in)\n",
    "\n",
    "\n",
    "        if plot_field != \"\":\n",
    "            ### PLOT ###\n",
    "            fig, ax = plt.subplots()\n",
    "            bbox = dict(boxstyle='round', fc = \"white\", ec='k', alpha=0.5)\n",
    "            ax.hist(z_in, bins=np.arange(0,8,0.05))\n",
    "            ax.set_title(f\"Redshift Distribution of C20 -- (MC_iter {n})\")\n",
    "            ax.text(0.7,0.9, f\"# of Galaxies = {len(np.where((0 <=z_in) & (10>= z_in))[0])}\", fontsize=7, bbox=bbox, transform=ax.transAxes)\n",
    "            ax.set_xlabel(\"z\")\n",
    "            ax.set_ylabel(\"N\")\n",
    "            try:\n",
    "                fig.savefig(plot_field + f\"run_{n}\")\n",
    "            except:\n",
    "                os.mkdir(plot_field)\n",
    "                fig.savefig(plot_field + f\"run_{n}\")\n",
    "            plt.close()\n",
    "\n",
    "\n",
    "        if plot_zrange != \"\":\n",
    "            fig, ax = plt.subplots()\n",
    "            ax.hist(z_in, bins=np.arange(2,3,0.01))\n",
    "            ax.set_title(f\"Redshift Distribution of Field -- (MC_iter {n})\")\n",
    "            ax.text(0.7, 0.9, f\"# of Galaxies = {len(np.where((z_range[0] <=z_in) & (z_range[1]>= z_in))[0])}\", \n",
    "                    fontsize=7, bbox=bbox, transform=ax.transAxes)\n",
    "            ax.set_xlabel(\"z\")\n",
    "            ax.set_ylabel(\"N\")\n",
    "            try:\n",
    "                fig.savefig(plot_zrange + f\"run_{n}\")\n",
    "            except:\n",
    "                os.mkdir(plot_zrange)\n",
    "                fig.savefig(plot_zrange + f\"run_{n}\")\n",
    "            plt.close()\n",
    "\n",
    "\n",
    "\n",
    "    new_zs = np.array(new_zs)\n",
    "\n",
    "\n",
    "    ## Keep only galaxies that fell within correct z-range at least once ###\n",
    "    z_bool = ((z_range[0]< new_zs) & (new_zs < z_range[1])).any(axis=0)\n",
    "    good_idxs = np.where(z_bool)[0]     # Where the condition is met\n",
    "\n",
    "\n",
    "    return good_idxs, new_zs.transpose()"
   ]
  },
  {
   "cell_type": "code",
   "execution_count": 4,
   "metadata": {},
   "outputs": [],
   "source": [
    "def my_PDF(xs, l68, u68):\n",
    "    \"\"\"\n",
    "    PDFs to draw the new redshifts from. Skewed-normal based on the confidence interval from COSMOS2020\n",
    "\n",
    "    INPUTS:\n",
    "        - xs (array)    = Median redshift values\n",
    "        - l68 (array)   = Lower bound of the 68% confidence interval\n",
    "        - u68 (array)   = Upper bound of the 68% confidence interval\n",
    "    OUTPUTS:\n",
    "        - (array)   = New redshift values. redshifts <0 or unavailable are marked -99\n",
    "    \"\"\"\n",
    "    omega = np.sqrt((l68**2 + u68**2)/2)        # Scale of skew-normal  \n",
    "    alpha = ((np.pi/2)**0.5 * (u68-l68)) / np.sqrt(2*l68**2 + 2*u68**2 - np.pi*(u68-l68)**2/2)  # Skewness\n",
    "    bad_idxs = np.where((omega != omega) | (alpha != alpha) )   # Find nan's in either array\n",
    "\n",
    "    # Replace NaNs with 1 temporarily for calculation\n",
    "    alpha[bad_idxs] = 1     \n",
    "    omega[bad_idxs] = 1\n",
    "\n",
    "    z_vals = skewnorm.rvs(a=alpha, loc=xs, scale=omega) # Find new zs based on skew-normal\n",
    "    z_vals[bad_idxs] = np.nan  # Replace NaNs with -99\n",
    "    return z_vals"
   ]
  },
  {
   "cell_type": "markdown",
   "metadata": {},
   "source": [
    "----\n",
    "---\n",
    "---"
   ]
  },
  {
   "cell_type": "markdown",
   "metadata": {},
   "source": [
    "# MC C20 Photometry"
   ]
  },
  {
   "cell_type": "code",
   "execution_count": 5,
   "metadata": {},
   "outputs": [
    {
     "name": "stdout",
     "output_type": "stream",
     "text": [
      "Number of galaxies = 1720700\n",
      "Number of bad galaxies = 19258\n"
     ]
    }
   ],
   "source": [
    "## READ IN FILE ##\n",
    "cosmos_file = fits.open(r\"C:/Users/sikor/OneDrive/Desktop/BigData/COSMOS2020/COSMOS2020_CLASSIC_R1_v2.0.fits\")\n",
    "c20p = cosmos_file[1].data\n",
    "\n",
    "## FIND BAD GALAXIES ##\n",
    "bad_ids = np.where((np.isnan(c20p[\"lp_zPDF\"]) == True) |        # No redshift from lephare\n",
    "                   (np.isnan(c20p[\"lp_zPDF_l68\"]) == True) |    # No lower-68-percentile from lephare\n",
    "                   (np.isnan(c20p[\"lp_zPDF_u68\"]) == True))[0]  # no upper-68-percentile from lephare\n",
    "\n",
    "print(f\"Number of galaxies = {len(c20p)}\")\n",
    "print(f\"Number of bad galaxies = {len(bad_ids)}\")\n",
    "\n",
    "## INSERT TEMP DATA IN BAD IDs ##\n",
    "c20p[\"lp_zPDF\"][bad_ids] = 2\n",
    "c20p[\"lp_zPDF_l68\"][bad_ids] = 1.9\n",
    "c20p[\"lp_zPDF_u68\"][bad_ids] = 2.1"
   ]
  },
  {
   "cell_type": "code",
   "execution_count": 6,
   "metadata": {},
   "outputs": [
    {
     "name": "stdout",
     "output_type": "stream",
     "text": [
      "0\n",
      "50\n",
      "100\n",
      "150\n",
      "200\n"
     ]
    }
   ],
   "source": [
    "#### RUN THE MC ####\n",
    "# ========================================================\n",
    "# ========================================================\n",
    "for run in range(4):\n",
    "    niter = 250      # Number of iterations\n",
    "\n",
    "    z_range = [2,3]         # Redshift range for \n",
    "    plot_field = f\"./MC_iterations/c20p_total_{run}/\"\n",
    "    plot_zrange = f\"./MC_iterations/c20p_Hyper_{run}/\"\n",
    "\n",
    "    phot_med = c20p[\"lp_zPDF\"]\n",
    "    phot_l68 = phot_med - c20p[\"lp_zPDF_l68\"]\n",
    "    phot_u68 = c20p[\"lp_zPDF_u68\"] - phot_med\n",
    "\n",
    "    # ========================================================\n",
    "    # ========================================================\n",
    "    # ========================================================\n",
    "\n",
    "    ## MC ##\n",
    "    phot_ids, new_pzs = MCz(niter, phot_med, np.zeros(len(c20p)), z_range, my_PDF, plot_field,\n",
    "                        plot_zrange, verbose=True, xs = phot_med, l68 = phot_l68, u68 = phot_u68)\n",
    "\n",
    "    ## Update bad galaxies ##\n",
    "    new_pzs[bad_ids] = np.full(shape=(len(bad_ids), niter), fill_value=-99)\n",
    "\n",
    "    ## WRITE TO RESULT FILE ##\n",
    "\n",
    "    # Update dtypes\n",
    "    dtypes = [c20p.dtype.descr[0]] + [(f\"MC_iter{n}\", \">f8\") for n in range(niter)]\n",
    "\n",
    "    # Make array to fill\n",
    "    write_arr = np.zeros(shape=(len(c20p)), dtype=dtypes)\n",
    "\n",
    "    write_arr[\"ID\"] = c20p[\"ID\"]\n",
    "    for n in range(niter):\n",
    "        write_arr[f\"MC_iter{n}\"] = new_pzs[:,n]\n",
    "\n",
    "    np.save(rf\"C:/Users/sikor/OneDrive/Desktop/BigData/COSMOS2020/C20_MC_250_{run}.npy\", write_arr)"
   ]
  },
  {
   "cell_type": "markdown",
   "metadata": {},
   "source": [
    "---"
   ]
  },
  {
   "cell_type": "markdown",
   "metadata": {},
   "source": [
    "# MC C20 Spectra"
   ]
  },
  {
   "cell_type": "code",
   "execution_count": 11,
   "metadata": {},
   "outputs": [
    {
     "name": "stdout",
     "output_type": "stream",
     "text": [
      "Number of C20 spectra: 42776\n",
      "Number of missing spectra: 2562\n"
     ]
    }
   ],
   "source": [
    "## LOAD THE SPECTRA FILE ##\n",
    "specz_cat = np.loadtxt(\"./Data/master_specz_COSMOS_BF_v4b.cat\", dtype=object)   # Load in the data\n",
    "# Fix up the formatting for the spec data-file:\n",
    "new_array = []\n",
    "for idx in range(specz_cat.shape[1]):\n",
    "    try:\n",
    "        col = specz_cat[:,idx].astype(np.float32)\n",
    "    except:\n",
    "        col = specz_cat[:,idx]\n",
    "    new_array.append(col)\n",
    "\n",
    "c20s = np.array(new_array, dtype=object)\n",
    "c20s = np.transpose(c20s)\n",
    "\n",
    "miss_spec = np.where(c20s[:,0] == -99)[0]   # spectra not in the cosmos catalog\n",
    "\n",
    "print(f\"Number of C20 spectra: {c20s.shape[0]}\")\n",
    "print(f\"Number of missing spectra: {len(miss_spec)}\")"
   ]
  },
  {
   "cell_type": "code",
   "execution_count": 12,
   "metadata": {},
   "outputs": [
    {
     "name": "stdout",
     "output_type": "stream",
     "text": [
      "Number of bad p(z)'s for specta: 2562\n"
     ]
    }
   ],
   "source": [
    "## Pack parameters of spectra from cosmos catalog ##\n",
    "bad_spec = [] # where parameters have a nan\n",
    "gal_params = []\n",
    "for s_id, c_id in enumerate(c20s[:,0].astype(int)):\n",
    "\n",
    "    if c_id == -99:     # Not a cosmos object\n",
    "        bad_spec.append(s_id)\n",
    "        gal_params.append([2, 1.9, 2.1])    # make up temporary parameters\n",
    "\n",
    "    else:   # It is a cosmos object\n",
    "        med = c20p[\"lp_zPDF\"][c_id-1]\n",
    "        l68 = c20p[\"lp_zPDF_l68\"][c_id-1]\n",
    "        u68 = c20p[\"lp_zPDF_u68\"][c_id-1]\n",
    "\n",
    "\n",
    "        if (med != med) or (l68 != l68) or (u68 != u68):   # p(z) contains a NaN\n",
    "            bad_spec.append(s_id)\n",
    "            gal_params.append([2, 1.9, 2.1])    # make up temporary parameters\n",
    "\n",
    "        else:\n",
    "            gal_params.append([med, l68, u68])\n",
    "\n",
    "gal_params = np.array(gal_params)\n",
    "bad_spec = np.array(bad_spec)\n",
    "print(f\"Number of bad p(z)'s for specta: {len(bad_spec)}\")"
   ]
  },
  {
   "cell_type": "code",
   "execution_count": 13,
   "metadata": {},
   "outputs": [
    {
     "name": "stdout",
     "output_type": "stream",
     "text": [
      "0\n",
      "50\n",
      "100\n",
      "150\n",
      "200\n",
      "250\n",
      "300\n",
      "350\n",
      "400\n",
      "450\n",
      "500\n",
      "550\n",
      "600\n",
      "650\n",
      "700\n",
      "750\n",
      "800\n",
      "850\n",
      "900\n",
      "950\n"
     ]
    }
   ],
   "source": [
    "#### RUN THE MC ####\n",
    "# ========================================================\n",
    "# ========================================================\n",
    "niter = 1000      # Number of iterations\n",
    "\n",
    "z_range = [2,3]         # Redshift range for \n",
    "plot_field = \"./MC_iterations/c20s_total/\"\n",
    "plot_zrange = \"./MC_iterations/c20s_Hyper/\"\n",
    "\n",
    "spec_z = c20s[:,11]         # orginal spec-z\n",
    "spec_med = gal_params[:,0]  # parameters for the p(z)\n",
    "spec_l68 = gal_params[:,1]\n",
    "spec_u68 = gal_params[:,2]\n",
    "\n",
    "# ========================================================\n",
    "# ========================================================\n",
    "# ========================================================\n",
    "\n",
    "## MC ##\n",
    "spec_ids, new_szs = MCz(niter, spec_z, c20s[:,13], z_range, my_PDF, plot_field,\n",
    "                    plot_zrange, verbose=True, xs = spec_med, l68 = spec_l68, u68 = spec_u68)\n",
    "\n",
    "## Update bad galaxies ##\n",
    "new_szs[bad_spec] = np.full(shape=(len(bad_spec), niter), fill_value=-99)\n",
    "\n",
    "## WRITE TO RESULT FILE ##\n",
    "\n",
    "# Update dtypes\n",
    "dtypes = [c20p.dtype.descr[0]] + [(f\"MC_iter{n}\", \">f8\") for n in range(niter)]\n",
    "\n",
    "# Make array to fill\n",
    "write_arr = np.zeros(shape=(len(c20s)), dtype=dtypes)\n",
    "\n",
    "write_arr[\"ID\"] = c20s[:,0]\n",
    "for n in range(niter):\n",
    "    write_arr[f\"MC_iter{n}\"] = new_szs[:,n]\n",
    "\n",
    "np.save(r\"C:/Users/sikor/OneDrive/Desktop/BigData/COSMOS2020/C20_spec_MC_1000.npy\", write_arr)"
   ]
  },
  {
   "cell_type": "markdown",
   "metadata": {},
   "source": [
    "---"
   ]
  },
  {
   "cell_type": "markdown",
   "metadata": {},
   "source": [
    "# MC Grizli Spectra"
   ]
  },
  {
   "cell_type": "code",
   "execution_count": 3,
   "metadata": {},
   "outputs": [
    {
     "name": "stdout",
     "output_type": "stream",
     "text": [
      "Number of C20 spectra: 12764\n",
      "Number of missing spectra: 53\n"
     ]
    }
   ],
   "source": [
    "## LOAD THE SPECTRA FILE ##\n",
    "griz_cat = np.loadtxt(\"./Data/HST_Hyp.v1.1.cat\", skiprows=1, usecols=range(15), dtype=object)   # Load in the data\n",
    "# Fix up the formatting for the spec data-file:\n",
    "new_array = []\n",
    "for idx in range(griz_cat.shape[1]):\n",
    "    try:\n",
    "        col = griz_cat[:,idx].astype(np.float32)\n",
    "    except:\n",
    "        col = griz_cat[:,idx]\n",
    "    new_array.append(col)\n",
    "\n",
    "griz = np.array(new_array, dtype=object)\n",
    "griz = np.transpose(griz)\n",
    "\n",
    "miss_griz = np.where(griz[:,4] == -99)[0]   # spectra not in the cosmos catalog\n",
    "\n",
    "print(f\"Number of C20 spectra: {griz.shape[0]}\")\n",
    "print(f\"Number of missing spectra: {len(miss_griz)}\")"
   ]
  },
  {
   "cell_type": "code",
   "execution_count": 28,
   "metadata": {},
   "outputs": [
    {
     "name": "stdout",
     "output_type": "stream",
     "text": [
      "Number of bad p(z)'s for specta: 53\n"
     ]
    }
   ],
   "source": [
    "## Pack parameters of spectra from cosmos catalog ##\n",
    "bad_griz = [] # where parameters have a nan\n",
    "griz_params = []\n",
    "for g_id, c_id in enumerate(griz[:,4].astype(int)):\n",
    "\n",
    "    if c_id == -99:     # Not a cosmos object\n",
    "        bad_griz.append(g_id)\n",
    "        griz_params.append([2, 1.9, 2.1])    # make up temporary parameters\n",
    "\n",
    "    else:   # It is a cosmos object\n",
    "        med = c20p[\"lp_zPDF\"][c_id-1]\n",
    "        l68 = c20p[\"lp_zPDF_l68\"][c_id-1]\n",
    "        u68 = c20p[\"lp_zPDF_u68\"][c_id-1]\n",
    "\n",
    "\n",
    "        if (med != med) or (l68 != l68) or (u68 != u68):   # p(z) contains a NaN\n",
    "            bad_griz.append(g_id)\n",
    "            griz_params.append([2, 1.9, 2.1])    # make up temporary parameters\n",
    "\n",
    "        else:\n",
    "            griz_params.append([med, l68, u68])\n",
    "\n",
    "griz_params = np.array(griz_params)\n",
    "bad_griz = np.array(bad_griz)\n",
    "print(f\"Number of bad p(z)'s for specta: {len(bad_griz)}\")"
   ]
  },
  {
   "cell_type": "code",
   "execution_count": 29,
   "metadata": {},
   "outputs": [
    {
     "name": "stdout",
     "output_type": "stream",
     "text": [
      "0\n",
      "50\n",
      "100\n",
      "150\n",
      "200\n",
      "250\n",
      "300\n",
      "350\n",
      "400\n",
      "450\n",
      "500\n",
      "550\n",
      "600\n",
      "650\n",
      "700\n",
      "750\n",
      "800\n",
      "850\n",
      "900\n",
      "950\n"
     ]
    }
   ],
   "source": [
    "#### RUN THE MC ####\n",
    "# ========================================================\n",
    "# ========================================================\n",
    "niter = 1000      # Number of iterations\n",
    "\n",
    "z_range = [2,3]         # Redshift range for \n",
    "plot_field = \"./MC_iterations/griz_total/\"\n",
    "plot_zrange = \"./MC_iterations/griz_Hyper/\"\n",
    "\n",
    "griz_z = griz[:,12]         # orginal spec-z\n",
    "griz_med = griz_params[:,0]  # parameters for the p(z)\n",
    "griz_l68 = griz_params[:,1]\n",
    "griz_u68 = griz_params[:,2]\n",
    "\n",
    "# ========================================================\n",
    "# ========================================================\n",
    "# ========================================================\n",
    "\n",
    "## MC ##\n",
    "griz_ids, new_gzs = MCz(niter, griz_z, griz[:,-1], z_range, my_PDF, plot_field,\n",
    "                    plot_zrange, verbose=True, xs = spec_med, l68 = spec_l68, u68 = spec_u68)\n",
    "\n",
    "## Update bad galaxies ##\n",
    "new_gzs[bad_griz] = np.full(shape=(len(bad_griz), niter), fill_value=-99)\n",
    "\n",
    "## WRITE TO RESULT FILE ##\n",
    "\n",
    "# Update dtypes\n",
    "dtypes = [c20p.dtype.descr[0]] + [(f\"MC_iter{n}\", \">f8\") for n in range(niter)]\n",
    "\n",
    "# Make array to fill\n",
    "write_arr = np.zeros(shape=(len(griz)), dtype=dtypes)\n",
    "\n",
    "write_arr[\"ID\"] = griz[:,0]\n",
    "for n in range(niter):\n",
    "    write_arr[f\"MC_iter{n}\"] = new_gzs[:,n]\n",
    "\n",
    "np.save(r\"C:/Users/sikor/OneDrive/Desktop/BigData/COSMOS2020/grizli_MC_1000.npy\", write_arr)"
   ]
  },
  {
   "cell_type": "markdown",
   "metadata": {},
   "source": [
    "---\n",
    "---\n",
    "---"
   ]
  }
 ],
 "metadata": {
  "kernelspec": {
   "display_name": "py38",
   "language": "python",
   "name": "python3"
  },
  "language_info": {
   "codemirror_mode": {
    "name": "ipython",
    "version": 3
   },
   "file_extension": ".py",
   "mimetype": "text/x-python",
   "name": "python",
   "nbconvert_exporter": "python",
   "pygments_lexer": "ipython3",
   "version": "3.8.19"
  }
 },
 "nbformat": 4,
 "nbformat_minor": 2
}
