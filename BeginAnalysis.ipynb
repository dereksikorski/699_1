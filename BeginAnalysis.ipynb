{
 "cells": [
  {
   "cell_type": "code",
   "execution_count": 1,
   "metadata": {},
   "outputs": [],
   "source": [
    "### Imports ###\n",
    "import numpy as np\n",
    "import matplotlib.pyplot as plt\n",
    "import matplotlib.gridspec as gridspec\n",
    "from astropy.io import fits\n",
    "from astropy.cosmology import FlatLambdaCDM\n",
    "from astropy import units as u\n",
    "import os\n",
    "from scipy.optimize import curve_fit\n",
    "cosmo = FlatLambdaCDM(H0=70, Om0=0.3)\n",
    "from GalPop import *\n",
    "from tqdm.notebook import tqdm"
   ]
  },
  {
   "cell_type": "code",
   "execution_count": 2,
   "metadata": {},
   "outputs": [],
   "source": [
    "p0 = GalPop()\n",
    "p0.loadFile(\"GalPops_phot/MC_0.npy\")\n",
    "\n",
    "s0 = GalPop()\n",
    "s0.loadFile(\"GalPops_spec/MC_0.npy\")"
   ]
  },
  {
   "cell_type": "code",
   "execution_count": 31,
   "metadata": {},
   "outputs": [
    {
     "name": "stdout",
     "output_type": "stream",
     "text": [
      "5005\n",
      "5026\n"
     ]
    }
   ],
   "source": [
    "print(len(np.unique(s0.IDs)))\n",
    "print(len(s0.IDs))\n",
    "test = np.delete(s0.IDs, np.unique(s0.IDs, return_index=True)[1])"
   ]
  },
  {
   "cell_type": "code",
   "execution_count": null,
   "metadata": {},
   "outputs": [],
   "source": [
    "print(len(griz[:,4]))\n",
    "print(len(np.unique(griz[:,4])))"
   ]
  },
  {
   "cell_type": "code",
   "execution_count": 33,
   "metadata": {},
   "outputs": [
    {
     "name": "stdout",
     "output_type": "stream",
     "text": [
      "(array([1718, 1719], dtype=int64),)\n"
     ]
    }
   ],
   "source": [
    "print(np.where(s0.IDs==707902))"
   ]
  },
  {
   "cell_type": "code",
   "execution_count": 32,
   "metadata": {},
   "outputs": [
    {
     "name": "stdout",
     "output_type": "stream",
     "text": [
      "[ 707902.  759469.  827530.  839622.  852381.  852381.  858437.  861401.\n",
      "  862333.  867648.  873367.  902379.  912121.  913218.  913218.  917548.\n",
      "  941095.  941998. 1011161. 1062831. 1139457.]\n"
     ]
    }
   ],
   "source": [
    "print(test)"
   ]
  },
  {
   "cell_type": "code",
   "execution_count": 21,
   "metadata": {},
   "outputs": [],
   "source": [
    "unique_ids = np.where(np.in1d(p0.IDs, s0.IDs))[0]       # Find where photozs are in spec catalog\n",
    "\n",
    "p0.IDs = np.delete(p0.IDs, unique_ids)\n",
    "p0.coords = np.delete(p0.coords, unique_ids, axis=0)\n",
    "p0.ms = np.delete(p0.ms, unique_ids)"
   ]
  },
  {
   "cell_type": "code",
   "execution_count": 22,
   "metadata": {},
   "outputs": [],
   "source": [
    "mc0 = s0.combine(p0)"
   ]
  },
  {
   "cell_type": "code",
   "execution_count": 23,
   "metadata": {},
   "outputs": [
    {
     "data": {
      "text/plain": [
       "array([ 335981.,  338768.,  339611., ..., 1380576., 1380578., 1380611.])"
      ]
     },
     "execution_count": 23,
     "metadata": {},
     "output_type": "execute_result"
    }
   ],
   "source": [
    "mc0.IDs"
   ]
  },
  {
   "cell_type": "code",
   "execution_count": 26,
   "metadata": {},
   "outputs": [
    {
     "name": "stdout",
     "output_type": "stream",
     "text": [
      "61821\n",
      "61800\n",
      "0\n"
     ]
    }
   ],
   "source": [
    "print(len(mc0.IDs))\n",
    "print(len(np.unique(mc0.IDs)))\n",
    "print(len(np.where(mc0.IDs==-99)[0]))"
   ]
  },
  {
   "cell_type": "code",
   "execution_count": 15,
   "metadata": {},
   "outputs": [
    {
     "name": "stdout",
     "output_type": "stream",
     "text": [
      "5026\n"
     ]
    }
   ],
   "source": [
    "print(len(s0.IDs))"
   ]
  }
 ],
 "metadata": {
  "kernelspec": {
   "display_name": "py38",
   "language": "python",
   "name": "python3"
  },
  "language_info": {
   "codemirror_mode": {
    "name": "ipython",
    "version": 3
   },
   "file_extension": ".py",
   "mimetype": "text/x-python",
   "name": "python",
   "nbconvert_exporter": "python",
   "pygments_lexer": "ipython3",
   "version": "3.8.19"
  }
 },
 "nbformat": 4,
 "nbformat_minor": 2
}
