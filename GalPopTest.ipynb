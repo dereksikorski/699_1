{
 "cells": [
  {
   "cell_type": "code",
   "execution_count": 1,
   "metadata": {},
   "outputs": [],
   "source": [
    "### Imports ###\n",
    "import numpy as np\n",
    "import matplotlib.pyplot as plt\n",
    "import matplotlib.gridspec as gridspec\n",
    "from astropy.io import fits\n",
    "from astropy.cosmology import FlatLambdaCDM\n",
    "from astropy import units as u\n",
    "import os\n",
    "from scipy.optimize import curve_fit\n",
    "cosmo = FlatLambdaCDM(H0=70, Om0=0.3)\n",
    "from GalPop import *"
   ]
  },
  {
   "cell_type": "code",
   "execution_count": 2,
   "metadata": {},
   "outputs": [],
   "source": [
    "c20p = np.load(r\"C:\\Users\\sikor\\OneDrive\\Desktop\\BigData\\Hyperion\\Hyperion_C20_phot_noOD.npy\", allow_pickle=True)\n",
    "\n",
    "## Interpolated sigma cube\n",
    "sig_cube = fits.open(r\"C:\\Users\\sikor\\OneDrive\\Desktop\\benpy\\ThirdTry\\Hyperion_interpolated_cube_sigma.fits\")\n",
    "\n",
    "## Path for folders with .dat sigma files\n",
    "sigPath = r\"C:\\Users\\sikor\\OneDrive\\Desktop\\benpy\\HyperionPeaks\""
   ]
  },
  {
   "cell_type": "code",
   "execution_count": 3,
   "metadata": {},
   "outputs": [],
   "source": [
    "gal_coords = np.c_[c20p[\"ALPHA_J2000\"], c20p[\"DELTA_J2000\"], c20p[\"lp_zPDF\"]]\n",
    "masses = c20p[\"lp_mass_med\"]\n",
    "\n",
    "test = GalPop(gal_coords, masses, verbose=True)"
   ]
  },
  {
   "cell_type": "code",
   "execution_count": 5,
   "metadata": {},
   "outputs": [
    {
     "name": "stdout",
     "output_type": "stream",
     "text": [
      "Finding peaks for sigma = 4.0\n",
      "Finding peaks for sigma = 3.0\n",
      "Finding peaks for sigma = 2.0\n"
     ]
    }
   ],
   "source": [
    "sigs = [4.0, 3.0, 2.0]\n",
    "sig_path = sigPath\n",
    "sig_sums = [f\"\\peaks_sig{s}.dat\" for s in sigs]\n",
    "sig_folders = [f\"\\sig{s}_peaks\" for s in sigs]\n",
    "\n",
    "test.assignPeaks(sigs, sig_cube, sig_path, sig_sums, sig_folders, overwrite=True)"
   ]
  },
  {
   "cell_type": "code",
   "execution_count": 6,
   "metadata": {},
   "outputs": [],
   "source": [
    "test.saveFile(\"test.npy\")"
   ]
  },
  {
   "cell_type": "code",
   "execution_count": 7,
   "metadata": {},
   "outputs": [],
   "source": [
    "test2 = GalPop()"
   ]
  },
  {
   "cell_type": "code",
   "execution_count": 8,
   "metadata": {},
   "outputs": [],
   "source": [
    "test2.loadFile(\"test.npy\")"
   ]
  }
 ],
 "metadata": {
  "kernelspec": {
   "display_name": "py38",
   "language": "python",
   "name": "python3"
  },
  "language_info": {
   "codemirror_mode": {
    "name": "ipython",
    "version": 3
   },
   "file_extension": ".py",
   "mimetype": "text/x-python",
   "name": "python",
   "nbconvert_exporter": "python",
   "pygments_lexer": "ipython3",
   "version": "3.8.19"
  }
 },
 "nbformat": 4,
 "nbformat_minor": 2
}
