{
 "cells": [
  {
   "cell_type": "markdown",
   "metadata": {},
   "source": [
    "<font size = 6><h1 align = center>Monte Carlo Fun </h1 ></font>      \n",
    "\n",
    "<font size = 4><h2 align = center> Derek Sikorski </font><h2>\n",
    "\n",
    "---\n",
    "---\n",
    "---\n"
   ]
  },
  {
   "cell_type": "markdown",
   "metadata": {},
   "source": [
    "<font size = 5><h1 align = center>File Summary</h1 ></font>      \n",
    "\n",
    "**Purpose:** \n",
    "This file is meant to handle MCing data used for the Hyperion SMF project. The data broadly includes:\n",
    "1. COSMOS2020 photometry\n",
    "2. Assorted ground-based spectroscopy\n",
    "3. HST grism data\n",
    "\n",
    "**Outputs:**\n",
    "This code produces two separate catalogs of MCed redshifts. One is for the COSMOS photometry while the other is for any other is for any other assortment of observations. The logic is that the photoz's are drawn completely randomly for all galaxies in the sample whereas the galaxies with other observations maybe be chosen by a variety of functions. Therefore, it is easiest to simply replace the redshifts of the galaxies with extra observations in place.\n",
    "\n",
    "**General Logic:**\n"
   ]
  },
  {
   "cell_type": "markdown",
   "metadata": {},
   "source": [
    "---\n",
    "---\n",
    "---"
   ]
  },
  {
   "cell_type": "code",
   "execution_count": 9,
   "metadata": {},
   "outputs": [],
   "source": [
    "import numpy as np\n",
    "from scipy.stats import skewnorm\n",
    "from scipy.optimize import minimize\n",
    "import matplotlib.pyplot as plt\n",
    "from astropy.io import fits\n",
    "import os\n",
    "from tqdm.notebook import tqdm"
   ]
  },
  {
   "cell_type": "markdown",
   "metadata": {},
   "source": [
    "<font size = 6><h1 align = center>Loading Data </h1 ></font>      "
   ]
  },
  {
   "cell_type": "markdown",
   "metadata": {},
   "source": [
    "**COSMOS 2020**"
   ]
  },
  {
   "cell_type": "code",
   "execution_count": 10,
   "metadata": {},
   "outputs": [
    {
     "name": "stdout",
     "output_type": "stream",
     "text": [
      "C20 Catalog shape:  (1720700,)\n",
      "C20 PDF shape:  (1720701, 1002)\n",
      "\n",
      "Redshift dist:  [  nan  0.    0.01 ...  9.98  9.99 10.  ]\n"
     ]
    }
   ],
   "source": [
    "# COSMOS CATALOG\n",
    "cosmos_file = fits.open(r\"C:/Users/sikor/OneDrive/Desktop/BigData/COSMOS2020/COSMOS2020_CLASSIC_R1_v2.0.fits\")\n",
    "c20p = cosmos_file[1].data\n",
    "\n",
    "# COSMOS PDFs\n",
    "pdf_file = fits.open(r\"C:\\Users\\sikor\\OneDrive\\Desktop\\BigData\\COSMOS2020\\COSMOS2020_CLASSIC_R1_v2.2_LEPHARE_PZ_p3.fits\")\n",
    "c20_pdfs = pdf_file[0].data\n",
    "\n",
    "print(\"C20 Catalog shape: \", c20p.shape)\n",
    "print(\"C20 PDF shape: \", c20_pdfs.shape)\n",
    "print(\"\\nRedshift dist: \", c20_pdfs[0])"
   ]
  },
  {
   "cell_type": "markdown",
   "metadata": {},
   "source": [
    "**Ground-based Spec**"
   ]
  },
  {
   "cell_type": "code",
   "execution_count": 11,
   "metadata": {},
   "outputs": [
    {
     "name": "stdout",
     "output_type": "stream",
     "text": [
      "GB-spectra shape:  (42776, 32)\n",
      "Spec of COSMOS objects:  40214\n",
      "Unmatched spectra:  2562\n"
     ]
    }
   ],
   "source": [
    "# Load catalog\n",
    "specz_cat = np.loadtxt(\"./Data/master_specz_COSMOS_BF_v4b.cat\", dtype=object)\n",
    "\n",
    "# Fixing formatting: \n",
    "new_array = []  # allocate to reformatted data\n",
    "\n",
    "for _idx in range(specz_cat.shape[1]):\n",
    "    # Try to convert to float if possible \n",
    "    try:      col = specz_cat[:,_idx].astype(np.float32)\n",
    "    except:   col = specz_cat[:,_idx]\n",
    "    new_array.append(col)\n",
    "\n",
    "c20s = np.array(new_array, dtype=object).T  # Convert to np.ndarray\n",
    "\n",
    "# Find which spectra are not in COSMOS\n",
    "_ms = np.where(c20s[:,0] == -99)[0]   # idxs of missing spectra\n",
    "\n",
    "print(\"GB-spectra shape: \", c20s.shape)\n",
    "print(f\"Spec of COSMOS objects: \", c20s.shape[0]-_ms.shape[0])\n",
    "print(\"Unmatched spectra: \", _ms.shape[0])"
   ]
  },
  {
   "cell_type": "markdown",
   "metadata": {},
   "source": [
    "**HST Grism**"
   ]
  },
  {
   "cell_type": "code",
   "execution_count": 12,
   "metadata": {},
   "outputs": [
    {
     "name": "stdout",
     "output_type": "stream",
     "text": [
      "GB-spectra shape:  (12764, 16)\n",
      "Spec of COSMOS objects:  12711\n",
      "Unmatched spectra:  53\n"
     ]
    }
   ],
   "source": [
    "# Load catalog\n",
    "griz_cat = np.loadtxt(\"./Data/HST_Hyp_zcat.v1.3.cat\", skiprows=1, usecols=range(16), dtype=object)\n",
    "\n",
    "# Fixing formatting: \n",
    "new_array = []  # allocate to reformatted data\n",
    "\n",
    "for idx in range(griz_cat.shape[1]):\n",
    "    # Try to convert to float if possible \n",
    "    try:     col = griz_cat[:,idx].astype(np.float32)\n",
    "    except:  col = griz_cat[:,idx]\n",
    "    new_array.append(col)\n",
    "\n",
    "griz = np.array(new_array, dtype=object).T  # Convert to np.ndarray\n",
    "\n",
    "\n",
    "# Find which spectra are not in COSMOS\n",
    "_mg = np.where(griz[:,4] == -99)[0]   # idxs of missing grism spec\n",
    "\n",
    "\n",
    "print(\"GB-spectra shape: \", griz.shape)\n",
    "print(f\"Spec of COSMOS objects: \", griz.shape[0]-_mg.shape[0])\n",
    "print(\"Unmatched spectra: \", _mg.shape[0])"
   ]
  },
  {
   "cell_type": "markdown",
   "metadata": {},
   "source": [
    "---\n",
    "---\n",
    "---"
   ]
  },
  {
   "cell_type": "markdown",
   "metadata": {},
   "source": [
    "<font size = 6><h1 align = center>Define Some General Functions </h1 ></font>      "
   ]
  },
  {
   "cell_type": "markdown",
   "metadata": {},
   "source": [
    "<font size = 6><h1 align = center>MC Photometry </h1 ></font>      "
   ]
  },
  {
   "cell_type": "code",
   "execution_count": 13,
   "metadata": {},
   "outputs": [
    {
     "name": "stdout",
     "output_type": "stream",
     "text": [
      "Number of objects to MC:  1681047\n",
      "Redshift grid:  [ 0.    0.01  0.02 ...  9.98  9.99 10.  ]\n"
     ]
    },
    {
     "data": {
      "application/vnd.jupyter.widget-view+json": {
       "model_id": "b8a1676e307c40768e25ee90ce53c3a3",
       "version_major": 2,
       "version_minor": 0
      },
      "text/plain": [
       "  0%|          | 0/1720700 [00:00<?, ?it/s]"
      ]
     },
     "metadata": {},
     "output_type": "display_data"
    },
    {
     "name": "stderr",
     "output_type": "stream",
     "text": [
      "C:\\Users\\sikor\\AppData\\Local\\Temp\\ipykernel_4340\\960376546.py:25: RuntimeWarning: invalid value encountered in divide\n",
      "  z_samp = np.random.choice(pdf_zs, size=n_mcs, p=pdf_values/pdf_values.sum())    # Sample PDF\n"
     ]
    }
   ],
   "source": [
    "## Define parameters ##\n",
    "n_mcs = 100\n",
    "# np.random.seed(1)\n",
    "# --------------------------------\n",
    "\n",
    "## Allocate array to store redshift samplings ##\n",
    "good_data = np.where((c20p[\"lp_type\"] == 0) |( c20p[\"lp_type\"] == 2))[0]\n",
    "MCed_phots = np.zeros(shape=(len(c20p), n_mcs+2))\n",
    "print(\"Number of objects to MC: \", len(good_data))\n",
    "\n",
    "## Sample Redshifts ##\n",
    "\n",
    "# Make z-grid\n",
    "pdf_zs = c20_pdfs[0][1:]\n",
    "print(\"Redshift grid: \", pdf_zs)\n",
    "\n",
    "bads = []\n",
    "\n",
    "# Loop through each cosmos galaxy and sample PDF\n",
    "for _cid, gal_data in tqdm(enumerate(c20p), total=len(c20p)):\n",
    "\n",
    "\n",
    "    pdf_values = c20_pdfs[_cid+1][1:]  # Get PDF vals  (note first row of PDFs is z-grid)\n",
    "    try:\n",
    "        z_samp = np.random.choice(pdf_zs, size=n_mcs, p=pdf_values/pdf_values.sum())    # Sample PDF\n",
    "    except:\n",
    "        z_samp = [-99]*n_mcs\n",
    "        bads.append([_cid+1, gal_data['lp_type']])\n",
    "\n",
    "    MCed_phots[_cid] = np.concatenate(([_cid+1, gal_data['lp_zPDF']], z_samp))   # Add new row = [COSMOS_ID + lp_zPDF + sampled z's]\n",
    "\n"
   ]
  },
  {
   "cell_type": "code",
   "execution_count": 14,
   "metadata": {},
   "outputs": [
    {
     "name": "stdout",
     "output_type": "stream",
     "text": [
      "0  =  0 (1677646)\n",
      "1  =  0 (31672)\n",
      "2  =  0 (3401)\n",
      "-99  =  3306 (7981)\n"
     ]
    }
   ],
   "source": [
    "bads = np.array(bads)\n",
    "\n",
    "for t in [0, 1, 2, -99]:\n",
    "    \n",
    "    num = len(np.where(bads[:,1] == t)[0])\n",
    "    tot = len(np.where(c20p['lp_type'] == t)[0])\n",
    "    print(t, ' = ', num,  f'({tot})')"
   ]
  },
  {
   "cell_type": "code",
   "execution_count": 15,
   "metadata": {},
   "outputs": [],
   "source": [
    "## Save File ##\n",
    "np.save(r'C:\\Users\\sikor\\OneDrive\\Desktop\\BigData\\COSMOS2020\\C20p_MC100', MCed_phots)"
   ]
  },
  {
   "cell_type": "markdown",
   "metadata": {},
   "source": [
    "---\n",
    "---\n",
    "---"
   ]
  },
  {
   "cell_type": "markdown",
   "metadata": {},
   "source": [
    "<font size = 6><h1 align = center>MC Spectroscopy </h1 ></font>      "
   ]
  },
  {
   "cell_type": "markdown",
   "metadata": {},
   "source": [
    "**Pick Best Spec**\n",
    "\n",
    "Some COSMOS objects appear more than once in the GB and HST catalogs. Therefore, the first step is making separate lists the catalogs and picking the best observation for a given COSMOS object\n",
    "\n",
    "- *Note* For the HST catalog, blended objects are discarded. That is, objects with separate HST observations but a common COSMOS ID. These have blended photometry and thus cannot be MCed (or really have physical parameters derived unless via spectroscopy)."
   ]
  },
  {
   "cell_type": "code",
   "execution_count": 61,
   "metadata": {},
   "outputs": [
    {
     "data": {
      "application/vnd.jupyter.widget-view+json": {
       "model_id": "5c628131deca412a9def3994eec5375d",
       "version_major": 2,
       "version_minor": 0
      },
      "text/plain": [
       "  0%|          | 0/40215 [00:00<?, ?it/s]"
      ]
     },
     "metadata": {},
     "output_type": "display_data"
    },
    {
     "name": "stdout",
     "output_type": "stream",
     "text": [
      "Number COSMOS objects with z_spec = -99:    6798\n",
      "Number of obects with a quality flag tie:   0\n"
     ]
    }
   ],
   "source": [
    "## GB Spec ##\n",
    "\n",
    "gb_spec = []\n",
    "test_counter = 0\n",
    "t3 = 0\n",
    "\n",
    "\n",
    "# Loop through unique COSMOS IDs and pull best object\n",
    "for cid in tqdm(np.unique(c20s[:,0])):\n",
    "\n",
    "    if cid > 0 :        # it has a COSMOS ID\n",
    "\n",
    "        _spot = np.where(c20s[:,0] == cid)  # find matches to the C20 ID in GB catalog\n",
    "\n",
    "        gb_zs, gb_qfs = c20s[:,11][_spot], c20s[:,13][_spot]    # pull spec_z and qf\n",
    "\n",
    "        if max(gb_zs) > 0: # Some objects have z_spec = 0\n",
    "\n",
    "            gb_spec.append([cid, gb_zs[np.argmax(gb_qfs)], gb_qfs[np.argmax(gb_qfs)]])  # Add whichever flag is the best\n",
    "\n",
    "            # See if there was a qf tie\n",
    "            count_max = np.sum(gb_qfs == np.max(gb_qfs))\n",
    "            if count_max > 1: test_counter += 1    \n",
    "\n",
    "        else: t3 += 1\n",
    "\n",
    "\n",
    "gb_spec = np.array(gb_spec)            \n",
    "\n",
    "print(\"Number COSMOS objects with z_spec = -99:   \", t3)\n",
    "print(\"Number of obects with a quality flag tie:  \", test_counter)"
   ]
  },
  {
   "cell_type": "code",
   "execution_count": 62,
   "metadata": {},
   "outputs": [
    {
     "data": {
      "application/vnd.jupyter.widget-view+json": {
       "model_id": "d5f818271a394fc1a2d4fc3331277724",
       "version_major": 2,
       "version_minor": 0
      },
      "text/plain": [
       "  0%|          | 0/12590 [00:00<?, ?it/s]"
      ]
     },
     "metadata": {},
     "output_type": "display_data"
    },
    {
     "name": "stdout",
     "output_type": "stream",
     "text": [
      "Number of obects with a quality flag tie:   0\n",
      "Number of blended objects removed:   118\n"
     ]
    }
   ],
   "source": [
    "## HST Spec ##\n",
    "\n",
    "hst_spec = []\n",
    "test_counter1 = 0\n",
    "test_counter2 = 0\n",
    "\n",
    "# Loop through unique COSMOS IDs and pull best object\n",
    "for cid in tqdm(np.unique(griz[:,4])):\n",
    "\n",
    "    if cid > 0 :        # it has a COSMOS ID\n",
    "\n",
    "        _spot = np.where(griz[:,4] == cid)  # find matches to the C20 ID in HST catalog\n",
    "\n",
    "        _spot = np.delete(_spot, np.where(griz[:,5][_spot] == 1))   # remove blended objects\n",
    "\n",
    "        if len(_spot) > 0:  # Some non-blended objects\n",
    "            hst_z, hst_qfs  = griz[:,13][_spot], griz[:,15][_spot]    # pull spec_z and qf\n",
    "\n",
    "            hst_spec.append([cid, hst_z[np.argmax(hst_qfs)], hst_qfs[np.argmax(hst_qfs)]])  # Add whichever flag is the best\n",
    "\n",
    "            count_max = np.sum(hst_qfs == np.max(hst_qfs))\n",
    "            if count_max > 1: test_counter += 1\n",
    "\n",
    "        else:\n",
    "            test_counter2 += 1  # If there are blended objects\n",
    "                \n",
    "hst_spec = np.array(hst_spec)\n",
    "\n",
    "print(\"Number of obects with a quality flag tie:  \", test_counter1)\n",
    "print(\"Number of blended objects removed:  \", test_counter2)"
   ]
  },
  {
   "cell_type": "markdown",
   "metadata": {},
   "source": [
    "**Combine Data**\n",
    "\n",
    "Pull data from GB spectra and HST spectra to make an array for each object with:\n",
    "\n",
    "---> [COSMOS ID, GB redshift, GB quality flag, HST redshift, HST quality flag]\n",
    "\n",
    "From this, can then make a general loop that handles each object.\n",
    "\n",
    "- *Note* each object must have at least a COSMOS ID. Also must match the COSMOS ID rather than the spec ID (see **test 1**)"
   ]
  },
  {
   "cell_type": "code",
   "execution_count": 100,
   "metadata": {},
   "outputs": [
    {
     "data": {
      "application/vnd.jupyter.widget-view+json": {
       "model_id": "11dcfe4f29c048d686cb5f4729eb3425",
       "version_major": 2,
       "version_minor": 0
      },
      "text/plain": [
       "  0%|          | 0/43699 [00:00<?, ?it/s]"
      ]
     },
     "metadata": {},
     "output_type": "display_data"
    },
    {
     "name": "stdout",
     "output_type": "stream",
     "text": [
      "Number of objects with just gb data:  31228\n",
      "Number of objects with just hst data:  10283\n",
      "Number of objects with both data:  2188\n"
     ]
    }
   ],
   "source": [
    "## Combining HST and GB surveys\n",
    "test = [0, 0, 0]\n",
    "\n",
    "# Allocate Array #\n",
    "all_spec = []\n",
    "\n",
    "for cid in tqdm(np.unique(np.concatenate((gb_spec[:,0], hst_spec[:,0])))):\n",
    "\n",
    "    gb_data = gb_spec[gb_spec[:,0] == cid].flatten()\n",
    "    hst_data = hst_spec[hst_spec[:,0] == cid].flatten()\n",
    "\n",
    "\n",
    "    if len(hst_data) == 0:  # There is only a gb spectrum\n",
    "        all_spec.append([cid, gb_data[1], gb_data[2], -99, -99])\n",
    "        test[0] += 1\n",
    "    elif len(gb_data) == 0: # There is only an HST spec\n",
    "        all_spec.append([cid, -99, -99, hst_data[1], hst_data[2]])\n",
    "        test[1] += 1\n",
    "    else:   # There is both\n",
    "        all_spec.append([cid, gb_data[1], gb_data[2], hst_data[1], hst_data[2]])\n",
    "        test[2] += 1\n",
    "\n",
    "all_spec = np.array(all_spec)\n",
    "all_spec[:,0] = all_spec[:,0].astype(int)\n",
    "\n",
    "print(\"Number of objects with just gb data: \", test[0])\n",
    "print(\"Number of objects with just hst data: \", test[1])\n",
    "print(\"Number of objects with both data: \", test[2])"
   ]
  },
  {
   "cell_type": "markdown",
   "metadata": {},
   "source": [
    "**MC the Spectra**\n",
    "\n",
    "Now I can MC the spectra. In general, the MC chooses between the COSMOS p(z), the gb spectra, or a Gaussian around the HST spec. The choice is based on a quality flag. The confidences associated with each quality flag are:\n",
    "\n",
    "Ground-based:\n",
    "- $2 \\leq qf < 3$ = 0.7\n",
    "- $9 \\leq qf < 10$ = 0.7\n",
    "- $3 \\leq qf < 5$ = 0.993\n",
    "\n",
    "HST:\n",
    "- $qf = 3 \\to 0.668$\n",
    "- $qf = 4 \\to 0.818$\n",
    "- $qf = 5 \\to 0.925$\n",
    "\n",
    "The HST redshifts are drawn from a Gaussian centered on the grism redshift and with width $\\sigma = 46/14100\\cdot (1+z)$"
   ]
  },
  {
   "cell_type": "code",
   "execution_count": 97,
   "metadata": {},
   "outputs": [],
   "source": [
    "def z_chooser(qfs, qfg, niter):\n",
    "    \"\"\"Return a list of length=niter with integers corresponding to the MC choice. 0 = p(z), 1 = GB spec, 2 = HST\"\"\"\n",
    "\n",
    "    # Get the probs\n",
    "    prob_s = np.select([ ((qfs>=2)&(qfs<3)), ((qfs>=9)&(qfs<10)), ((qfs>=3)&(qfs<5)) ], [0.7, 0.7, 0.993], default=0)\n",
    "    prob_g = np.select([qfg==3, qfg==4, qfg==5], [0.668, 0.818, 0.925], default=0)\n",
    "\n",
    "    ps = [prob_s, prob_g]   # pack up for easier use       ---> Know at least 1 isn't 0\n",
    "\n",
    "    rns = np.random.random(niter)\n",
    "    choice = np.zeros(niter)\n",
    "\n",
    "    if ps[0] == 0: # No GB\n",
    "        choice[rns < ps[1]] = 2     # Say when we're choosing HST\n",
    "\n",
    "    elif ps[1] == 0:    # No HST\n",
    "        choice[rns < ps[0]] = 1     # Say when we're choosing GB\n",
    "    \n",
    "    else:   # Have both GB and HST\n",
    "        p_max, p_min = max(ps), min(ps)\n",
    "        thresh = p_max + p_min*(1-p_min)    # Upper threshold for worse spec\n",
    "\n",
    "        choice[(rns<p_max)] = np.argmax(ps) + 1     # Choose the better spectrum\n",
    "        choice[(rns>=p_max) & (rns<thresh)] = np.argmin(ps) + 1\n",
    "\n",
    "    best = np.argmax(ps)  + 1   # Which is better    \n",
    "\n",
    "    return best, choice"
   ]
  },
  {
   "cell_type": "code",
   "execution_count": 101,
   "metadata": {},
   "outputs": [
    {
     "data": {
      "application/vnd.jupyter.widget-view+json": {
       "model_id": "aa007263508e470bae7274d8dcba2a94",
       "version_major": 2,
       "version_minor": 0
      },
      "text/plain": [
       "  0%|          | 0/43699 [00:00<?, ?it/s]"
      ]
     },
     "metadata": {},
     "output_type": "display_data"
    },
    {
     "name": "stderr",
     "output_type": "stream",
     "text": [
      "C:\\Users\\sikor\\AppData\\Local\\Temp\\ipykernel_4340\\2202853077.py:21: RuntimeWarning: invalid value encountered in divide\n",
      "  phot_zs = np.random.choice(pdf_zs, size=n_mcs, p=pdf_values/pdf_values.sum())    # Sample PDF\n"
     ]
    }
   ],
   "source": [
    "## Define parameters ##\n",
    "n_mcs = 100\n",
    "# np.random.seed(1)\n",
    "# --------------------------------\n",
    "pdf_values = c20_pdfs[_cid+1][1:]  # Get PDF vals  (note first row of PDFs is z-grid)\n",
    "\n",
    "MCed_specs = np.zeros(shape=(len(all_spec), n_mcs+2 ))\n",
    "MCed_choice = np.zeros(shape=(len(all_spec), n_mcs+2 ))\n",
    "\n",
    "bads = []\n",
    "\n",
    "for _row, s in tqdm(enumerate(all_spec), total=len(all_spec)):\n",
    "\n",
    "    best, choices = z_chooser(s[2], s[4], n_mcs)  # list of 0, 1, 2 corresponding to choice of that mc\n",
    "\n",
    "    pdf_values = c20_pdfs[int(s[0])][1:]\n",
    "\n",
    "    best_zspec = s[best*2]   # Choose the spec with the better prob for un_MCed sample\n",
    "\n",
    "    try:\n",
    "        phot_zs = np.random.choice(pdf_zs, size=n_mcs, p=pdf_values/pdf_values.sum())    # Sample PDF\n",
    "        gbz = [s[1]]*100\n",
    "        hstz = np.random.normal(loc=s[3], scale=46/14100*(1+np.abs(s[3])), size=n_mcs )     # note np.abs avoids errors w/ missing hst\n",
    "\n",
    "        zs = np.select([choices==0, choices==1, choices==2], [phot_zs, gbz, hstz])\n",
    "\n",
    "        MCed_specs[_row] = np.concatenate(([s[0], best_zspec], zs))\n",
    "        MCed_choice[_row] = np.concatenate(([s[0], best], choices))\n",
    "\n",
    "\n",
    "    except:\n",
    "        MCed_specs[_row] = np.concatenate(([s[0], best_zspec], np.full(n_mcs, np.nan))) # Fill MCs with NaN\n",
    "        MCed_choice[_row] = np.concatenate(([s[0], best], np.full(n_mcs, np.nan)))\n",
    "\n",
    "        bads.append(s)\n",
    "\n"
   ]
  },
  {
   "cell_type": "markdown",
   "metadata": {},
   "source": [
    "**Pack into Photz list**"
   ]
  },
  {
   "cell_type": "code",
   "execution_count": null,
   "metadata": {},
   "outputs": [],
   "source": [
    "total_MCs = np.copy(MCed_phots)\n",
    "\n",
    "for row in MCed_specs:\n",
    "    total_MCs[int(row[0])-1] = row\n",
    "\n",
    "np.save(r'C:\\Users\\sikor\\OneDrive\\Desktop\\BigData\\COSMOS2020\\C20_tot100', total_MCs)\n",
    "np.save(r'C:\\Users\\sikor\\OneDrive\\Desktop\\BigData\\COSMOS2020\\C20_totChoice', MCed_choice)"
   ]
  },
  {
   "cell_type": "markdown",
   "metadata": {},
   "source": [
    "<font size = 6><h1 align = center>Assorted Tests </h1 ></font>      "
   ]
  },
  {
   "cell_type": "markdown",
   "metadata": {},
   "source": [
    "**Test 1 (Resolved)**\n",
    "\n",
    "Checking for any objects in the HST catalog that:\n",
    "\n",
    "1. Have a corresponding ground-based counterpart (i.e. ID_spec != -99)\n",
    "2. Have a different Cosmos ID from said counterpart\n",
    "\n",
    "Find:\n",
    "- Number of HST grism with GB ID that is not in GB catalog:  0\n",
    "- Number of HST grism with different CID than GB counterpart:  2\n",
    "- [Spec_ID, GB_CID, HST_CID] = \n",
    " [['431589', 552174.0, 1048424.0], ['406226', 510072.0, 670389.0]]\n",
    "\n",
    "*Resolution:*\n",
    "\n",
    "In both cases, the spec ID reported in the HST catalog appears twice in the ground-based catalog. The two entries in the ground-based catalogs correspond to different objects from different surveys that happen to have the same ID. Thus, matching COSMOS ID as opposed to spec_ID is needed"
   ]
  },
  {
   "cell_type": "code",
   "execution_count": null,
   "metadata": {},
   "outputs": [
    {
     "data": {
      "application/vnd.jupyter.widget-view+json": {
       "model_id": "63d63d9f575e4dc3bdbbe857afc8faee",
       "version_major": 2,
       "version_minor": 0
      },
      "text/plain": [
       "  0%|          | 0/12764 [00:00<?, ?it/s]"
      ]
     },
     "metadata": {},
     "output_type": "display_data"
    },
    {
     "name": "stdout",
     "output_type": "stream",
     "text": [
      "Number of HST grism with GB ID that is not in GB catalog:  0\n",
      "Number of HST grism with different CID than GB counterpart:  2\n",
      "[Spec_ID, GB_CID, HST_CID] = \n",
      " [['431589', 552174.0, 1048424.0], ['406226', 510072.0, 670389.0]]\n"
     ]
    }
   ],
   "source": [
    "t1 = 0\n",
    "t2_list = []\n",
    "\n",
    "\n",
    "for g in tqdm(griz):\n",
    "\n",
    "    if g[9] != '-99':     # This is part of a GB survey\n",
    "        _sid = np.where(c20s[:,1] == g[9])  # Find objects which have the same GB survey id\n",
    "\n",
    "        if len(_sid[0]) == 0: t1 += 1   # If the object has a survey id but is not in the catalog\n",
    "        else:\n",
    "            cids = c20s[:,0][_sid]      # Pull cosmos IDs\n",
    "            for cid in cids:\n",
    "                if cid != g[4]: \n",
    "                    t2_list.append([g[9], cid, g[4]])\n",
    "\n",
    "print('Number of HST grism with GB ID that is not in GB catalog: ', t1)\n",
    "print('Number of HST grism with different CID than GB counterpart: ',len(t2_list))\n",
    "print(\"[Spec_ID, GB_CID, HST_CID] = \\n\", t2_list)\n"
   ]
  },
  {
   "cell_type": "markdown",
   "metadata": {},
   "source": [
    "**Test 2**\n",
    "\n",
    "Look at distribution of lp_types the spectra correspond to"
   ]
  },
  {
   "cell_type": "code",
   "execution_count": null,
   "metadata": {},
   "outputs": [
    {
     "data": {
      "application/vnd.jupyter.widget-view+json": {
       "model_id": "6330f56f771a43a1b07ba6713a1bcbd9",
       "version_major": 2,
       "version_minor": 0
      },
      "text/plain": [
       "  0%|          | 0/50056 [00:00<?, ?it/s]"
      ]
     },
     "metadata": {},
     "output_type": "display_data"
    },
    {
     "name": "stdout",
     "output_type": "stream",
     "text": [
      "[965, 44947, 2273, 1871]\n"
     ]
    }
   ],
   "source": [
    "type_counter = [0,0,0,0]    # [-99, 0, 1, 2]\n",
    "type_idxs = [[], [], [], []]\n",
    "\n",
    "for s in tqdm(all_spec):\n",
    "    \n",
    "    lpt = c20p[int(s[0])-1][\"lp_type\"]\n",
    "\n",
    "\n",
    "    _type = np.select([lpt==-99, lpt==0, lpt==1, lpt==2], [0, 1,2,3])\n",
    "\n",
    "    type_counter[_type] += 1\n",
    "    type_idxs[_type].append(int(s[0]))\n",
    "\n",
    "print(type_counter)"
   ]
  },
  {
   "cell_type": "code",
   "execution_count": null,
   "metadata": {},
   "outputs": [
    {
     "name": "stdout",
     "output_type": "stream",
     "text": [
      "1\n"
     ]
    },
    {
     "data": {
      "image/png": "[encoded data removed]",
      "text/plain": [
       "<Figure size 640x480 with 1 Axes>"
      ]
     },
     "metadata": {},
     "output_type": "display_data"
    }
   ],
   "source": [
    "_c = type_idxs[2][2]\n",
    "pdf_zs = c20_pdfs[0][1:]\n",
    "print(c20p[_c-1][\"lp_type\"])\n",
    "\n",
    "plt.scatter(pdf_zs, c20_pdfs[_c][1:], s=5)\n",
    "plt.axvline(c20p[_c-1][\"lp_zPDF\"], color='r', ls=':', label=f'{round(c20p[_c-1][\"lp_zPDF\"], 2)}')\n",
    "plt.legend()\n",
    "plt.show()"
   ]
  }
 ],
 "metadata": {
  "kernelspec": {
   "display_name": "py38",
   "language": "python",
   "name": "python3"
  },
  "language_info": {
   "codemirror_mode": {
    "name": "ipython",
    "version": 3
   },
   "file_extension": ".py",
   "mimetype": "text/x-python",
   "name": "python",
   "nbconvert_exporter": "python",
   "pygments_lexer": "ipython3",
   "version": "3.8.19"
  }
 },
 "nbformat": 4,
 "nbformat_minor": 2
}
