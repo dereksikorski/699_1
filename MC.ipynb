{
 "cells": [
  {
   "cell_type": "markdown",
   "metadata": {},
   "source": [
    "<font size = 6><h1 align = center>Monte Carlo Fun </h1 ></font>      \n",
    "\n",
    "<font size = 4><h2 align = center> Derek Sikorski </font><h2>\n",
    "\n",
    "---\n",
    "---\n",
    "---\n"
   ]
  },
  {
   "cell_type": "markdown",
   "metadata": {},
   "source": [
    "<font size = 5><h1 align = center>File Summary</h1 ></font>      \n",
    "\n",
    "**Purpose:** \n",
    "This file is meant to handle MCing data used for the Hyperion SMF project. The data broadly includes:\n",
    "1. COSMOS2020 photometry\n",
    "2. Assorted ground-based spectroscopy\n",
    "3. HST grism data\n",
    "\n",
    "**Outputs:**\n",
    "This code produces two separate catalogs of MCed redshifts. One is for the COSMOS photometry while the other is for any other is the same COSMOS photometry but where galaxies with multiple observations have been replaced. The logic is that the photoz's are drawn completely randomly for all galaxies in the sample whereas the galaxies with other observations maybe be chosen by a variety of functions. Finally, there is one last numpy array which specifies the observation type used for the objects with mixed observations"
   ]
  },
  {
   "cell_type": "markdown",
   "metadata": {},
   "source": [
    "---\n",
    "---\n",
    "---"
   ]
  },
  {
   "cell_type": "code",
   "execution_count": 1,
   "metadata": {},
   "outputs": [],
   "source": [
    "import numpy as np\n",
    "import matplotlib.pyplot as plt\n",
    "from astropy.io import fits\n",
    "from tqdm.notebook import tqdm"
   ]
  },
  {
   "cell_type": "markdown",
   "metadata": {},
   "source": [
    "<font size = 6><h1 align = center>Loading Data </h1 ></font>      "
   ]
  },
  {
   "cell_type": "markdown",
   "metadata": {},
   "source": [
    "**COSMOS 2020**"
   ]
  },
  {
   "cell_type": "code",
   "execution_count": 2,
   "metadata": {},
   "outputs": [
    {
     "name": "stdout",
     "output_type": "stream",
     "text": [
      "C20 Catalog shape:  (1720700,)\n",
      "C20 PDF shape:  (1720701, 1002)\n",
      "\n",
      "Redshift dist:  [  nan  0.    0.01 ...  9.98  9.99 10.  ]\n"
     ]
    }
   ],
   "source": [
    "# COSMOS CATALOG\n",
    "cosmos_file = fits.open(r\"C:/Users/sikor/OneDrive/Desktop/BigData/COSMOS2020/COSMOS2020_CLASSIC_R1_v2.0.fits\")\n",
    "c20p = cosmos_file[1].data\n",
    "\n",
    "# COSMOS PDFs\n",
    "pdf_file = fits.open(r\"C:\\Users\\sikor\\OneDrive\\Desktop\\BigData\\COSMOS2020\\COSMOS2020_CLASSIC_R1_v2.2_LEPHARE_PZ_p3.fits\")\n",
    "c20_pdfs = pdf_file[0].data\n",
    "\n",
    "print(\"C20 Catalog shape: \", c20p.shape)\n",
    "print(\"C20 PDF shape: \", c20_pdfs.shape)\n",
    "print(\"\\nRedshift dist: \", c20_pdfs[0])"
   ]
  },
  {
   "cell_type": "markdown",
   "metadata": {},
   "source": [
    "**Ground-based Spec**"
   ]
  },
  {
   "cell_type": "code",
   "execution_count": 3,
   "metadata": {},
   "outputs": [
    {
     "name": "stdout",
     "output_type": "stream",
     "text": [
      "GB-spectra shape:  (42776, 32)\n",
      "Spec of COSMOS objects:  40214\n",
      "Unmatched spectra:  2562\n"
     ]
    }
   ],
   "source": [
    "# Load catalog\n",
    "specz_cat = np.loadtxt(\"./Data/master_specz_COSMOS_BF_v4b.cat\", dtype=object)\n",
    "\n",
    "# Fixing formatting: \n",
    "new_array = []  # allocate to reformatted data\n",
    "\n",
    "for _idx in range(specz_cat.shape[1]):\n",
    "    # Try to convert to float if possible \n",
    "    try:      col = specz_cat[:,_idx].astype(np.float32)\n",
    "    except:   col = specz_cat[:,_idx]\n",
    "    new_array.append(col)\n",
    "\n",
    "c20s = np.array(new_array, dtype=object).T  # Convert to np.ndarray\n",
    "\n",
    "# Find which spectra are not in COSMOS\n",
    "_ms = np.where(c20s[:,0] == -99)[0]   # idxs of missing spectra\n",
    "\n",
    "print(\"GB-spectra shape: \", c20s.shape)\n",
    "print(f\"Spec of COSMOS objects: \", c20s.shape[0]-_ms.shape[0])\n",
    "print(\"Unmatched spectra: \", _ms.shape[0])"
   ]
  },
  {
   "cell_type": "markdown",
   "metadata": {},
   "source": [
    "**HST Grism**"
   ]
  },
  {
   "cell_type": "code",
   "execution_count": 4,
   "metadata": {},
   "outputs": [
    {
     "name": "stdout",
     "output_type": "stream",
     "text": [
      "GB-spectra shape:  (12764, 16)\n",
      "Spec of COSMOS objects:  12711\n",
      "Unmatched spectra:  53\n"
     ]
    }
   ],
   "source": [
    "# Load catalog\n",
    "griz_cat = np.loadtxt(\"./Data/HST_Hyp_zcat.v1.3.cat\", skiprows=1, usecols=range(16), dtype=object)\n",
    "\n",
    "# Fixing formatting: \n",
    "new_array = []  # allocate to reformatted data\n",
    "\n",
    "for idx in range(griz_cat.shape[1]):\n",
    "    # Try to convert to float if possible \n",
    "    try:     col = griz_cat[:,idx].astype(np.float32)\n",
    "    except:  col = griz_cat[:,idx]\n",
    "    new_array.append(col)\n",
    "\n",
    "griz = np.array(new_array, dtype=object).T  # Convert to np.ndarray\n",
    "\n",
    "\n",
    "# Find which spectra are not in COSMOS\n",
    "_mg = np.where(griz[:,4] == -99)[0]   # idxs of missing grism spec\n",
    "\n",
    "\n",
    "print(\"GB-spectra shape: \", griz.shape)\n",
    "print(f\"Spec of COSMOS objects: \", griz.shape[0]-_mg.shape[0])\n",
    "print(\"Unmatched spectra: \", _mg.shape[0])"
   ]
  },
  {
   "cell_type": "markdown",
   "metadata": {},
   "source": [
    "---\n",
    "---\n",
    "---"
   ]
  },
  {
   "cell_type": "markdown",
   "metadata": {},
   "source": [
    "<font size = 6><h1 align = center>Define Some General Functions </h1 ></font>      "
   ]
  },
  {
   "cell_type": "markdown",
   "metadata": {},
   "source": [
    "<font size = 6><h1 align = center>MC Photometry </h1 ></font>      "
   ]
  },
  {
   "cell_type": "code",
   "execution_count": 5,
   "metadata": {},
   "outputs": [
    {
     "name": "stdout",
     "output_type": "stream",
     "text": [
      "Number of objects to MC:  1720700\n",
      "Redshift grid:  [ 0.    0.01  0.02 ...  9.98  9.99 10.  ]\n"
     ]
    },
    {
     "data": {
      "application/vnd.jupyter.widget-view+json": {
       "model_id": "62e01c6b466545ceb8a4a45bd305d205",
       "version_major": 2,
       "version_minor": 0
      },
      "text/plain": [
       "  0%|          | 0/1720700 [00:00<?, ?it/s]"
      ]
     },
     "metadata": {},
     "output_type": "display_data"
    },
    {
     "name": "stderr",
     "output_type": "stream",
     "text": [
      "C:\\Users\\sikor\\AppData\\Local\\Temp\\ipykernel_13204\\3811920601.py:29: RuntimeWarning: invalid value encountered in divide\n",
      "  z_samp = np.random.choice(z_interp, size=n_mcs, p=pdf_inter/pdf_inter.sum())    # Sample PDF\n"
     ]
    }
   ],
   "source": [
    "## Define parameters ##\n",
    "n_mcs = 100\n",
    "dz = 0.0001\n",
    "# np.random.seed(1)\n",
    "# --------------------------------\n",
    "\n",
    "## Allocate array to store redshift samplings ##\n",
    "# good_data = np.where((c20p[\"lp_type\"] == 0) |( c20p[\"lp_type\"] == 2))[0]\n",
    "MCed_phots = np.zeros(shape=(len(c20p), n_mcs+2))\n",
    "print(\"Number of objects to MC: \", len(c20p))\n",
    "\n",
    "## Sample Redshifts ##\n",
    "\n",
    "# Make z-grid\n",
    "pdf_zs = c20_pdfs[0][1:]\n",
    "print(\"Redshift grid: \", pdf_zs)\n",
    "z_interp = np.arange(pdf_zs[0], pdf_zs[-1]+dz, dz)\n",
    "\n",
    "bads = []\n",
    "\n",
    "# Loop through each cosmos galaxy and sample PDF\n",
    "for _cid, gal_data in tqdm(enumerate(c20p), total=len(c20p)):\n",
    "\n",
    "\n",
    "    pdf_values = c20_pdfs[_cid+1][1:]  # Get PDF vals  (note first row of PDFs is z-grid)\n",
    "    try:\n",
    "        pdf_inter = np.interp(z_interp, pdf_zs, pdf_values)   # Interpolate PDF onto a finer grid\n",
    "\n",
    "        z_samp = np.random.choice(z_interp, size=n_mcs, p=pdf_inter/pdf_inter.sum())    # Sample PDF\n",
    "    except:\n",
    "        z_samp = [-99]*n_mcs\n",
    "        bads.append([_cid+1, gal_data['lp_type']])\n",
    "\n",
    "    MCed_phots[_cid] = np.concatenate(([_cid+1, gal_data['lp_zPDF']], z_samp))   # Add new row = [COSMOS_ID + lp_zPDF + sampled z's]\n",
    "\n"
   ]
  },
  {
   "cell_type": "code",
   "execution_count": 6,
   "metadata": {},
   "outputs": [
    {
     "name": "stdout",
     "output_type": "stream",
     "text": [
      "0  =  0 (1677646)\n",
      "1  =  0 (31672)\n",
      "2  =  0 (3401)\n",
      "-99  =  3306 (7981)\n"
     ]
    }
   ],
   "source": [
    "bads = np.array(bads)\n",
    "\n",
    "for t in [0, 1, 2, -99]:\n",
    "    \n",
    "    num = len(np.where(bads[:,1] == t)[0])\n",
    "    tot = len(np.where(c20p['lp_type'] == t)[0])\n",
    "    print(t, ' = ', num,  f'({tot})')"
   ]
  },
  {
   "cell_type": "code",
   "execution_count": 7,
   "metadata": {},
   "outputs": [],
   "source": [
    "## Save File ##\n",
    "np.save(r'C:\\Users\\sikor\\OneDrive\\Desktop\\BigData\\COSMOS2020\\C20p_MC100', MCed_phots)"
   ]
  },
  {
   "cell_type": "markdown",
   "metadata": {},
   "source": [
    "---\n",
    "---\n",
    "---"
   ]
  },
  {
   "cell_type": "markdown",
   "metadata": {},
   "source": [
    "<font size = 6><h1 align = center>MC Spectroscopy </h1 ></font>      "
   ]
  },
  {
   "cell_type": "markdown",
   "metadata": {},
   "source": [
    "**Pick Best Spec**\n",
    "\n",
    "Some COSMOS objects appear more than once in the GB and HST catalogs. Therefore, the first step is making separate lists the catalogs and picking the best observation for a given COSMOS object\n",
    "\n",
    "- *Note* For the HST catalog, blended objects are discarded. That is, objects with separate HST observations but a common COSMOS ID. These have blended photometry and thus cannot be MCed (or really have physical parameters derived unless via spectroscopy)."
   ]
  },
  {
   "cell_type": "code",
   "execution_count": 8,
   "metadata": {},
   "outputs": [
    {
     "data": {
      "application/vnd.jupyter.widget-view+json": {
       "model_id": "b67ddd88d89249e4b63f7b8805bb9b42",
       "version_major": 2,
       "version_minor": 0
      },
      "text/plain": [
       "  0%|          | 0/40215 [00:00<?, ?it/s]"
      ]
     },
     "metadata": {},
     "output_type": "display_data"
    },
    {
     "name": "stdout",
     "output_type": "stream",
     "text": [
      "Number COSMOS objects with z_spec = -99:    6798\n",
      "Number of obects with a quality flag tie:   0\n"
     ]
    }
   ],
   "source": [
    "## GB Spec ##\n",
    "\n",
    "gb_spec = []\n",
    "test_counter = 0\n",
    "t3 = 0\n",
    "\n",
    "\n",
    "# Loop through unique COSMOS IDs and pull best object\n",
    "for cid in tqdm(np.unique(c20s[:,0])):\n",
    "\n",
    "    if cid > 0 :        # it has a COSMOS ID\n",
    "\n",
    "        _spot = np.where(c20s[:,0] == cid)  # find matches to the C20 ID in GB catalog\n",
    "\n",
    "        gb_zs, gb_qfs = c20s[:,11][_spot], c20s[:,13][_spot]    # pull spec_z and qf\n",
    "\n",
    "        if max(gb_zs) > 0: # Some objects have z_spec = 0\n",
    "\n",
    "            gb_spec.append([cid, gb_zs[np.argmax(gb_qfs)], gb_qfs[np.argmax(gb_qfs)]])  # Add whichever flag is the best\n",
    "\n",
    "            # See if there was a qf tie\n",
    "            count_max = np.sum(gb_qfs == np.max(gb_qfs))\n",
    "            if count_max > 1: test_counter += 1    \n",
    "\n",
    "        else: t3 += 1\n",
    "\n",
    "\n",
    "gb_spec = np.array(gb_spec)            \n",
    "\n",
    "print(\"Number COSMOS objects with z_spec = -99:   \", t3)\n",
    "print(\"Number of obects with a quality flag tie:  \", test_counter)"
   ]
  },
  {
   "cell_type": "code",
   "execution_count": 9,
   "metadata": {},
   "outputs": [
    {
     "data": {
      "application/vnd.jupyter.widget-view+json": {
       "model_id": "9ffd33d92d6d4c26b992664c3adc453d",
       "version_major": 2,
       "version_minor": 0
      },
      "text/plain": [
       "  0%|          | 0/12590 [00:00<?, ?it/s]"
      ]
     },
     "metadata": {},
     "output_type": "display_data"
    },
    {
     "name": "stdout",
     "output_type": "stream",
     "text": [
      "Number of obects with a quality flag tie:   0\n",
      "Number of blended objects removed:   118\n"
     ]
    }
   ],
   "source": [
    "## HST Spec ##\n",
    "\n",
    "hst_spec = []\n",
    "test_counter1 = 0\n",
    "test_counter2 = 0\n",
    "\n",
    "# Loop through unique COSMOS IDs and pull best object\n",
    "for cid in tqdm(np.unique(griz[:,4])):\n",
    "\n",
    "    if cid > 0 :        # it has a COSMOS ID\n",
    "\n",
    "        _spot = np.where(griz[:,4] == cid)  # find matches to the C20 ID in HST catalog\n",
    "\n",
    "        _spot = np.delete(_spot, np.where(griz[:,5][_spot] == 1))   # remove blended objects\n",
    "\n",
    "        if len(_spot) > 0:  # Some non-blended objects\n",
    "            hst_z, hst_qfs  = griz[:,13][_spot], griz[:,15][_spot]    # pull spec_z and qf\n",
    "\n",
    "            hst_spec.append([cid, hst_z[np.argmax(hst_qfs)], hst_qfs[np.argmax(hst_qfs)]])  # Add whichever flag is the best\n",
    "\n",
    "            count_max = np.sum(hst_qfs == np.max(hst_qfs))\n",
    "            if count_max > 1: test_counter += 1\n",
    "\n",
    "        else:\n",
    "            test_counter2 += 1  # If there are blended objects\n",
    "                \n",
    "hst_spec = np.array(hst_spec)\n",
    "\n",
    "print(\"Number of obects with a quality flag tie:  \", test_counter1)\n",
    "print(\"Number of blended objects removed:  \", test_counter2)"
   ]
  },
  {
   "cell_type": "markdown",
   "metadata": {},
   "source": [
    "**Combine Data**\n",
    "\n",
    "Pull data from GB spectra and HST spectra to make an array for each object with:\n",
    "\n",
    "---> [COSMOS ID, GB redshift, GB quality flag, HST redshift, HST quality flag]\n",
    "\n",
    "From this, can then make a general loop that handles each object.\n",
    "\n",
    "- *Note* each object must have at least a COSMOS ID. Also must match the COSMOS ID rather than the spec ID (see **test 1**)"
   ]
  },
  {
   "cell_type": "code",
   "execution_count": 10,
   "metadata": {},
   "outputs": [
    {
     "data": {
      "application/vnd.jupyter.widget-view+json": {
       "model_id": "1056bb7c2c504b04bef9d6dc22668b84",
       "version_major": 2,
       "version_minor": 0
      },
      "text/plain": [
       "  0%|          | 0/43699 [00:00<?, ?it/s]"
      ]
     },
     "metadata": {},
     "output_type": "display_data"
    },
    {
     "name": "stdout",
     "output_type": "stream",
     "text": [
      "Number of objects with just gb data:  31228\n",
      "Number of objects with just hst data:  10283\n",
      "Number of objects with both data:  2188\n"
     ]
    }
   ],
   "source": [
    "## Combining HST and GB surveys\n",
    "test = [0, 0, 0]\n",
    "\n",
    "# Allocate Array #\n",
    "all_spec = []\n",
    "\n",
    "for cid in tqdm(np.unique(np.concatenate((gb_spec[:,0], hst_spec[:,0])))):\n",
    "\n",
    "    gb_data = gb_spec[gb_spec[:,0] == cid].flatten()\n",
    "    hst_data = hst_spec[hst_spec[:,0] == cid].flatten()\n",
    "\n",
    "\n",
    "    if len(hst_data) == 0:  # There is only a gb spectrum\n",
    "        all_spec.append([cid, gb_data[1], gb_data[2], -99, -99])\n",
    "        test[0] += 1\n",
    "    elif len(gb_data) == 0: # There is only an HST spec\n",
    "        all_spec.append([cid, -99, -99, hst_data[1], hst_data[2]])\n",
    "        test[1] += 1\n",
    "    else:   # There is both\n",
    "        all_spec.append([cid, gb_data[1], gb_data[2], hst_data[1], hst_data[2]])\n",
    "        test[2] += 1\n",
    "\n",
    "all_spec = np.array(all_spec)\n",
    "all_spec[:,0] = all_spec[:,0].astype(int)\n",
    "\n",
    "print(\"Number of objects with just gb data: \", test[0])\n",
    "print(\"Number of objects with just hst data: \", test[1])\n",
    "print(\"Number of objects with both data: \", test[2])"
   ]
  },
  {
   "cell_type": "markdown",
   "metadata": {},
   "source": [
    "**MC the Spectra**\n",
    "\n",
    "Now I can MC the spectra. In general, the MC chooses between the COSMOS p(z), the gb spectra, or a Gaussian around the HST spec. The choice is based on a quality flag. The confidences associated with each quality flag are:\n",
    "\n",
    "Ground-based:\n",
    "- $2 \\leq qf < 3$ = 0.7\n",
    "- $9 \\leq qf < 10$ = 0.7\n",
    "- $3 \\leq qf < 5$ = 0.993\n",
    "\n",
    "HST:\n",
    "- $qf = 3 \\to 0.668$\n",
    "- $qf = 4 \\to 0.818$\n",
    "- $qf = 5 \\to 0.925$\n",
    "\n",
    "The HST redshifts are drawn from a Gaussian centered on the grism redshift and with width $\\sigma = 46/14100\\cdot (1+z)$"
   ]
  },
  {
   "cell_type": "code",
   "execution_count": 11,
   "metadata": {},
   "outputs": [],
   "source": [
    "def z_chooser(qfs, qfg, niter):\n",
    "    \"\"\"Return a list of length=niter with integers corresponding to the MC choice. 0 = p(z), 1 = GB spec, 2 = HST\"\"\"\n",
    "\n",
    "    qfs = qfs % 10\n",
    "\n",
    "    # Get the probs\n",
    "    prob_s = np.select([ ((qfs>=2)&(qfs<3)), ((qfs>=9)&(qfs<10)), ((qfs>=3)&(qfs<5)) ], [0.7, 0.7, 0.993], default=0)\n",
    "    prob_g = np.select([qfg==3, qfg==4, qfg==5], [0.668, 0.818, 0.925], default=0)\n",
    "\n",
    "    ps = [prob_s, prob_g]   # pack up for easier use       ---> Know at least 1 isn't 0\n",
    "\n",
    "    rns = np.random.random(niter)\n",
    "    choice = np.zeros(niter)\n",
    "\n",
    "    if ps[0] == 0: # No GB\n",
    "        choice[rns < ps[1]] = 2     # Say when we're choosing HST\n",
    "\n",
    "    elif ps[1] == 0:    # No HST\n",
    "        choice[rns < ps[0]] = 1     # Say when we're choosing GB\n",
    "    \n",
    "    else:   # Have both GB and HST\n",
    "        p_max, p_min = max(ps), min(ps)\n",
    "        thresh = p_max + p_min*(1-p_min)    # Upper threshold for worse spec\n",
    "\n",
    "        choice[(rns<p_max)] = np.argmax(ps) + 1     # Choose the better spectrum\n",
    "        choice[(rns>=p_max) & (rns<thresh)] = np.argmin(ps) + 1\n",
    "\n",
    "    best = np.argmax(ps)  + 1   # Which is better    \n",
    "\n",
    "    return best, choice"
   ]
  },
  {
   "cell_type": "code",
   "execution_count": 12,
   "metadata": {},
   "outputs": [
    {
     "data": {
      "application/vnd.jupyter.widget-view+json": {
       "model_id": "83a779778a674fb7ae2e9f6d2bbeff77",
       "version_major": 2,
       "version_minor": 0
      },
      "text/plain": [
       "  0%|          | 0/43699 [00:00<?, ?it/s]"
      ]
     },
     "metadata": {},
     "output_type": "display_data"
    },
    {
     "name": "stderr",
     "output_type": "stream",
     "text": [
      "C:\\Users\\sikor\\AppData\\Local\\Temp\\ipykernel_13204\\299405881.py:26: RuntimeWarning: invalid value encountered in divide\n",
      "  phot_zs = np.random.choice(z_interp, size=n_mcs, p=pdf_inter/pdf_inter.sum())    # Sample PDF\n"
     ]
    }
   ],
   "source": [
    "## Define parameters ##\n",
    "n_mcs = 100\n",
    "dz = 0.0001\n",
    "# np.random.seed(1)\n",
    "# --------------------------------\n",
    "pdf_zs = c20_pdfs[0][1:]\n",
    "z_interp = np.arange(pdf_zs[0], pdf_zs[-1]+dz, dz)\n",
    "\n",
    "\n",
    "MCed_specs = np.zeros(shape=(len(all_spec), n_mcs+2 ))\n",
    "MCed_choice = np.zeros(shape=(len(all_spec), n_mcs+2 ))\n",
    "\n",
    "bads = []\n",
    "\n",
    "for _row, s in tqdm(enumerate(all_spec), total=len(all_spec)):\n",
    "\n",
    "    best, choices = z_chooser(s[2], s[4], n_mcs)  # list of 0, 1, 2 corresponding to choice of that mc\n",
    "\n",
    "    pdf_values = c20_pdfs[int(s[0])][1:]\n",
    "\n",
    "    best_zspec = s[best*2]   # Choose the spec with the better prob for un_MCed sample\n",
    "\n",
    "    try:\n",
    "        pdf_inter = np.interp(z_interp, pdf_zs, pdf_values)   # Interpolate PDF onto a finer grid\n",
    "\n",
    "        phot_zs = np.random.choice(z_interp, size=n_mcs, p=pdf_inter/pdf_inter.sum())    # Sample PDF\n",
    "        gbz = [s[1]]*100\n",
    "        hstz = np.random.normal(loc=s[3], scale=46/14100*(1+np.abs(s[3])), size=n_mcs )     # note np.abs avoids errors w/ missing hst\n",
    "\n",
    "        zs = np.select([choices==0, choices==1, choices==2], [phot_zs, gbz, hstz])\n",
    "\n",
    "        MCed_specs[_row] = np.concatenate(([s[0], best_zspec], zs))\n",
    "        MCed_choice[_row] = np.concatenate(([s[0], best], choices))\n",
    "\n",
    "\n",
    "    except:\n",
    "        MCed_specs[_row] = np.concatenate(([s[0], best_zspec], np.full(n_mcs, np.nan))) # Fill MCs with NaN\n",
    "        MCed_choice[_row] = np.concatenate(([s[0], best], np.full(n_mcs, np.nan)))\n",
    "\n",
    "        bads.append(s)\n",
    "\n"
   ]
  },
  {
   "cell_type": "markdown",
   "metadata": {},
   "source": [
    "**Pack into Photz list**"
   ]
  },
  {
   "cell_type": "code",
   "execution_count": 13,
   "metadata": {},
   "outputs": [],
   "source": [
    "total_MCs = np.copy(MCed_phots)\n",
    "\n",
    "for row in MCed_specs:\n",
    "    total_MCs[int(row[0])-1] = row\n",
    "\n",
    "np.save(r'C:\\Users\\sikor\\OneDrive\\Desktop\\BigData\\COSMOS2020\\C20_tot100', total_MCs)\n",
    "np.save(r'C:\\Users\\sikor\\OneDrive\\Desktop\\BigData\\COSMOS2020\\C20_totChoice', MCed_choice)"
   ]
  },
  {
   "cell_type": "markdown",
   "metadata": {},
   "source": [
    "<font size = 6><h1 align = center>Assorted Tests </h1 ></font>      "
   ]
  },
  {
   "cell_type": "markdown",
   "metadata": {},
   "source": [
    "**Test 1 (Resolved)**\n",
    "\n",
    "Checking for any objects in the HST catalog that:\n",
    "\n",
    "1. Have a corresponding ground-based counterpart (i.e. ID_spec != -99)\n",
    "2. Have a different Cosmos ID from said counterpart\n",
    "\n",
    "Find:\n",
    "- Number of HST grism with GB ID that is not in GB catalog:  0\n",
    "- Number of HST grism with different CID than GB counterpart:  2\n",
    "- [Spec_ID, GB_CID, HST_CID] = \n",
    " [['431589', 552174.0, 1048424.0], ['406226', 510072.0, 670389.0]]\n",
    "\n",
    "*Resolution:*\n",
    "\n",
    "In both cases, the spec ID reported in the HST catalog appears twice in the ground-based catalog. The two entries in the ground-based catalogs correspond to different objects from different surveys that happen to have the same ID. Thus, matching COSMOS ID as opposed to spec_ID is needed"
   ]
  },
  {
   "cell_type": "code",
   "execution_count": 14,
   "metadata": {},
   "outputs": [
    {
     "data": {
      "application/vnd.jupyter.widget-view+json": {
       "model_id": "fab398970cb8400fb48de25ca2fc4047",
       "version_major": 2,
       "version_minor": 0
      },
      "text/plain": [
       "  0%|          | 0/12764 [00:00<?, ?it/s]"
      ]
     },
     "metadata": {},
     "output_type": "display_data"
    },
    {
     "name": "stdout",
     "output_type": "stream",
     "text": [
      "Number of HST grism with GB ID that is not in GB catalog:  0\n",
      "Number of HST grism with different CID than GB counterpart:  2\n",
      "[Spec_ID, GB_CID, HST_CID] = \n",
      " [['431589', 552174.0, 1048424.0], ['406226', 510072.0, 670389.0]]\n"
     ]
    }
   ],
   "source": [
    "t1 = 0\n",
    "t2_list = []\n",
    "\n",
    "\n",
    "for g in tqdm(griz):\n",
    "\n",
    "    if g[9] != '-99':     # This is part of a GB survey\n",
    "        _sid = np.where(c20s[:,1] == g[9])  # Find objects which have the same GB survey id\n",
    "\n",
    "        if len(_sid[0]) == 0: t1 += 1   # If the object has a survey id but is not in the catalog\n",
    "        else:\n",
    "            cids = c20s[:,0][_sid]      # Pull cosmos IDs\n",
    "            for cid in cids:\n",
    "                if cid != g[4]: \n",
    "                    t2_list.append([g[9], cid, g[4]])\n",
    "\n",
    "print('Number of HST grism with GB ID that is not in GB catalog: ', t1)\n",
    "print('Number of HST grism with different CID than GB counterpart: ',len(t2_list))\n",
    "print(\"[Spec_ID, GB_CID, HST_CID] = \\n\", t2_list)\n"
   ]
  },
  {
   "cell_type": "markdown",
   "metadata": {},
   "source": [
    "**Test 2**\n",
    "\n",
    "Look at distribution of lp_types the spectra correspond to\n",
    "\n",
    "Note this uses the 'all_spec' list, which has the form:\n",
    "\n",
    "---> [COSMOS ID, GB redshift, GB quality flag, HST redshift, HST quality flag]\n"
   ]
  },
  {
   "cell_type": "code",
   "execution_count": 15,
   "metadata": {},
   "outputs": [
    {
     "data": {
      "application/vnd.jupyter.widget-view+json": {
       "model_id": "362b089d887d43a8ae0f4a5d6ec4c223",
       "version_major": 2,
       "version_minor": 0
      },
      "text/plain": [
       "  0%|          | 0/43699 [00:00<?, ?it/s]"
      ]
     },
     "metadata": {},
     "output_type": "display_data"
    },
    {
     "name": "stdout",
     "output_type": "stream",
     "text": [
      "Objects =  43699\n",
      "[40588  1045  1660     0     0     0     0     0     0     0     0     0\n",
      "     0     0     0     0     0     0     0     0     0     0     0     0\n",
      "     0     0     0     0     0     0     0     0     0     0     0     0\n",
      "     0     0     0     0     0     0     0     0     0     0     0     0\n",
      "     0     0     0     0     0     0     0     0     0     0     0     0\n",
      "     0     0     0     0     0     0     0     0     0     0     0     0\n",
      "     0     0     0     0     0     0     0     0     0     0     0     0\n",
      "     0     0     0     0     0     0     0     0     0     0     0     0\n",
      "     0     0     0   406]\n"
     ]
    }
   ],
   "source": [
    "types = []\n",
    "\n",
    "for s in tqdm(all_spec):\n",
    "    \n",
    "    lpt = c20p[int(s[0])-1][\"lp_type\"]\n",
    "\n",
    "    types.append(lpt)\n",
    "\n",
    "types = np.array(types)\n",
    "print('Objects = ', len(all_spec))\n",
    "print(np.bincount(np.abs(types)))"
   ]
  },
  {
   "cell_type": "markdown",
   "metadata": {},
   "source": [
    "I can also look at the redshift distribution of these. Remember that each object has at least one usable redshift"
   ]
  },
  {
   "cell_type": "code",
   "execution_count": 16,
   "metadata": {},
   "outputs": [
    {
     "data": {
      "image/png": "[encoded data removed]",
      "text/plain": [
       "<Figure size 1000x600 with 2 Axes>"
      ]
     },
     "metadata": {},
     "output_type": "display_data"
    }
   ],
   "source": [
    "data1 = all_spec[:, 1][(types == -99) & (all_spec[:,1] < 0)]\n",
    "data2 = all_spec[:, 3][(types == -99) & (all_spec[:,3] < 0)]\n",
    "\n",
    "data3 = all_spec[:, 1][(types == -99) & (all_spec[:,1] >= 0)]\n",
    "data4 = all_spec[:, 3][(types == -99) & (all_spec[:,3] >= 0)]\n",
    "\n",
    "# Compute the bin edges\n",
    "\n",
    "fig, (ax1, ax2) = plt.subplots(1, 2, sharey=True, gridspec_kw={'width_ratios': [1, 3]}, squeeze=True)\n",
    "\n",
    "\n",
    "ax1.hist([data1, data2], bins=[-99.01, -98.99], stacked=True, label=['Ground-Based', 'HST'], \n",
    "         color=['blue', 'orange'], edgecolor='black')\n",
    "\n",
    "ax1.set(ylabel='Number of Galaxies', xlim=(-99.1, -98.9), xticks=[-99], title=f'Number of Objects = {len(np.concatenate((data1, data2)))}')\n",
    "\n",
    "bins = np.histogram_bin_edges(np.concatenate((data3, data4)), bins=30)\n",
    "# Compute the bin edges\n",
    "ax2.hist([data3, data4], bins=bins, stacked=True, label=['Ground-Based', 'HST'], \n",
    "         color=['blue', 'orange'], edgecolor='black')\n",
    "\n",
    "ax2.set(title=f'Number of Objects = {len(np.concatenate((data3, data4)))}')\n",
    "\n",
    "fig.set_size_inches(10,6)\n",
    "fig.subplots_adjust(wspace=0.05)  # Reduce space between subplots\n",
    "fig.supxlabel('Redshift')\n",
    "fig.suptitle('Objects with lp_type = -99')\n",
    "\n",
    "# Add a legend and labels\n",
    "plt.legend()\n",
    "plt.show()"
   ]
  },
  {
   "cell_type": "markdown",
   "metadata": {},
   "source": [
    "I can look at the quality flags"
   ]
  },
  {
   "cell_type": "code",
   "execution_count": 17,
   "metadata": {},
   "outputs": [
    {
     "data": {
      "image/png": "[encoded data removed]",
      "text/plain": [
       "<Figure size 1000x600 with 2 Axes>"
      ]
     },
     "metadata": {},
     "output_type": "display_data"
    }
   ],
   "source": [
    "data1 = all_spec[:, 2][(types == -99) & (all_spec[:,1] >= 0)]\n",
    "data2 = all_spec[:, 4][(types == -99) & (all_spec[:,3] >= 0)]\n",
    "\n",
    "# Compute the bin edges\n",
    "\n",
    "fig, (ax1, ax2) = plt.subplots(1, 2, sharey=True, gridspec_kw={'width_ratios': [1, 1]}, squeeze=True)\n",
    "\n",
    "\n",
    "ax1.hist(data1, bins=np.arange(0,11,1), label='Ground-Based', \n",
    "         color='blue', edgecolor='black')\n",
    "ax1.legend()\n",
    "\n",
    "ax1.set(ylabel='Number of Galaxies')\n",
    "\n",
    "bins = np.histogram_bin_edges(np.concatenate((data3, data4)), bins=30)\n",
    "# Compute the bin edges\n",
    "ax2.hist(data2, bins=np.arange(0.5,6.5,1), label='HST', \n",
    "         color='orange', edgecolor='black', rwidth=0.5)\n",
    "ax2.legend()\n",
    "\n",
    "fig.set_size_inches(10,6)\n",
    "fig.subplots_adjust(wspace=0.05)  # Reduce space between subplots\n",
    "fig.supxlabel('Quality Flag')\n",
    "fig.suptitle('Objects with lp_type = -99')\n",
    "\n",
    "# Add a legend and labels\n",
    "plt.show()"
   ]
  },
  {
   "cell_type": "code",
   "execution_count": 18,
   "metadata": {},
   "outputs": [
    {
     "data": {
      "image/png": "[encoded data removed]",
      "text/plain": [
       "<Figure size 1200x600 with 3 Axes>"
      ]
     },
     "metadata": {},
     "output_type": "display_data"
    }
   ],
   "source": [
    "import matplotlib.colors as mcolors\n",
    "\n",
    "\n",
    "# Data filtering\n",
    "data1 = all_spec[(types == -99) & (all_spec[:, 1] >= 0)]\n",
    "data2 = all_spec[(types == -99) & (all_spec[:, 3] >= 0)]\n",
    "\n",
    "irac1 = c20p[data1[:, 0].astype(int) - 1]['IRAC_CH1_MAG']\n",
    "irac2 = c20p[data2[:, 0].astype(int) - 1]['IRAC_CH1_MAG']\n",
    "irac1[irac1==99] = np.nan\n",
    "\n",
    "\n",
    "cmap = plt.cm.viridis  # Choose a colormap\n",
    "\n",
    "# Create figure and subplots\n",
    "fig, (ax1, ax2) = plt.subplots(1, 2, sharey=True, gridspec_kw={'width_ratios': [1, 1]}, squeeze=True)\n",
    "\n",
    "# Plot data1\n",
    "sc1 = ax1.scatter(data1[:, 2], data1[:, 1], c=irac1, s=8, cmap=cmap)\n",
    "ax1.set(ylabel='Redshift', title='Dataset 1', xlim=(0, 11))\n",
    "\n",
    "# Plot data2\n",
    "sc2 = ax2.scatter(data2[:, 4], data2[:, 3], c=irac2, s=8, cmap=cmap)\n",
    "ax2.set(title='Dataset 2')\n",
    "\n",
    "# Add shared xlabel and suptitle\n",
    "fig.supxlabel('Quality Flag')\n",
    "fig.suptitle('Scatter plots with IRAC Magnitudes as Color')\n",
    "\n",
    "# Add a single colorbar to the entire figure\n",
    "cbar = fig.colorbar(sc1, ax=[ax1, ax2], location='right', shrink=0.75, pad=0.05)\n",
    "cbar.set_label('IRAC Magnitude')\n",
    "\n",
    "# Adjust layout\n",
    "fig.set_size_inches(12, 6)\n",
    "fig.subplots_adjust(wspace=0.05)  # Reduce space between subplots\n",
    "\n",
    "\n",
    "\n",
    "plt.show()"
   ]
  },
  {
   "cell_type": "code",
   "execution_count": 19,
   "metadata": {},
   "outputs": [
    {
     "data": {
      "text/plain": [
       "(array([ 9330,  9481, 10095, 36774], dtype=int64),)"
      ]
     },
     "execution_count": 19,
     "metadata": {},
     "output_type": "execute_result"
    }
   ],
   "source": [
    "_idxs = np.where( (types==-99) & \n",
    "    (\n",
    "    ( (all_spec[:,1] >= 2 )  & (all_spec[:,1]<=3) &         # GB in 2<= z<=3\n",
    "     (((all_spec[:,2] >= 2)& (all_spec[:,2]<5)) | ((all_spec[:,2]>=9)&(all_spec[:,2]<10))  )    )   # GB with 2<=qf<5 or 9<=qf<10\n",
    "        |\n",
    "        ( (all_spec[:,3] >=2) & (all_spec[:,2] <= 3)  & (all_spec[:,4]>=3) & (all_spec[:,4] <=5)   )    # HST with 2<=z<=3 and 3<=qf<=5\n",
    "    )\n",
    "        )\n",
    "\n",
    "_idxs"
   ]
  },
  {
   "cell_type": "code",
   "execution_count": 20,
   "metadata": {},
   "outputs": [
    {
     "name": "stdout",
     "output_type": "stream",
     "text": [
      "cid   z_GB   QF_gb  z_hst qf_hst  IRAC    M_*  lp_z   lp_type  \n",
      "\n",
      "612994 2.7704 4.0 -99.0 -99.0 23.287043 nan 6.7179 -99\n",
      "617168 2.0735 4.5 -99.0 -99.0 22.105572 8.52 1.4264 -99\n",
      "635665 2.5535 3.5 -99.0 -99.0 22.128908 10.83 3.2962 -99\n",
      "1147510 2.236 9.0 -99.0 -99.0 20.771288 nan nan -99\n"
     ]
    }
   ],
   "source": [
    "print('cid   z_GB   QF_gb  z_hst qf_hst  IRAC    M_*  lp_z   lp_type  \\n')\n",
    "for g in all_spec[_idxs]:\n",
    "    cg = c20p[int(g[0])-1]\n",
    "    print(int(g[0]), round(g[1], 5), g[2], g[3], g[4], cg['IRAC_CH1_MAG'],round( cg['lp_mass_med'],2), cg['lp_zPDF'], cg['lp_type'] )\n"
   ]
  },
  {
   "cell_type": "code",
   "execution_count": 21,
   "metadata": {},
   "outputs": [
    {
     "name": "stdout",
     "output_type": "stream",
     "text": [
      "╒═════════╤════════╤═════════╤═════════╤══════════╤═════════╤════════╤══════════╤══════════╤══════════╤═══════════╕\n",
      "│     cid │   z_GB │   QF_gb │   z_hst │   qf_hst │    IRAC │    M_* │     lp_z │   lp_l68 │   lp_u68 │   lp_type │\n",
      "╞═════════╪════════╪═════════╪═════════╪══════════╪═════════╪════════╪══════════╪══════════╪══════════╪═══════════╡\n",
      "│  612994 │ 2.7704 │     4   │     -99 │      -99 │ 23.287  │ nan    │   6.7179 │   5.6608 │   7.1246 │       -99 │\n",
      "├─────────┼────────┼─────────┼─────────┼──────────┼─────────┼────────┼──────────┼──────────┼──────────┼───────────┤\n",
      "│  617168 │ 2.0735 │     4.5 │     -99 │      -99 │ 22.1056 │   8.52 │   1.4264 │   0.371  │   3.0988 │       -99 │\n",
      "├─────────┼────────┼─────────┼─────────┼──────────┼─────────┼────────┼──────────┼──────────┼──────────┼───────────┤\n",
      "│  635665 │ 2.5535 │     3.5 │     -99 │      -99 │ 22.1289 │  10.83 │   3.2962 │   1.274  │   6.6112 │       -99 │\n",
      "├─────────┼────────┼─────────┼─────────┼──────────┼─────────┼────────┼──────────┼──────────┼──────────┼───────────┤\n",
      "│ 1147510 │ 2.236  │     9   │     -99 │      -99 │ 20.7713 │ nan    │ nan      │ nan      │ nan      │       -99 │\n",
      "╘═════════╧════════╧═════════╧═════════╧══════════╧═════════╧════════╧══════════╧══════════╧══════════╧═══════════╛\n"
     ]
    }
   ],
   "source": [
    "from tabulate import tabulate as tb\n",
    "\n",
    "t_row = []\n",
    "\n",
    "header=['cid', 'z_GB',   'QF_gb',  'z_hst', 'qf_hst',  'IRAC', r'M_*',  'lp_z', 'lp_l68', 'lp_u68',   'lp_type']\n",
    "for g in all_spec[_idxs]:\n",
    "    cg = c20p[int(g[0])-1]\n",
    "    t_row.append([int(g[0]), round(g[1], 5), g[2], g[3], g[4], \n",
    "                cg['IRAC_CH1_MAG'],round( cg['lp_mass_med'],2), cg['lp_zPDF'],cg['lp_zPDF_l68'],cg['lp_zPDF_u68'], cg['lp_type'] ])\n",
    "\n",
    "print(tb(t_row, headers=header, tablefmt='fancy_grid'))\n"
   ]
  },
  {
   "cell_type": "code",
   "execution_count": 22,
   "metadata": {},
   "outputs": [
    {
     "data": {
      "image/png": "[encoded data removed]",
      "text/plain": [
       "<Figure size 640x480 with 1 Axes>"
      ]
     },
     "metadata": {},
     "output_type": "display_data"
    }
   ],
   "source": [
    "plt.scatter(c20_pdfs[0][1:], c20_pdfs[635665][1:])\n",
    "plt.show()"
   ]
  },
  {
   "cell_type": "code",
   "execution_count": 23,
   "metadata": {},
   "outputs": [
    {
     "data": {
      "text/plain": [
       "1"
      ]
     },
     "execution_count": 23,
     "metadata": {},
     "output_type": "execute_result"
    }
   ],
   "source": [
    "c20p[635665-1]['lp_NbFilt']\n"
   ]
  },
  {
   "cell_type": "code",
   "execution_count": 24,
   "metadata": {},
   "outputs": [
    {
     "data": {
      "text/plain": [
       "22.128908"
      ]
     },
     "execution_count": 24,
     "metadata": {},
     "output_type": "execute_result"
    }
   ],
   "source": [
    "c20p[635665-1]['IRAC_CH1_MAG']\n"
   ]
  },
  {
   "cell_type": "code",
   "execution_count": 25,
   "metadata": {},
   "outputs": [],
   "source": [
    "cmags = np.load(r\"C:\\Users\\sikor\\OneDrive\\Desktop\\BigData\\COSMOS2020\\C20_Mags.npy\")"
   ]
  },
  {
   "cell_type": "code",
   "execution_count": 26,
   "metadata": {},
   "outputs": [
    {
     "data": {
      "text/plain": [
       "(25.538311, 0.05058417, 25.863815, 0.1133789, 24.497646, 0.02858984, 24.209078, 0.02521256, 24.102877, 0.02325373, 23.98217, 0.03002718, 23.774698, 0.04235819, 23.924726, 0.16143522, 23.62062, 0.13873637, 23.434105, 0.15088335, 22.96563, 0.06285985, 25.13117, 0.29143885, 25.257923, 0.46675664, 24.738213, 0.11413764, 25.417986, 0.3898448, 24.6933, 0.11907602, 24.890493, 0.28229585, 24.660162, 0.12900136, 24.124462, 0.14727934, 24.348017, 0.14731956, 24.132662, 0.10420461, 24.614407, 0.25657305, 24.349756, 0.18822402, 24.379559, 0.24828729, 24.29805, 0.14871605, -99., -99., 25.120552, 0.05234505, 24.727383, 0.09813008, 24.444159, 0.04975389, 24.184372, 0.05068773, 24.235304, 0.08790055, 22.12617, 0.00425486, -99., -99., -99., -99., -99., -99.)"
      ]
     },
     "execution_count": 26,
     "metadata": {},
     "output_type": "execute_result"
    }
   ],
   "source": [
    "cmags[635665-1]"
   ]
  },
  {
   "cell_type": "code",
   "execution_count": 27,
   "metadata": {},
   "outputs": [
    {
     "data": {
      "text/plain": [
       "(149.8953941408992, 2.026254031064772, 1.0)"
      ]
     },
     "execution_count": 27,
     "metadata": {},
     "output_type": "execute_result"
    }
   ],
   "source": [
    "\n",
    "c20p[635665-1]['ALPHA_J2000'], c20p[635665-1]['DELTA_J2000'], c20p[635665-1]['lp_mask']\n"
   ]
  }
 ],
 "metadata": {
  "kernelspec": {
   "display_name": "py38",
   "language": "python",
   "name": "python3"
  },
  "language_info": {
   "codemirror_mode": {
    "name": "ipython",
    "version": 3
   },
   "file_extension": ".py",
   "mimetype": "text/x-python",
   "name": "python",
   "nbconvert_exporter": "python",
   "pygments_lexer": "ipython3",
   "version": "3.8.19"
  }
 },
 "nbformat": 4,
 "nbformat_minor": 2
}
