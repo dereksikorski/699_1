{
 "cells": [
  {
   "cell_type": "code",
   "execution_count": 2,
   "metadata": {},
   "outputs": [],
   "source": [
    "import numpy as np\n",
    "from scipy.stats import skewnorm\n",
    "import matplotlib.pyplot as plt\n",
    "from astropy.io import fits\n",
    "import os\n",
    "from tqdm.notebook import tqdm"
   ]
  },
  {
   "cell_type": "markdown",
   "metadata": {},
   "source": [
    "# MC Functions for Photometry"
   ]
  },
  {
   "cell_type": "code",
   "execution_count": 22,
   "metadata": {},
   "outputs": [],
   "source": [
    "def MCz(niter, zs, weights, z_range, MC_fn, plot_field=\"\", plot_zrange=\"\", verbose=False, **kwargs):\n",
    "    \"\"\"\n",
    "    Performs a Monte Carlo on the redshift distribution of input galaxies\n",
    "\n",
    "    INPUTS:\n",
    "        - niter (int)   = Number of MC iterations to run\n",
    "        - zs (array)    = List of median redshift values\n",
    "        - weights (array)   = List of the MC weights for each object. A new z is drawn from the PDF if random_number >= weight\n",
    "        - z_range (array)   = Range of redshifts to keep\n",
    "        - MC_fun (fn)   = Python function used to generate the new redshift values for the galaxies\n",
    "        - plot_field (str)    = Path to the directory where plots should be saved. If left as \"\", then no plots are saved\n",
    "        - plot_zrange (str)    = Path to the directory where plots of galaxies in z_range should be saved.\n",
    "        - verbose (bool)    = If you want to print the status bar via tqdm.notebook\n",
    "        - **kwargs = For the MC_fun\n",
    "        \n",
    "    OUTPUTS:\n",
    "        - (array) --> Indices in redshift array of objects falling in z_range at least once\n",
    "        - (array) --> 2D array of redshifts of shape (len(zs), niter)\n",
    "    \"\"\"\n",
    "    new_zs = [] # Fill with new redshifts\n",
    "    \n",
    "    iterable = tqdm(range(niter)) if verbose else range(niter)\n",
    "\n",
    "    for n in iterable:\n",
    "\n",
    "        z_in = np.copy(zs)\n",
    "\n",
    "\n",
    "        new_idxs = np.where( np.random.random(size=len(zs)) >= weights )     # Indices of zs that need to be replaced\n",
    "\n",
    "        nz = MC_fn(*kwargs.values())        # Generate the set of redshifts\n",
    "\n",
    "        z_in[new_idxs] = nz[new_idxs]    # Replace redshifts as dictated by the MC\n",
    "        new_zs.append(z_in)\n",
    "\n",
    "\n",
    "        if plot_field != \"\":\n",
    "            ### PLOT ###\n",
    "            fig, ax = plt.subplots()\n",
    "            bbox = dict(boxstyle='round', fc = \"white\", ec='k', alpha=0.5)\n",
    "            ax.hist(z_in, bins=np.arange(0,8,0.05))\n",
    "            ax.set_title(f\"Redshift Distribution of C20 -- (MC_iter {n})\")\n",
    "            ax.text(0.7,0.9, f\"# of Galaxies = {len(np.where((0 <=z_in) & (10>= z_in))[0])}\", fontsize=7, bbox=bbox, transform=ax.transAxes)\n",
    "            ax.set_xlabel(\"z\")\n",
    "            ax.set_ylabel(\"N\")\n",
    "            try:\n",
    "                fig.savefig(plot_field + f\"run_{n}\")\n",
    "            except:\n",
    "                os.mkdir(plot_field)\n",
    "                fig.savefig(plot_field + f\"run_{n}\")\n",
    "            plt.close()\n",
    "\n",
    "\n",
    "        if plot_zrange != \"\":\n",
    "            fig, ax = plt.subplots()\n",
    "            ax.hist(z_in, bins=np.arange(2,3,0.01))\n",
    "            ax.set_title(f\"Redshift Distribution of Field -- (MC_iter {n})\")\n",
    "            ax.text(0.7, 0.9, f\"# of Galaxies = {len(np.where((z_range[0] <=z_in) & (z_range[1]>= z_in))[0])}\", \n",
    "                    fontsize=7, bbox=bbox, transform=ax.transAxes)\n",
    "            ax.set_xlabel(\"z\")\n",
    "            ax.set_ylabel(\"N\")\n",
    "            try:\n",
    "                fig.savefig(plot_zrange + f\"run_{n}\")\n",
    "            except:\n",
    "                os.mkdir(plot_zrange)\n",
    "                fig.savefig(plot_zrange + f\"run_{n}\")\n",
    "            plt.close()\n",
    "\n",
    "\n",
    "\n",
    "    new_zs = np.array(new_zs)\n",
    "\n",
    "\n",
    "    ## Keep only galaxies that fell within correct z-range at least once ###\n",
    "    z_bool = ((z_range[0]< new_zs) & (new_zs < z_range[1])).any(axis=0)\n",
    "    good_idxs = np.where(z_bool)[0]     # Where the condition is met\n",
    "\n",
    "\n",
    "    return good_idxs, new_zs.transpose()"
   ]
  },
  {
   "cell_type": "code",
   "execution_count": 4,
   "metadata": {},
   "outputs": [],
   "source": [
    "def my_PDF(xs, l68, u68):\n",
    "    \"\"\"\n",
    "    PDFs to draw the new redshifts from. Skewed-normal based on the confidence interval from COSMOS2020\n",
    "\n",
    "    INPUTS:\n",
    "        - xs (array)    = Median redshift values\n",
    "        - l68 (array)   = Lower bound of the 68% confidence interval\n",
    "        - u68 (array)   = Upper bound of the 68% confidence interval\n",
    "    OUTPUTS:\n",
    "        - (array)   = New redshift values. redshifts <0 or unavailable are marked -99\n",
    "    \"\"\"\n",
    "    omega = np.sqrt((l68**2 + u68**2)/2)        # Scale of skew-normal  \n",
    "    alpha = ((np.pi/2)**0.5 * (u68-l68)) / np.sqrt(2*l68**2 + 2*u68**2 - np.pi*(u68-l68)**2/2)  # Skewness\n",
    "    bad_idxs = np.where((omega != omega) | (alpha != alpha) )   # Find nan's in either array\n",
    "\n",
    "    # Replace NaNs with 1 temporarily for calculation\n",
    "    alpha[bad_idxs] = 1     \n",
    "    omega[bad_idxs] = 1\n",
    "\n",
    "    z_vals = skewnorm.rvs(a=alpha, loc=xs, scale=omega) # Find new zs based on skew-normal\n",
    "    z_vals[bad_idxs] = np.nan  # Replace NaNs with -99\n",
    "    return z_vals"
   ]
  },
  {
   "cell_type": "markdown",
   "metadata": {},
   "source": [
    "---"
   ]
  },
  {
   "cell_type": "markdown",
   "metadata": {},
   "source": [
    "----\n",
    "---\n",
    "---"
   ]
  },
  {
   "cell_type": "markdown",
   "metadata": {},
   "source": [
    "# MC C20 Photometry"
   ]
  },
  {
   "cell_type": "code",
   "execution_count": 5,
   "metadata": {},
   "outputs": [
    {
     "name": "stdout",
     "output_type": "stream",
     "text": [
      "Number of galaxies = 1720700\n",
      "Number of bad galaxies = 19258\n"
     ]
    }
   ],
   "source": [
    "## READ IN FILE ##\n",
    "cosmos_file = fits.open(r\"C:/Users/sikor/OneDrive/Desktop/BigData/COSMOS2020/COSMOS2020_CLASSIC_R1_v2.0.fits\")\n",
    "c20p = cosmos_file[1].data\n",
    "\n",
    "## FIND BAD GALAXIES ##\n",
    "bad_ids = np.where((np.isnan(c20p[\"lp_zPDF\"]) == True) |        # No redshift from lephare\n",
    "                   (np.isnan(c20p[\"lp_zPDF_l68\"]) == True) |    # No lower-68-percentile from lephare\n",
    "                   (np.isnan(c20p[\"lp_zPDF_u68\"]) == True))[0]  # no upper-68-percentile from lephare\n",
    "\n",
    "print(f\"Number of galaxies = {len(c20p)}\")\n",
    "print(f\"Number of bad galaxies = {len(bad_ids)}\")\n",
    "\n",
    "## INSERT TEMP DATA IN BAD IDs ##\n",
    "c20p[\"lp_zPDF\"][bad_ids] = 2\n",
    "c20p[\"lp_zPDF_l68\"][bad_ids] = 1.9\n",
    "c20p[\"lp_zPDF_u68\"][bad_ids] = 2.1"
   ]
  },
  {
   "cell_type": "code",
   "execution_count": 6,
   "metadata": {},
   "outputs": [
    {
     "name": "stdout",
     "output_type": "stream",
     "text": [
      "0\n",
      "50\n",
      "100\n",
      "150\n",
      "200\n"
     ]
    }
   ],
   "source": [
    "#### RUN THE MC ####\n",
    "# ========================================================\n",
    "# ========================================================\n",
    "for run in range(4):\n",
    "    niter = 250      # Number of iterations\n",
    "\n",
    "    z_range = [2,3]         # Redshift range for \n",
    "    plot_field = f\"./MC_iterations/c20p_total_{run}/\"\n",
    "    plot_zrange = f\"./MC_iterations/c20p_Hyper_{run}/\"\n",
    "\n",
    "    phot_med = c20p[\"lp_zPDF\"]\n",
    "    phot_l68 = phot_med - c20p[\"lp_zPDF_l68\"]\n",
    "    phot_u68 = c20p[\"lp_zPDF_u68\"] - phot_med\n",
    "\n",
    "    # ========================================================\n",
    "    # ========================================================\n",
    "    # ========================================================\n",
    "\n",
    "    ## MC ##\n",
    "    phot_ids, new_pzs = MCz(niter, phot_med, np.zeros(len(c20p)), z_range, my_PDF, plot_field,\n",
    "                        plot_zrange, verbose=True, xs = phot_med, l68 = phot_l68, u68 = phot_u68)\n",
    "\n",
    "    ## Update bad galaxies ##\n",
    "    new_pzs[bad_ids] = np.full(shape=(len(bad_ids), niter), fill_value=-99)\n",
    "\n",
    "    ## WRITE TO RESULT FILE ##\n",
    "\n",
    "    # Update dtypes\n",
    "    dtypes = [c20p.dtype.descr[0]] + [(f\"MC_iter{n}\", \">f8\") for n in range(niter)]\n",
    "\n",
    "    # Make array to fill\n",
    "    write_arr = np.zeros(shape=(len(c20p)), dtype=dtypes)\n",
    "\n",
    "    write_arr[\"ID\"] = c20p[\"ID\"]\n",
    "    for n in range(niter):\n",
    "        write_arr[f\"MC_iter{n}\"] = new_pzs[:,n]\n",
    "\n",
    "    np.save(rf\"C:/Users/sikor/OneDrive/Desktop/BigData/COSMOS2020/C20_MC_250_{run}.npy\", write_arr)"
   ]
  },
  {
   "cell_type": "markdown",
   "metadata": {},
   "source": [
    "---"
   ]
  },
  {
   "cell_type": "markdown",
   "metadata": {},
   "source": [
    "# MC Spectra and Grism "
   ]
  },
  {
   "cell_type": "code",
   "execution_count": 3,
   "metadata": {},
   "outputs": [
    {
     "name": "stdout",
     "output_type": "stream",
     "text": [
      "Number of C20 spectra: 42776\n",
      "Number of missing spectra: 2562\n",
      "Number of Grism redshifts: 12764\n",
      "Number of missing grisms: 53\n"
     ]
    }
   ],
   "source": [
    "## LOAD DATA ##\n",
    "# PHOTO-Zs\n",
    "cosmos_file = fits.open(r\"C:/Users/sikor/OneDrive/Desktop/BigData/COSMOS2020/COSMOS2020_CLASSIC_R1_v2.0.fits\")\n",
    "c20p = cosmos_file[1].data\n",
    "\n",
    "# SPECTRA\n",
    "specz_cat = np.loadtxt(\"./Data/master_specz_COSMOS_BF_v4b.cat\", dtype=object)   # Load in the data\n",
    "# Fix up the formatting for the spec data-file:\n",
    "new_array = []\n",
    "for idx in range(specz_cat.shape[1]):\n",
    "    try:\n",
    "        col = specz_cat[:,idx].astype(np.float32)\n",
    "    except:\n",
    "        col = specz_cat[:,idx]\n",
    "    new_array.append(col)\n",
    "\n",
    "c20s = np.array(new_array, dtype=object)\n",
    "c20s = np.transpose(c20s)\n",
    "\n",
    "miss_spec = np.where(c20s[:,0] == -99)[0]   # spectra not in the cosmos catalog\n",
    "\n",
    "print(f\"Number of C20 spectra: {c20s.shape[0]}\")\n",
    "print(f\"Number of missing spectra: {len(miss_spec)}\")\n",
    "\n",
    "# ----------------------------------------------------------------------\n",
    "# ----------------------------------------------------------------------\n",
    "\n",
    "# GRISM\n",
    "griz_cat = np.loadtxt(\"./Data/HST_Hyp.v1.1.cat\", skiprows=1, usecols=range(15), dtype=object)   # Load in the data\n",
    "# Fix up the formatting for the spec data-file:\n",
    "new_array = []\n",
    "for idx in range(griz_cat.shape[1]):\n",
    "    try:\n",
    "        col = griz_cat[:,idx].astype(np.float32)\n",
    "    except:\n",
    "        col = griz_cat[:,idx]\n",
    "    new_array.append(col)\n",
    "\n",
    "griz = np.array(new_array, dtype=object)\n",
    "griz = np.transpose(griz)\n",
    "\n",
    "miss_griz = np.where(griz[:,4] == -99)[0]   # spectra not in the cosmos catalog\n",
    "\n",
    "print(f\"Number of Grism redshifts: {griz.shape[0]}\")\n",
    "print(f\"Number of missing grisms: {len(miss_griz)}\")"
   ]
  },
  {
   "cell_type": "code",
   "execution_count": 4,
   "metadata": {},
   "outputs": [
    {
     "name": "stdout",
     "output_type": "stream",
     "text": [
      "Unique Grizli Objects = 10053\n",
      "Unique Spec Objects = 40106\n",
      "Common Objects = 2711\n"
     ]
    }
   ],
   "source": [
    "## FIND COMMON OBJECTS ##\n",
    "gids = []       # idx in grism catalog of common object\n",
    "sids = []       # idx in spectrum catalog of common object \n",
    "\n",
    "sim_objs = []   # Keep track of info of the object for MC use --> [C20_ID, zs, qf_s, zg, qf_gz]\n",
    "\n",
    "for g_id, c_id in enumerate(griz[:,4]):\n",
    "    if c_id > 0:    # Make sure it's a cosmos object\n",
    "        t = np.where(c_id == c20s[:,0])[0]\n",
    "\n",
    "        if len(t) != 0: # Object is in both\n",
    "            gids.append(g_id)   # Add grism id\n",
    "            sids.append(t[0])   # Add spec id\n",
    "            sim_objs.append([c_id, griz[g_id][9], griz[g_id][10], griz[g_id][12], griz[g_id][14]])\n",
    "\n",
    "\n",
    "# Create unique catalogs\n",
    "spec_unique = np.delete(c20s, sids, axis=0)\n",
    "griz_unique = np.delete(griz, gids, axis=0)\n",
    "sim_objs = np.array(sim_objs)\n",
    "\n",
    "print(f\"Unique Grizli Objects = {len(griz_unique)}\")\n",
    "print(f\"Unique Spec Objects = {len(spec_unique)}\")\n",
    "print(f\"Common Objects = {len(sim_objs)}\")"
   ]
  },
  {
   "cell_type": "code",
   "execution_count": 40,
   "metadata": {},
   "outputs": [],
   "source": [
    "## PREP STORAGE ARRAY ## \n",
    "niter = 1000\n",
    "\n",
    "dtypes = [c20p.dtype.descr[0]] + [(f\"MC_iter{n}\", \">f8\") for n in range(niter)]\n",
    "\n",
    "# Make array to fill\n",
    "spec_mc = np.zeros(shape=(len(spec_unique) + len(griz_unique) + len(sim_objs)), dtype=dtypes)"
   ]
  },
  {
   "cell_type": "markdown",
   "metadata": {},
   "source": [
    "## MC C20 Spectra"
   ]
  },
  {
   "cell_type": "code",
   "execution_count": 41,
   "metadata": {},
   "outputs": [
    {
     "name": "stdout",
     "output_type": "stream",
     "text": [
      "Number of bad p(z)'s for specta: 3911\n"
     ]
    }
   ],
   "source": [
    "## Pack parameters of spectra from cosmos catalog ##\n",
    "bad_spec = [] # where parameters have a nan\n",
    "gal_params = []\n",
    "for s_id, c_id in enumerate(spec_unique[:,0].astype(int)):\n",
    "\n",
    "    if c_id == -99:     # Not a cosmos object\n",
    "        bad_spec.append(s_id)\n",
    "        gal_params.append([2, 1.9, 2.1])    # make up temporary parameters\n",
    "\n",
    "    else:   # It is a cosmos object\n",
    "        med = c20p[\"lp_zPDF\"][c_id-1]\n",
    "        l68 = med - c20p[\"lp_zPDF_l68\"][c_id-1]\n",
    "        u68 = c20p[\"lp_zPDF_u68\"][c_id-1] - med\n",
    "\n",
    "\n",
    "        if (med != med) or (l68 != l68) or (u68 != u68):   # p(z) contains a NaN\n",
    "            bad_spec.append(s_id)\n",
    "            gal_params.append([2, 1.9, 2.1])    # make up temporary parameters\n",
    "\n",
    "        else:\n",
    "            gal_params.append([med, l68, u68])\n",
    "\n",
    "gal_params = np.array(gal_params)\n",
    "bad_spec = np.array(bad_spec)\n",
    "print(f\"Number of bad p(z)'s for specta: {len(bad_spec)}\")"
   ]
  },
  {
   "cell_type": "code",
   "execution_count": 42,
   "metadata": {},
   "outputs": [
    {
     "data": {
      "application/vnd.jupyter.widget-view+json": {
       "model_id": "2472a28170b3489382d5adc7bd5920da",
       "version_major": 2,
       "version_minor": 0
      },
      "text/plain": [
       "  0%|          | 0/1000 [00:00<?, ?it/s]"
      ]
     },
     "metadata": {},
     "output_type": "display_data"
    },
    {
     "name": "stdout",
     "output_type": "stream",
     "text": [
      "0\n",
      "50\n",
      "100\n",
      "150\n",
      "200\n",
      "250\n",
      "300\n",
      "350\n",
      "400\n",
      "450\n",
      "500\n",
      "550\n",
      "600\n",
      "650\n",
      "700\n",
      "750\n",
      "800\n",
      "850\n",
      "900\n",
      "950\n"
     ]
    }
   ],
   "source": [
    "#### RUN THE MC ####\n",
    "# ========================================================\n",
    "# ========================================================\n",
    "z_range = [2,3]         # Redshift range for \n",
    "plot_field = \"./MC_iterations/c20s_total/\"\n",
    "plot_zrange = \"./MC_iterations/c20s_Hyper/\"\n",
    "\n",
    "spec_z = spec_unique[:,11]         # orginal spec-z\n",
    "spec_med = gal_params[:,0]  # parameters for the p(z)\n",
    "spec_l68 = gal_params[:,1]\n",
    "spec_u68 = gal_params[:,2]\n",
    "\n",
    "# Set the MC weights based on the quality flags\n",
    "qfs = spec_unique[:,13] % 10      # \n",
    "spec_weights = np.select( [(qfs >=2.)&(qfs<3.),(qfs>=9.)&(qfs<10.), (qfs>=3.)&(qfs<5.) ],\n",
    "                [0.7, 0.7, 0.993],\n",
    "                default=0)\n",
    "# ========================================================\n",
    "# ========================================================\n",
    "# ========================================================\n",
    "\n",
    "## MC ##\n",
    "spec_ids, new_szs = MCz(niter, spec_z, spec_weights, z_range, my_PDF, plot_field,\n",
    "                    plot_zrange, verbose=True, xs = spec_med, l68 = spec_l68, u68 = spec_u68)\n",
    "\n",
    "## Update bad galaxies ##\n",
    "new_szs[bad_spec] = np.full(shape=(len(bad_spec), niter), fill_value=-99)\n",
    "\n",
    "## WRITE TO RESULT FILE ##\n",
    "\n",
    "# # Update dtypes\n",
    "# dtypes = [c20p.dtype.descr[0]] + [(f\"MC_iter{n}\", \">f8\") for n in range(niter)]\n",
    "\n",
    "# # Make array to fill\n",
    "# write_arr = np.zeros(shape=(len(spec_unique)), dtype=dtypes)\n",
    "\n",
    "# write_arr[\"ID\"] = spec_unique[:,0]\n",
    "# for n in range(niter):\n",
    "#     write_arr[f\"MC_iter{n}\"] = new_szs[:,n]\n",
    "\n",
    "# np.save(r\"C:/Users/sikor/OneDrive/Desktop/BigData/COSMOS2020/C20_spec_MC_1000.npy\", write_arr)\n",
    "\n",
    "spec_mc[\"ID\"][:len(new_szs)] = spec_unique[:,0]     # update with cosmos IDs\n",
    "\n",
    "for n in range(niter):\n",
    "    spec_mc[f\"MC_iter{n}\"][:len(new_szs)] = new_szs[:,n]"
   ]
  },
  {
   "cell_type": "markdown",
   "metadata": {},
   "source": [
    "---"
   ]
  },
  {
   "cell_type": "markdown",
   "metadata": {},
   "source": [
    "## MC Grizli Spectra"
   ]
  },
  {
   "cell_type": "code",
   "execution_count": 43,
   "metadata": {},
   "outputs": [
    {
     "name": "stdout",
     "output_type": "stream",
     "text": [
      "Number of bad p(z)'s for specta: 485\n"
     ]
    }
   ],
   "source": [
    "## Pack parameters of spectra from cosmos catalog ##\n",
    "bad_griz = [] # where parameters have a nan\n",
    "griz_params = []\n",
    "for g_id, c_id in enumerate(griz_unique[:,4].astype(int)):\n",
    "\n",
    "    if c_id == -99:     # Not a cosmos object\n",
    "        bad_griz.append(g_id)\n",
    "        griz_params.append([2, 1.9, 2.1])    # make up temporary parameters\n",
    "\n",
    "    else:   # It is a cosmos object\n",
    "        med = c20p[\"lp_zPDF\"][c_id-1]\n",
    "        l68 = med - c20p[\"lp_zPDF_l68\"][c_id-1]\n",
    "        u68 = c20p[\"lp_zPDF_u68\"][c_id-1] - med\n",
    "\n",
    "\n",
    "        if (med != med) or (l68 != l68) or (u68 != u68):   # p(z) contains a NaN\n",
    "            bad_griz.append(g_id)\n",
    "            griz_params.append([2, 1.9, 2.1])    # make up temporary parameters\n",
    "\n",
    "        else:\n",
    "            griz_params.append([med, l68, u68])\n",
    "\n",
    "griz_params = np.array(griz_params)\n",
    "bad_griz = np.array(bad_griz)\n",
    "print(f\"Number of bad p(z)'s for specta: {len(bad_griz)}\")"
   ]
  },
  {
   "cell_type": "code",
   "execution_count": 44,
   "metadata": {},
   "outputs": [
    {
     "data": {
      "application/vnd.jupyter.widget-view+json": {
       "model_id": "8a414b5a66ae424b9a7e0a6daf0894c2",
       "version_major": 2,
       "version_minor": 0
      },
      "text/plain": [
       "  0%|          | 0/1000 [00:00<?, ?it/s]"
      ]
     },
     "metadata": {},
     "output_type": "display_data"
    }
   ],
   "source": [
    "#### RUN THE MC ####\n",
    "# ========================================================\n",
    "# ========================================================\n",
    "z_range = [2,3]         # Redshift range for \n",
    "plot_field = \"./MC_iterations/griz_total/\"\n",
    "plot_zrange = \"./MC_iterations/griz_Hyper/\"\n",
    "\n",
    "griz_z = griz_unique[:,12].astype(float)         # orginal spec-z\n",
    "griz_width = 46/14100*(1+griz_z)       # Width of the normal distribution to draw from\n",
    "\n",
    "griz_med = griz_params[:,0]  # parameters for the p(z)\n",
    "griz_l68 = griz_params[:,1]\n",
    "griz_u68 = griz_params[:,2]\n",
    "\n",
    "\n",
    "# Set the MC weights based on the quality flags\n",
    "qfs = griz_unique[:,-1]  \n",
    "griz_weights = np.select( [qfs==5, qfs==4, qfs==3 ],\n",
    "                [0.925, 0.818, 0.668],\n",
    "                default=0)\n",
    "\n",
    "# ========================================================\n",
    "# ========================================================\n",
    "# ========================================================\n",
    "spec_mc[\"ID\"][len(new_szs):len(new_szs) + len(griz_unique)] = griz_unique[:,4]     # update with cosmos IDs\n",
    "\n",
    "for n in tqdm(range(niter)):\n",
    "\n",
    "    gzs = np.random.normal(griz_z, griz_width)\n",
    "\n",
    "    ## MC ##\n",
    "    griz_ids, new_g = MCz(1, gzs, griz_weights, z_range, my_PDF, plot_field,\n",
    "                        plot_zrange, verbose=False, xs = griz_med, l68 = griz_l68, u68 = griz_u68)\n",
    "    \n",
    "    new_gzs = new_g.flatten()\n",
    "    new_gzs[bad_griz] = -99\n",
    "    \n",
    "    spec_mc[f\"MC_iter{n}\"][len(new_szs):len(new_szs) + len(griz_unique)] = new_gzs\n",
    "\n",
    "\n",
    "## Update bad galaxies ##\n",
    "# new_gzs[bad_griz] = np.full(shape=(len(bad_griz), niter), fill_value=-99)\n",
    "\n",
    "## WRITE TO RESULT FILE ##\n",
    "\n",
    "# Update dtypes\n",
    "# dtypes = [c20p.dtype.descr[0]] + [(f\"MC_iter{n}\", \">f8\") for n in range(niter)]\n",
    "\n",
    "# Make array to fill\n",
    "# write_arr = np.zeros(shape=(len(griz)), dtype=dtypes)\n",
    "\n",
    "# write_arr[\"ID\"] = griz[:,0]\n",
    "# for n in range(niter):\n",
    "#     write_arr[f\"MC_iter{n}\"] = new_gzs[:,n]\n",
    "\n",
    "# np.save(r\"C:/Users/sikor/OneDrive/Desktop/BigData/COSMOS2020/grizli_MC_1000.npy\", write_arr)"
   ]
  },
  {
   "cell_type": "markdown",
   "metadata": {},
   "source": [
    "---"
   ]
  },
  {
   "cell_type": "markdown",
   "metadata": {},
   "source": [
    "## MC Common Objects"
   ]
  },
  {
   "cell_type": "code",
   "execution_count": 45,
   "metadata": {},
   "outputs": [
    {
     "name": "stdout",
     "output_type": "stream",
     "text": [
      "Number of bad p(z)'s for specta: 105\n"
     ]
    }
   ],
   "source": [
    "## Pack parameters of spectra from cosmos catalog ##\n",
    "bad_com = [] # where parameters have a nan\n",
    "com_params = []\n",
    "for idx, c_id in enumerate(sim_objs[:,0].astype(int)):\n",
    "\n",
    "    med = c20p[\"lp_zPDF\"][c_id-1]\n",
    "    l68 = med - c20p[\"lp_zPDF_l68\"][c_id-1]\n",
    "    u68 = c20p[\"lp_zPDF_u68\"][c_id-1] - med\n",
    "\n",
    "\n",
    "    if (med != med) or (l68 != l68) or (u68 != u68):   # p(z) contains a NaN\n",
    "        bad_com.append(idx)\n",
    "        com_params.append([2, 1.9, 2.1])    # make up temporary parameters\n",
    "\n",
    "    else:\n",
    "        com_params.append([med, l68, u68])\n",
    "\n",
    "com_params = np.array(com_params)\n",
    "bad_com = np.array(bad_com)\n",
    "print(f\"Number of bad p(z)'s for specta: {len(bad_com)}\")"
   ]
  },
  {
   "cell_type": "code",
   "execution_count": 64,
   "metadata": {},
   "outputs": [
    {
     "data": {
      "application/vnd.jupyter.widget-view+json": {
       "model_id": "b3c844af812149be8a7d4d4b85af4815",
       "version_major": 2,
       "version_minor": 0
      },
      "text/plain": [
       "  0%|          | 0/1000 [00:00<?, ?it/s]"
      ]
     },
     "metadata": {},
     "output_type": "display_data"
    }
   ],
   "source": [
    "#### RUN THE MC ####\n",
    "# ========================================================\n",
    "# ========================================================\n",
    "z_range = [2,3]         # Redshift range for \n",
    "plot_field = \"./MC_iterations/sim_total/\"\n",
    "plot_zrange = \"./MC_iterations/sim_Hyper/\"\n",
    "\n",
    "com_med = com_params[:,0]  # parameters for the p(z)\n",
    "com_l68 = com_params[:,1]\n",
    "com_u68 = com_params[:,2]\n",
    "\n",
    "\n",
    "## Weights\n",
    "\n",
    "# Spectra weights\n",
    "qfs = sim_objs[:,2] % 10      # \n",
    "spec_weights = np.select( [(qfs >=2.)&(qfs<3.),(qfs>=9.)&(qfs<10.), (qfs>=3.)&(qfs<5.) ],\n",
    "                [0.7, 0.7, 0.993],\n",
    "                default=0)\n",
    "\n",
    "# Grizli weights \n",
    "qfg = sim_objs[:,-1]  \n",
    "griz_weights = np.select( [qfg==5, qfg==4, qfg==3 ],\n",
    "                [0.925, 0.818, 0.668],\n",
    "                default=0)\n",
    "\n",
    "# Combine\n",
    "sim_weights = np.c_[spec_weights, griz_weights]\n",
    "\n",
    "# Keep track of which flag is higher\n",
    "max_id = np.argmax(sim_weights, axis=1)\n",
    "\n",
    "# Sort the weights\n",
    "sim_weights = np.sort(sim_weights, axis=1)\n",
    "\n",
    "\n",
    "spec_mc[\"ID\"][len(new_szs) + len(griz_unique):] = sim_objs[:,0]     # update with cosmos IDs\n",
    "# ========================================================\n",
    "# ========================================================\n",
    "# ========================================================\n",
    "\n",
    "for n in tqdm(range(1000)):\n",
    "\n",
    "    # Draw random number for each object:\n",
    "    mc_rns = np.random.random(size=len(sim_weights))\n",
    "\n",
    "    # Choose specz, griz, or photoz\n",
    "    z_choice = []   \n",
    "    for rn_idx, rn in enumerate(mc_rns):\n",
    "        sw = sim_weights[rn_idx]    # weights for this spectrum\n",
    "\n",
    "        if rn < sw[1]: \n",
    "            z_choice.append(max_id[rn_idx]) # Choose better spectrum\n",
    "\n",
    "        elif (rn >=sw[1]) and (rn < sw[1]+sw[0]*(1-sw[1])):\n",
    "            z_choice.append(not(max_id[rn_idx]))    # Choose worse spectrum\n",
    "\n",
    "        else:\n",
    "            z_choice.append(2)  # Choose photoz\n",
    "\n",
    "    \n",
    "    # Make random grism redshifts\n",
    "    g_rand = np.random.normal(sim_objs[:,3], 46/14100*(1+sim_objs[:,3]) )\n",
    "\n",
    "    # Pick which redshift to use\n",
    "    z_meds = np.select([z_choice == 0, z_choice == 1, z_choice == 2], \n",
    "                       [sim_objs[:,1],  g_rand, 2])\n",
    "    \n",
    "    # Assign weights\n",
    "    ws = [0 if zi == 2 else 1 for zi in z_choice]\n",
    "\n",
    "\n",
    "    ## MC ##\n",
    "    _, new_sim = MCz(1, z_meds, ws, z_range, my_PDF, plot_field,\n",
    "                        plot_zrange, verbose=False, xs = com_med, l68 = com_l68, u68 = com_u68)\n",
    "    \n",
    "    new_simz = new_sim.flatten()\n",
    "    new_simz[bad_com] = -99\n",
    "    \n",
    "    spec_mc[f\"MC_iter{n}\"][len(new_szs) + len(griz_unique):] = new_simz"
   ]
  },
  {
   "cell_type": "code",
   "execution_count": 65,
   "metadata": {},
   "outputs": [],
   "source": [
    "np.save(r\"C:/Users/sikor/OneDrive/Desktop/BigData/COSMOS2020/MC_spec.npy\", spec_mc)"
   ]
  },
  {
   "cell_type": "markdown",
   "metadata": {},
   "source": [
    "----\n",
    "----\n",
    "----\n"
   ]
  },
  {
   "cell_type": "markdown",
   "metadata": {},
   "source": [
    "# Fix up stuff"
   ]
  },
  {
   "cell_type": "code",
   "execution_count": 66,
   "metadata": {},
   "outputs": [],
   "source": [
    "### Sort spectra by cosmos ID ###\n",
    "sorted_spec = np.sort(spec_mc)"
   ]
  },
  {
   "cell_type": "code",
   "execution_count": 74,
   "metadata": {},
   "outputs": [
    {
     "data": {
      "application/vnd.jupyter.widget-view+json": {
       "model_id": "f22bf1362b434016b477174d1a759061",
       "version_major": 2,
       "version_minor": 0
      },
      "text/plain": [
       "  0%|          | 0/52870 [00:00<?, ?it/s]"
      ]
     },
     "metadata": {},
     "output_type": "display_data"
    },
    {
     "data": {
      "application/vnd.jupyter.widget-view+json": {
       "model_id": "896f9e18061747a289f8e4a210b5b8fb",
       "version_major": 2,
       "version_minor": 0
      },
      "text/plain": [
       "  0%|          | 0/1000 [00:00<?, ?it/s]"
      ]
     },
     "metadata": {},
     "output_type": "display_data"
    }
   ],
   "source": [
    "niter = 1000\n",
    "\n",
    "dtypes = [c20p.dtype.descr[0]] + [(\"zs\", \">f8\"), (\"zg\", \">f8\")] + [(f\"MC_iter{n}\", \">f8\") for n in range(niter)]\n",
    "\n",
    "# Make array to fill\n",
    "final_spec = np.zeros(shape=(len(sorted_spec)), dtype=dtypes)\n",
    "\n",
    "final_spec[\"ID\"] = sorted_spec[\"ID\"]\n",
    "\n",
    "# Add original redshifts\n",
    "zs = []\n",
    "zg = []\n",
    "\n",
    "for id in tqdm(final_spec[\"ID\"]):\n",
    "    # Get original specz\n",
    "    spec_check = np.where(c20s[:,0] == id)[0]\n",
    "    if len(spec_check)!= 0: zs.append(c20s[:,11][spec_check[0]])\n",
    "    else: zs.append(-99)\n",
    "\n",
    "    # get original griz-z\n",
    "    griz_check = np.where(griz[:,4] == id)[0]\n",
    "    if len(griz_check) != 0: zg.append(griz[:,12][griz_check[0]])\n",
    "    else: zg.append(-99)\n",
    "\n",
    "final_spec[\"zs\"] = zs\n",
    "final_spec[\"zg\"] = zg\n",
    "\n",
    "for n in tqdm(range(niter)):\n",
    "    final_spec[f\"MC_iter{n}\"] = sorted_spec[f\"MC_iter{n}\"]\n",
    "\n",
    "np.save(r\"C:/Users/sikor/OneDrive/Desktop/BigData/COSMOS2020/C20spec_MC_1000.npy\", final_spec)\n"
   ]
  },
  {
   "cell_type": "code",
   "execution_count": 73,
   "metadata": {},
   "outputs": [
    {
     "data": {
      "application/vnd.jupyter.widget-view+json": {
       "model_id": "4175725203d1499694286999cc5ca210",
       "version_major": 2,
       "version_minor": 0
      },
      "text/plain": [
       "  0%|          | 0/250 [00:00<?, ?it/s]"
      ]
     },
     "metadata": {},
     "output_type": "display_data"
    },
    {
     "data": {
      "application/vnd.jupyter.widget-view+json": {
       "model_id": "50a1fec06123494d85b338b99d5d13c6",
       "version_major": 2,
       "version_minor": 0
      },
      "text/plain": [
       "  0%|          | 0/250 [00:00<?, ?it/s]"
      ]
     },
     "metadata": {},
     "output_type": "display_data"
    },
    {
     "data": {
      "application/vnd.jupyter.widget-view+json": {
       "model_id": "521eb63a960743b684c87f56cc1e84ec",
       "version_major": 2,
       "version_minor": 0
      },
      "text/plain": [
       "  0%|          | 0/250 [00:00<?, ?it/s]"
      ]
     },
     "metadata": {},
     "output_type": "display_data"
    },
    {
     "data": {
      "application/vnd.jupyter.widget-view+json": {
       "model_id": "3beee61e4ec549ceb4529d2daf5064ce",
       "version_major": 2,
       "version_minor": 0
      },
      "text/plain": [
       "  0%|          | 0/250 [00:00<?, ?it/s]"
      ]
     },
     "metadata": {},
     "output_type": "display_data"
    }
   ],
   "source": [
    "cosmos_file = fits.open(r\"C:/Users/sikor/OneDrive/Desktop/BigData/COSMOS2020/COSMOS2020_CLASSIC_R1_v2.0.fits\")\n",
    "c20p = cosmos_file[1].data\n",
    "\n",
    "niter = 250\n",
    "\n",
    "for run in range(4):\n",
    "\n",
    "    mcs = np.load(rf\"C:/Users/sikor/OneDrive/Desktop/BigData/COSMOS2020/C20_MC_250_{run}.npy\")\n",
    "\n",
    "\n",
    "    dtypes = [c20p.dtype.descr[0]] + [(\"lp_zPDF\", \">f8\")] + [(f\"MC_iter{n}\", \">f8\") for n in range(niter)]\n",
    "\n",
    "    # Make array to fill\n",
    "    final = np.zeros(shape=(len(mcs)), dtype=dtypes)\n",
    "\n",
    "    final[\"ID\"] = mcs[\"ID\"]\n",
    "\n",
    "    final[\"lp_zPDF\"] = c20p[\"lp_zPDF\"]\n",
    "\n",
    "    for n in tqdm(range(niter)):\n",
    "        final[f\"MC_iter{n}\"] = mcs[f\"MC_iter{n}\"]\n",
    "\n",
    "\n",
    "    mcs = np.save(rf\"C:/Users/sikor/OneDrive/Desktop/BigData/COSMOS2020/C20_MC_250_{run}_redo.npy\", final)\n",
    "\n"
   ]
  }
 ],
 "metadata": {
  "kernelspec": {
   "display_name": "py38",
   "language": "python",
   "name": "python3"
  },
  "language_info": {
   "codemirror_mode": {
    "name": "ipython",
    "version": 3
   },
   "file_extension": ".py",
   "mimetype": "text/x-python",
   "name": "python",
   "nbconvert_exporter": "python",
   "pygments_lexer": "ipython3",
   "version": "3.8.19"
  }
 },
 "nbformat": 4,
 "nbformat_minor": 2
}
