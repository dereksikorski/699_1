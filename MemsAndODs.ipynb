{
 "cells": [
  {
   "cell_type": "markdown",
   "metadata": {},
   "source": [
    "# Goals"
   ]
  },
  {
   "cell_type": "markdown",
   "metadata": {},
   "source": [
    "In this file, I want to take the sliced arrays of data from the \"CuttingData.ipynb\" file and assign membership Booleans and overdensity values to each galaxy in my data cube.\n",
    "\n",
    "For this, I need:\n",
    "- List of galaxies with an (RA, dec, z)\n",
    "- VMC map for overdensities\n",
    "- .dat files from \"find_peaks.py\" that has galaxy memberships\n",
    "\n",
    "Then, I can write a python function that takes in the parameters above and spits out:\n",
    "- the overdensity value of a given galaxy\n",
    "- if the galaxy is a member for a given overdensity"
   ]
  },
  {
   "cell_type": "code",
   "execution_count": 1,
   "metadata": {},
   "outputs": [],
   "source": [
    "### IMPORTS ###\n",
    "import numpy as np\n",
    "import matplotlib.pyplot as plt\n",
    "from astropy.io import fits\n",
    "import os\n",
    "from astropy.cosmology import Planck15, FlatLambdaCDM\n",
    "from astropy import units as u\n",
    "\n",
    "### COSMOLOGY ###\n",
    "cosmo = FlatLambdaCDM(H0=70.0, Om0=0.27)"
   ]
  },
  {
   "cell_type": "code",
   "execution_count": 2,
   "metadata": {},
   "outputs": [],
   "source": [
    "### IMPORT GALAXY DATA ###\n",
    "\n",
    "## C20 phot data:\n",
    "c20p = np.load(\"Data/Hyperion_C20_phot_noOD.npy\", allow_pickle=True)\n",
    "\n",
    "## C20 spec data:\n",
    "c20s = np.loadtxt(\"Data/Hyperion_C20_spec_noOD.txt\", dtype=str, skiprows=1)\n",
    "\n",
    "# Fix up the formatting for the spec data-file:\n",
    "new_array = []\n",
    "for idx in range(c20s.shape[1]):\n",
    "    try:\n",
    "        col = c20s[:,idx].astype(np.float32)\n",
    "    except:\n",
    "        col = c20s[:,idx]\n",
    "    new_array.append(col)\n",
    "\n",
    "c20s = np.array(new_array, dtype=object)\n",
    "c20s = np.transpose(c20s)"
   ]
  },
  {
   "cell_type": "code",
   "execution_count": 3,
   "metadata": {},
   "outputs": [],
   "source": [
    "### IMPORT OD DATA ###\n",
    "\n",
    "## VMC map\n",
    "vmc = fits.open(r\"C:/Users/sikor/OneDrive/Desktop/BigData/HyperionVMC/\" + \\\n",
    "                \"masterallz.COSMOS.mastermedVoronoi.specprobabilistic.overdens.100interations.fits\")\n",
    "\n",
    "## Interpolated sigma cube\n",
    "sig_cube = fits.open(r\"C:\\Users\\sikor\\OneDrive\\Desktop\\benpy\\ThirdTry\\Hyperion_interpolated_cube_sigma.fits\")\n",
    "\n",
    "## Path for folders with .dat sigma files\n",
    "sigPath = r\"C:\\Users\\sikor\\OneDrive\\Desktop\\benpy\\HyperionPeaks\""
   ]
  },
  {
   "cell_type": "markdown",
   "metadata": {},
   "source": [
    "### Sigma-file Data description\n",
    "\n",
    "0. Smoothed grid of the interpolated densities for each redshift (RA, dec, z)\n",
    "1. 1D array of RA\n",
    "2. 1D array of Dec\n",
    "3. 1D array of avg z for each slice\n",
    "4. 1D array of min z for each slice\n",
    "5. 1D array of max z for each slice\n",
    "6. mean density as fn of z\n",
    "7. mean overdensity as fn of z\n",
    "8. std dev of overdensity as fn of z\n",
    "9. 2nd-order poly fit of (7)\n",
    "10. 2nd-order poly fit of (8)\n",
    "11. 5th-order poly fit of (7)\n",
    "12. 5th-order poly fit of (8)\n",
    "\n",
    "where \"overdensity\" $\\log(1+\\delta_{gal})$ is given by:\n",
    "$$\n",
    "\\log(1+\\delta_{gal}) = \\frac{\\Sigma}{\\bar{\\Sigma}}\n",
    "$$"
   ]
  },
  {
   "cell_type": "markdown",
   "metadata": {},
   "source": [
    "---\n",
    "---\n",
    "---"
   ]
  },
  {
   "cell_type": "markdown",
   "metadata": {},
   "source": [
    "# Memberships and Overdensities"
   ]
  },
  {
   "cell_type": "code",
   "execution_count": 4,
   "metadata": {},
   "outputs": [],
   "source": [
    "def getMembers(gal_data, sig_cube, sig_path, sig_sums, sig_folders, write=False):\n",
    "    \"\"\"\n",
    "    For each sigma, get membership status of galaxies\n",
    "\n",
    "    INPUTS:\n",
    "        \n",
    "    \"\"\"\n",
    "\n",
    "    ## Get Voxel each gal is in, it's overdensity, and sigma above mean (at given z)\n",
    "    voxels = []\n",
    "    ods = []\n",
    "    n_sig = []\n",
    "    for g in gal_data:\n",
    "        # Find voxel for [RA, dec, z_mean] of each galaxy \n",
    "        v = [np.argmin(np.abs(sig_cube[1].data - g[0])),\n",
    "             np.argmin(np.abs(sig_cube[2].data - g[1])),\n",
    "             np.argmin(np.abs(sig_cube[3].data - g[2]))] \n",
    "        voxels.append(v)    # Add the 3d voxel coord for the galaxy\n",
    "        \n",
    "        # Find overdensity (log(1+del_gal)\n",
    "        od = np.log10(sig_cube[0].data[v[2],v[1],v[0]] / sig_cube[6].data[v[2]] )\n",
    "        ods.append(od)  \n",
    "\n",
    "        # Find sigma above mean for given z-slice\n",
    "        n = (od - sig_cube[11].data[v[2]]) / sig_cube[12].data[v[2]]    # (od - mean) / sigma\n",
    "        n_sig.append(n)\n",
    "\n",
    "    if write==True:\n",
    "        save_array = np.c_[np.arange(len(voxels)), voxels, n_sig]\n",
    "        np.savetxt(\"VoxelTest.txt\", save_array.astype(int), fmt=\"%10.3i\")\n",
    "\n",
    "\n",
    "    ## For each sigma, test membership and return peak number\n",
    "    member_info = []    # Fill up for each sigma\n",
    "\n",
    "    for idx, s in enumerate(sig_sums):\n",
    "\n",
    "        pk_numbers = []    # What I'm storing the results in for this sigma\n",
    "\n",
    "        ## Find which peak (if any) contains the galaxy voxels\n",
    "        pk_sum = np.genfromtxt(sig_path + s, dtype=float, skip_header=0)      # Peak summary info\n",
    "        \n",
    "        pk_dict = {}        # Fill dict with peak info so I don't have to load in multiple times\n",
    "\n",
    "        for v in voxels:    # loop over each gal\n",
    "\n",
    "            v_status = False     # Remember if a galaxy has had a match found\n",
    "\n",
    "            for p in pk_sum:    # test each peak til I find appropriate range\n",
    "\n",
    "                if (p[-6]<=v[0] <= p[-5]) and (p[-4]<=v[1]<=p[-3]) and (p[-2]<=v[2]<=p[-1]):\n",
    "                    # If the voxel is potentially in the peak, find info if true\n",
    "                    \n",
    "                    try:\n",
    "                        p_data = pk_dict[p[0]]  # If I've already read in the peak data, just use that\n",
    "                    except:\n",
    "                        try:\n",
    "                            p_data = np.genfromtxt(sig_path+sig_folders[idx]+\"\\\\\"+f\"pixels_{int(p[0])}.dat\", comments = '#')\n",
    "                        except:\n",
    "                            p_data = np.genfromtxt(sig_path+sig_folders[idx]+\"\\\\\"+f\"pixels_0{int(p[0])}.dat\", comments = '#')\n",
    "                        # If peak hasn't been looked at yet, then save it to the dictionary. Note the name is weird because first peak is \"peak 1\"\n",
    "                        pk_dict[p[0]] = p_data  # Add to dictionary\n",
    "\n",
    "                    # Find if the galaxy voxel appears in this peak\n",
    "                    good_voxels = np.where((p_data[:,0] == v[0]) & (p_data[:,1]==v[1]) & (p_data[:,2] == v[2]))[0]\n",
    "\n",
    "                    if (len(good_voxels) != 0) and (v_status == False):\n",
    "                        # Match found! Save the peak number for this galaxy and pass to next one\n",
    "                        pk_numbers.append(p[0])\n",
    "                        v_status = True\n",
    "                        pass\n",
    "                    \n",
    "            if v_status == False:\n",
    "                pk_numbers.append(-99)  # If after loop over summary file potential match is found, then add -99 to file for peak number\n",
    "            \n",
    "        \n",
    "        # Add to membership info, or define info if this is the first sigma\n",
    "        if idx == 0:\n",
    "            member_info = pk_numbers\n",
    "        else:\n",
    "            member_info = np.c_[member_info, pk_numbers]\n",
    "\n",
    "\n",
    "    return ods, n_sig, member_info\n"
   ]
  },
  {
   "cell_type": "code",
   "execution_count": 5,
   "metadata": {},
   "outputs": [],
   "source": [
    "### MEMBERSHIP FOR SPECs ###\n",
    "gal_locations = np.c_[c20s[:,4], c20s[:,6], c20s[:,11]]\n",
    "sigs = [5.0, 4.5, 4.0, 3.5, 3.0, 2.5, 2.0]\n",
    "sig_path = sigPath\n",
    "sig_sums = [f\"\\peaks_sig{s}.dat\" for s in sigs]\n",
    "sig_folders = [f\"\\sig{s}_peaks\" for s in sigs]\n",
    "\n",
    "ods, n_sigs, spec_membership = getMembers(gal_locations, sig_cube, sig_path, sig_sums, sig_folders)\n",
    "\n",
    "c20s_od = np.c_[c20s, ods]\n",
    "c20s_odn = np.c_[c20s_od, n_sigs]\n",
    "c20s_od_mems = np.c_[c20s_odn, spec_membership]"
   ]
  },
  {
   "cell_type": "code",
   "execution_count": 6,
   "metadata": {},
   "outputs": [],
   "source": [
    "### MEMBERSHIP FOR PHOTOs ###\n",
    "gal_locations = np.c_[c20p[\"ALPHA_J2000\"], c20p[\"DELTA_J2000\"], c20p[\"lp_zPDF\"]]\n",
    "sigs = [5.0, 4.5, 4.0, 3.5, 3.0, 2.5, 2.0]\n",
    "sig_path = sigPath\n",
    "sig_sums = [f\"\\peaks_sig{s}.dat\" for s in sigs]\n",
    "sig_folders = [f\"\\sig{s}_peaks\" for s in sigs]\n",
    "\n",
    "ods, n_sig, phot_membership = getMembers(gal_locations, sig_cube, sig_path, sig_sums, sig_folders, write=True)\n",
    "\n",
    "### Append the peak info to the c20p array ###\n",
    "old_ds = c20p.dtype.descr    # Old dtypes\n",
    "more_ds = [(\"OD\", \">f8\"), (\"n_sigma\", \">f8\")] +[(f\"sigma_{s}\", \">f8\") for s in sigs]     # Add new dtypes for overdensity and each sigma\n",
    "new_ds = np.dtype(old_ds + more_ds)     # Append the new dtypes \n",
    "\n",
    "c20p_od_mems = np.zeros(c20p.shape, dtype=new_ds)    # generate an array of zeros to fill\n",
    "\n",
    "# Fill up the array\n",
    "\n",
    "for d in old_ds:    # Refill everything that was in original file\n",
    "    c20p_od_mems[d[0]] = c20p[d[0]]\n",
    "\n",
    "for idx, head in enumerate(more_ds):    # Fill all of the new columns\n",
    "    if idx == 0: \n",
    "        c20p_od_mems[head[0]] = ods\n",
    "    elif idx == 1:\n",
    "        c20p_od_mems[head[0]] = n_sig\n",
    "    else:\n",
    "        c20p_od_mems[head[0]] = phot_membership[:,idx-2]"
   ]
  },
  {
   "cell_type": "markdown",
   "metadata": {},
   "source": [
    "---\n",
    "---\n",
    "---"
   ]
  },
  {
   "cell_type": "markdown",
   "metadata": {},
   "source": [
    "# Save Data"
   ]
  },
  {
   "cell_type": "code",
   "execution_count": 10,
   "metadata": {},
   "outputs": [],
   "source": [
    "### Save spec ###\n",
    "heads = [[\"ID_C20\", \"ID_spec\", \"Survey\", \"RA_spec\", \"RA_C20\", \"Dec_spec\", \"Dec_C20\", \"K_C20\", \"K_diff\",\n",
    "         \"i_C20\", \"i_diff\", \"z_spec\", \"z_C20\", \"Spec_QF\", \"Match_Flag\", \"M_med\", \"M_16\", \"M_84\",\n",
    "          \"SFR_med\", \"SFR_16\", \"SFR_84\", \"Age_med\", \"Age_16\", \"Age_84\", \"NUV_abs\", \"u_abs\", \"r_abs\",\n",
    "           \"V_abs\", \"J_abs\", \"chi-sqr_Lehare\", \"Model_idx_Lephare\", \"E(B-V)_Lephare\", \"Overdensity_VMC\", \"n_sigma\",\n",
    "            \"sigma_5.0\", \"sigma_4.5\", \"sigma_4.0\", \"sigma_3.5\", \"sigma_3.0\", \"sigma_2.5\", \"sigma_2.0\" ]]\n",
    "c20s_save = np.concatenate([heads,c20s_od_mems])\n",
    "fmts = []\n",
    "for col in range(c20s_save.shape[1]):\n",
    "    col_data = c20s_save[:,col].astype(str)  #make all elements strings to check length\n",
    "    m_length = max([len(d) for d in col_data])  # find max length of elements in array\n",
    "    fmts.append(f'%-{int(m_length+4)}s')\n",
    "\n",
    "np.savetxt(\"Data/Hyperion_C20_spec.txt\", c20s_save, fmt=fmts)"
   ]
  },
  {
   "cell_type": "code",
   "execution_count": 11,
   "metadata": {},
   "outputs": [],
   "source": [
    "### Save Photometric data ###\n",
    "np.save(\"Data/Hyperion_C20_phot.npy\", c20p_od_mems)"
   ]
  },
  {
   "cell_type": "markdown",
   "metadata": {},
   "source": [
    "---\n",
    "---\n",
    "---\n"
   ]
  },
  {
   "cell_type": "markdown",
   "metadata": {},
   "source": [
    "# Re-find peak volumes"
   ]
  },
  {
   "cell_type": "markdown",
   "metadata": {},
   "source": [
    "I want to calculate a new peak-volume using astropy and then add this to the peak data-files."
   ]
  },
  {
   "cell_type": "code",
   "execution_count": 12,
   "metadata": {},
   "outputs": [],
   "source": [
    "def AP_coVol(ra, dec, zs):\n",
    "    \"\"\"\n",
    "    Return a comoving volume using Astropy in Mpc^3\n",
    "    \"\"\"\n",
    "    theta_dec = np.abs(dec[1]-dec[0])*np.pi/180 * u.rad\n",
    "    theta_RA  = np.abs(ra[0]-ra[1])*np.pi/180 * u.rad * np.cos(theta_dec)\n",
    "    Omega     = (theta_RA * theta_dec).to(u.steradian).value # get rid of unit\n",
    "\n",
    "    V         = Omega/(4*np.pi) *(cosmo.comoving_volume(zs[1]) - cosmo.comoving_volume(zs[0]))\n",
    "\n",
    "    return V.value"
   ]
  },
  {
   "cell_type": "code",
   "execution_count": 13,
   "metadata": {},
   "outputs": [],
   "source": [
    "def newVol(zs, z_map):\n",
    "    \"\"\"\n",
    "    Given a list of voxel-numbers (zs) and a dictionary that maps voxel-number to volume, this returns the sum of the volume of voxels\n",
    "    \"\"\"\n",
    "    return sum([z_map[z] for z in zs]) /10"
   ]
  },
  {
   "cell_type": "code",
   "execution_count": 14,
   "metadata": {},
   "outputs": [],
   "source": [
    "### Make a map of voxel-to-volume\n",
    "\n",
    "z_map = {}  # Fill with z_vox : vol \n",
    "dec_idx = int(len(sig_cube[2].data) / 2)    # Find the average dec in the cube to adjust the delta_ra\n",
    "ra_vals = [sig_cube[1].data[0], sig_cube[1].data[1]]\n",
    "dec_vals = [sig_cube[2].data[dec_idx], sig_cube[2].data[dec_idx+1]]\n",
    "\n",
    "\n",
    "# Loop through average redshift values to find volume for a given redshift index\n",
    "for id, z in enumerate(sig_cube[3].data):\n",
    "    z_vals = [sig_cube[4].data[id], sig_cube[5].data[id]]\n",
    "\n",
    "    z_map[id] = AP_coVol(ra_vals, dec_vals, z_vals)"
   ]
  },
  {
   "cell_type": "code",
   "execution_count": 15,
   "metadata": {},
   "outputs": [
    {
     "data": {
      "text/plain": [
       "17568201.120089788"
      ]
     },
     "execution_count": 15,
     "metadata": {},
     "output_type": "execute_result"
    }
   ],
   "source": [
    "sum(list(z_map.values()))*len(sig_cube[1].data)*len(sig_cube[2].data) /10"
   ]
  },
  {
   "cell_type": "code",
   "execution_count": 16,
   "metadata": {},
   "outputs": [],
   "source": [
    "### Find volume for each peak and write to file ###\n",
    "\n",
    "save_path = \"HyperionPeaks_new/\"     # Folder to save stuff to\n",
    "old_path = \"HyperionPeaks/\"\n",
    "\n",
    "\n",
    "sigs = np.arange(5.0, 1.5, -.5)\n",
    "\n",
    "for s in sigs:\n",
    "\n",
    "    sig_sum = np.genfromtxt(old_path+ f\"peaks_sig{s}.dat\")\n",
    "\n",
    "    pk_dir = old_path + f\"sig{s}_peaks/\"\n",
    "\n",
    "    New_Vols = []      # Fill with the new_volumes\n",
    "\n",
    "    for idx in sig_sum[:,0]:\n",
    "        \n",
    "        try:\n",
    "            voxels = np.genfromtxt(pk_dir+f\"pixels_{int(idx)}.dat\", comments = '#')\n",
    "        except:\n",
    "            voxels = np.genfromtxt(pk_dir+f\"pixels_0{int(idx)}.dat\", comments = '#')\n",
    "\n",
    "        New_Vols.append(newVol(voxels[:,2], z_map))\n",
    "\n",
    "\n",
    "    new_sum = np.c_[sig_sum, New_Vols]\n",
    "\n",
    "    vol_diff = new_sum[:,-1] / new_sum[:,10]\n",
    "    new_sum = np.c_[new_sum, vol_diff]\n",
    "\n",
    "    np.savetxt(save_path +  f\"peaks_sig{s}.dat\", new_sum, fmt=\"%10.6g\")"
   ]
  },
  {
   "cell_type": "code",
   "execution_count": 17,
   "metadata": {},
   "outputs": [
    {
     "data": {
      "image/png": "[encoded data removed]",
      "text/plain": [
       "<Figure size 640x480 with 1 Axes>"
      ]
     },
     "metadata": {},
     "output_type": "display_data"
    }
   ],
   "source": [
    "sigs = np.arange(5.0, 1.5, -.5)\n",
    "\n",
    "for s in sigs:\n",
    "\n",
    "    sig_sum = np.genfromtxt(save_path+ f\"peaks_sig{s}.dat\")\n",
    "    \n",
    "    plt.clf()\n",
    "    plt.plot(sig_sum[:,0], sig_sum[:,-1], '.')\n",
    "    plt.xlabel(\"Peak Number\")\n",
    "    plt.ylabel(\"My-Vol / find_peaks\")\n",
    "    plt.title(rf\"My volume vs find_peaks for $\\sigma$ = {s}\")\n",
    "    plt.savefig(f\"test_{s}.png\")"
   ]
  }
 ],
 "metadata": {
  "kernelspec": {
   "display_name": "py38",
   "language": "python",
   "name": "python3"
  },
  "language_info": {
   "codemirror_mode": {
    "name": "ipython",
    "version": 3
   },
   "file_extension": ".py",
   "mimetype": "text/x-python",
   "name": "python",
   "nbconvert_exporter": "python",
   "pygments_lexer": "ipython3",
   "version": "3.8.19"
  }
 },
 "nbformat": 4,
 "nbformat_minor": 2
}
