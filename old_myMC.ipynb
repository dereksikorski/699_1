{
 "cells": [
  {
   "cell_type": "markdown",
   "metadata": {},
   "source": [
    "<font size = 6><h1 align = center>Monte Carlo Fun </h1 ></font>      \n",
    "\n",
    "<font size = 4><h2 align = center> Derek Sikorski </font><h2>\n",
    "\n",
    "---\n",
    "---\n",
    "---\n"
   ]
  },
  {
   "cell_type": "markdown",
   "metadata": {},
   "source": [
    "<font size = 5><h1 align = center>File Summary</h1 ></font>      \n",
    "\n",
    "**Purpose:** \n",
    "This file is meant to handle MCing data used for the Hyperion SMF project. The data broadly includes:\n",
    "1. COSMOS2020 photometry\n",
    "2. Assorted ground-based spectroscopy\n",
    "3. HST grism data\n",
    "\n",
    "**Outputs:**\n",
    "This code produces two separate catalogs of MCed redshifts. One is for the COSMOS photometry while the other is for any other is for any other assortment of observations. The logic is that the photoz's are drawn completely randomly for all galaxies in the sample whereas the galaxies with other observations maybe be chosen by a variety of functions. Therefore, it is easiest to simply replace the redshifts of the galaxies with extra observations in place.\n",
    "\n",
    "**General Logic**\n"
   ]
  },
  {
   "cell_type": "markdown",
   "metadata": {},
   "source": [
    "---\n",
    "---"
   ]
  },
  {
   "cell_type": "code",
   "execution_count": 2,
   "metadata": {},
   "outputs": [],
   "source": [
    "import numpy as np\n",
    "from scipy.stats import skewnorm\n",
    "from scipy.optimize import minimize\n",
    "import matplotlib.pyplot as plt\n",
    "from astropy.io import fits\n",
    "import os\n",
    "from tqdm.notebook import tqdm"
   ]
  },
  {
   "cell_type": "markdown",
   "metadata": {},
   "source": [
    "<font size = 5><h1 align = center>MC Functions</h1 ></font>      "
   ]
  },
  {
   "cell_type": "markdown",
   "metadata": {},
   "source": [
    "Create the MC function and it's plotting functions"
   ]
  },
  {
   "cell_type": "code",
   "execution_count": 2,
   "metadata": {},
   "outputs": [],
   "source": [
    "def MCz(niter, zs, weights, z_range, MC_fn, plot_field=\"\", plot_zrange=\"\", verbose=False, **kwargs):\n",
    "    \"\"\"\n",
    "    Performs a Monte Carlo on the redshift distribution of input galaxies\n",
    "\n",
    "    INPUTS:\n",
    "        - niter (int)   = Number of MC iterations to run\n",
    "        - zs (array)    = List of median redshift values\n",
    "        - weights (array)   = List of the MC weights for each object. A new z is drawn from the PDF if random_number >= weight\n",
    "        - z_range (array)   = Range of redshifts to keep\n",
    "        - MC_fun (fn)   = Python function used to generate the new redshift values for the galaxies\n",
    "        - plot_field (str)    = Path to the directory where plots should be saved. If left as \"\", then no plots are saved\n",
    "        - plot_zrange (str)    = Path to the directory where plots of galaxies in z_range should be saved.\n",
    "        - verbose (bool)    = If you want to print the status bar via tqdm.notebook\n",
    "        - **kwargs = For the MC_fun\n",
    "        \n",
    "    OUTPUTS:\n",
    "        - (array) --> Indices in redshift array of objects falling in z_range at least once\n",
    "        - (array) --> 2D array of redshifts of shape (len(zs), niter)\n",
    "        - (array) --> 2D array of of indices which failed the MC draw (i.e. new z was drawn)\n",
    "    \"\"\"\n",
    "    ## Setup for MC\n",
    "    new_zs = [] # Fill with new redshifts\n",
    "    iterable = tqdm(range(niter)) if verbose else range(niter)      # What to iterate over in for-loop based on 'verbose' option\n",
    "    drawn_idxs = [] # Fill with idxs that were drawn\n",
    "\n",
    "    ## Run the MC iterations\n",
    "    for n in iterable:\n",
    "        z_in = np.copy(zs)      # Copy of redshifts to manipulate\n",
    "\n",
    "        ## Pick galaxies to get new z's and change where need\n",
    "        new_idxs = np.where( np.random.random(size=len(zs)) >= weights )    # Which z's to change\n",
    "        nz = MC_fn(*kwargs.values())            # Pick new z's\n",
    "        z_in[new_idxs] = nz[new_idxs]    # Replace redshifts where needed\n",
    "\n",
    "        new_zs.append(z_in)      # Add to list of redshifts   \n",
    "        drawn_idxs.append(new_idxs)\n",
    "\n",
    "\n",
    "        ### PLOTTING ###\n",
    "        if plot_field != \"\": MC_plot1(z_in, plot_field, n)\n",
    "        if plot_zrange != \"\": MC_plot2(z_in, z_range, plot_zrange, n)\n",
    "\n",
    "    new_zs = np.array(new_zs)   # MCed redshifts\n",
    "\n",
    "    ## Find which galaxies fell in z-range at least once ###\n",
    "    z_bool = ((z_range[0]< new_zs) & (new_zs < z_range[1])).any(axis=0)\n",
    "    good_idxs = np.where(z_bool)[0]     # Where the condition is met\n",
    "\n",
    "    return good_idxs, new_zs.transpose(), drawn_idxs"
   ]
  },
  {
   "cell_type": "code",
   "execution_count": 3,
   "metadata": {},
   "outputs": [],
   "source": [
    "def MC_plot1(z_in, plot_field, n):\n",
    "    \"\"\"\n",
    "    Generate plot of the MC distribution over all redshifts from 0-8\n",
    "    \"\"\"\n",
    "    fig, ax = plt.subplots()\n",
    "    bbox = dict(boxstyle='round', fc = \"white\", ec='k', alpha=0.5)\n",
    "    ax.hist(z_in, bins=np.arange(0,8,0.05))\n",
    "    ax.set_title(f\"Redshift Distribution of C20 -- (MC_iter {n})\")\n",
    "    ax.text(0.7,0.9, f\"# of Galaxies = {len(np.where((0 <=z_in) & (10>= z_in))[0])}\", fontsize=7, bbox=bbox, transform=ax.transAxes)\n",
    "    ax.set_xlabel(\"z\")\n",
    "    ax.set_ylabel(\"N\")\n",
    "    try:\n",
    "        fig.savefig(plot_field + f\"run_{n}\")\n",
    "    except:\n",
    "        os.mkdir(plot_field)\n",
    "        fig.savefig(plot_field + f\"run_{n}\")\n",
    "    plt.close()"
   ]
  },
  {
   "cell_type": "code",
   "execution_count": 4,
   "metadata": {},
   "outputs": [],
   "source": [
    "def MC_plot2(z_in, z_range, plot_zrange, n):\n",
    "    \"\"\"\n",
    "    Generate a plot of the MC distribution given a specific range of redshifts\n",
    "    \"\"\"\n",
    "    fig, ax = plt.subplots()\n",
    "    ax.hist(z_in, bins=np.arange(2,3,0.01))\n",
    "\n",
    "    ax.set_title(f\"Redshift Distribution of Field -- (MC_iter {n})\")\n",
    "    bbox = dict(boxstyle='round', fc = \"white\", ec='k', alpha=0.5)  # Textbox\n",
    "    ax.text(0.7, 0.9, f\"# of Galaxies = {len(np.where((z_range[0] <=z_in) & (z_range[1]>= z_in))[0])}\", \n",
    "            fontsize=7, bbox=bbox, transform=ax.transAxes)\n",
    "    ax.set_xlabel(\"z\")\n",
    "    ax.set_ylabel(\"N\")\n",
    "    try:\n",
    "        fig.savefig(plot_zrange + f\"run_{n}\")\n",
    "    except:\n",
    "        os.mkdir(plot_zrange)\n",
    "        fig.savefig(plot_zrange + f\"run_{n}\")\n",
    "    plt.close()"
   ]
  },
  {
   "cell_type": "markdown",
   "metadata": {},
   "source": [
    "Create the asymmetric normal distribution to draw the photoz's from"
   ]
  },
  {
   "cell_type": "code",
   "execution_count": 5,
   "metadata": {},
   "outputs": [],
   "source": [
    "def my_PDF(alpha, omega, loc):\n",
    "    \"\"\"\n",
    "    PDFs to draw the new redshifts from. Skewed-normal based on the confidence interval from COSMOS2020\n",
    "\n",
    "    INPUTS:\n",
    "        - xs (array)    = Median redshift values\n",
    "        - l68 (array)   = Lower bound of the 68% confidence interval\n",
    "        - u68 (array)   = Upper bound of the 68% confidence interval\n",
    "    OUTPUTS:\n",
    "        - (array)   = New redshift values. redshifts <0 or unavailable are marked -99\n",
    "    \"\"\"\n",
    "    z_vals = skewnorm.rvs(a=alpha, loc=loc, scale=omega) # Find new zs based on skew-normal\n",
    "    return z_vals"
   ]
  },
  {
   "cell_type": "markdown",
   "metadata": {},
   "source": [
    "----\n",
    "---\n",
    "---"
   ]
  },
  {
   "cell_type": "markdown",
   "metadata": {},
   "source": [
    "# Fitting Skew-Normals"
   ]
  },
  {
   "cell_type": "code",
   "execution_count": 6,
   "metadata": {},
   "outputs": [],
   "source": [
    "def costFn(params, z_params):\n",
    "    alpha, omega, loc = params\n",
    "        \n",
    "    dist = skewnorm(alpha, scale=omega, loc=loc)\n",
    "\n",
    "    # Calculate the CDF at points a, b, and c\n",
    "    cdf_a = dist.cdf(z_params[1])\n",
    "    cdf_b = dist.cdf(z_params[0])\n",
    "    cdf_c = dist.cdf(z_params[2])\n",
    "    \n",
    "    # The areas we want to match\n",
    "    area_left = cdf_b - cdf_a\n",
    "    area_right = cdf_c - cdf_b\n",
    "    \n",
    "    # Objective is to make both areas equal to 0.34\n",
    "    return (area_left - 0.34)**2 + (area_right - 0.34)**2 + (dist.median()-z_params[0])**2"
   ]
  },
  {
   "cell_type": "code",
   "execution_count": 7,
   "metadata": {},
   "outputs": [],
   "source": [
    "def fit_Plot(af, wf, lf, zmed, l68, u68, plot_path, cid):\n",
    "\n",
    "    dist = skewnorm(af, scale=wf, loc=lf)\n",
    "    rvs = dist.rvs(10000)\n",
    "\n",
    "    delta =af / np.sqrt(1 +af**2)\n",
    "    gamma = (4-np.pi)/2 * (delta*np.sqrt(np.pi/2))**3 / (1-2*delta**2/np.pi)**1.5\n",
    "    mu = dist.mean()\n",
    "    final_med = dist.median()\n",
    "\n",
    "    # Final skew-normal distribution\n",
    "    p_l68 = dist.cdf(zmed) - dist.cdf(l68)\n",
    "    p_u68 = dist.cdf(u68) - dist.cdf(zmed)\n",
    "    xs = np.linspace(zmed-3*(zmed-l68), zmed+3*(u68-zmed), 1000)\n",
    "    plt.figure(figsize=(7, 5))\n",
    "    plt.title(rf\"C20 ID = {int(cid)}    $\\alpha$={round(af, 2)}       $\\omega$={round(wf, 2)}      $\\xi$={round(lf, 2)}    $\\gamma$={round(gamma, 2)}\")\n",
    "    plt.hist(rvs, density=True, bins=100, label=f\"N = {10000} draws\", alpha=0.75)\n",
    "    plt.plot(xs, dist.pdf(xs))\n",
    "    plt.vlines(mu, ymin=0, ymax=2, color='red', label=f\"Mean = {round(mu, 3)}\")\n",
    "    plt.vlines(final_med, ymin=0, ymax=2, color='orange', label=f\"Median = {round(final_med, 3)}    ({zmed})\")\n",
    "    plt.vlines(l68, ymin=0, ymax=1, color='g', label=f\"Lower-bound  ({round(p_l68,3)})\")\n",
    "    plt.vlines(u68, ymin=0, ymax=1, color='m', label=f\"Upper-bound  ({round(p_u68, 3)})\")\n",
    "    plt.legend()\n",
    "    plt.savefig(plot_path)\n",
    "    plt.close()"
   ]
  },
  {
   "cell_type": "code",
   "execution_count": 8,
   "metadata": {},
   "outputs": [],
   "source": [
    "def fitDist(zmed, l68, u68, plot_path = \"\", cid = None):\n",
    "    \n",
    "    wi = 2/3*(u68 - l68)    # Initial omega\n",
    "    var = ((zmed-l68)**2 + (u68-zmed)**2)/2     # variance estimate\n",
    "    d = np.sqrt(  np.pi/2 * (1-var/wi**2))      # Delta parameter\n",
    "\n",
    "    if (zmed - l68) < (u68-zmed):\n",
    "        li = l68 -wi/4\n",
    "        ai = 50*var**0.5\n",
    "    else:\n",
    "        li = u68 + wi/4\n",
    "        ai = -50*var**0.5\n",
    "\n",
    "    # Initial guess for omega and alpha\n",
    "    initial_guess = [ai, wi, li]\n",
    "\n",
    "    # Minimize the objective function\n",
    "    result = minimize(costFn, initial_guess, tol=1e-14, options={'maxiter':100},\n",
    "                    args=([zmed, l68, u68]), bounds = ((-12, 12), (0,5), (0,7)))\n",
    "    \n",
    "    af, wf, lf = result.x   # Optimized parameters\n",
    "    residual = costFn(result.x, [zmed, l68, u68])\n",
    "\n",
    "    if plot_path != \"\": fit_Plot(af, wf, lf, zmed, l68, u68, plot_path, cid)\n",
    "\n",
    "    return af, wf, lf, residual"
   ]
  },
  {
   "cell_type": "code",
   "execution_count": 9,
   "metadata": {},
   "outputs": [
    {
     "name": "stdout",
     "output_type": "stream",
     "text": [
      "Number of galaxies = 1720700\n",
      "Number of bad galaxies = 19258\n"
     ]
    }
   ],
   "source": [
    "## READ IN FILE ##\n",
    "cosmos_file = fits.open(r\"C:/Users/sikor/OneDrive/Desktop/BigData/COSMOS2020/COSMOS2020_CLASSIC_R1_v2.0.fits\")\n",
    "c20p = cosmos_file[1].data\n",
    "\n",
    "## FIND BAD GALAXIES ##\n",
    "bad_ids = np.where((np.isnan(c20p[\"lp_zPDF\"]) == True) |        # No redshift from lephare\n",
    "                   (np.isnan(c20p[\"lp_zPDF_l68\"]) == True) |    # No lower-68-percentile from lephare\n",
    "                   (np.isnan(c20p[\"lp_zPDF_u68\"]) == True))[0]  # no upper-68-percentile from lephare\n",
    "\n",
    "print(f\"Number of galaxies = {len(c20p)}\")\n",
    "print(f\"Number of bad galaxies = {len(bad_ids)}\")\n",
    "\n",
    "## INSERT TEMP DATA IN BAD IDs ##\n",
    "# c20p[\"lp_zPDF\"][bad_ids] = 2\n",
    "# c20p[\"lp_zPDF_l68\"][bad_ids] = 1.9\n",
    "# c20p[\"lp_zPDF_u68\"][bad_ids] = 2.1\n",
    "\n",
    "c20p_cut = np.delete(c20p, bad_ids)"
   ]
  },
  {
   "cell_type": "code",
   "execution_count": 10,
   "metadata": {},
   "outputs": [],
   "source": [
    "## CUT DATA TO POTENTIALLY USABLE ##\n",
    "ra_range = (149.6, 150.52)  \n",
    "dec_range = (1.74, 2.73)\n",
    "IRAC_cut = 25.\n",
    "\n",
    "\n",
    "g_idxs = np.where((c20p_cut[\"ALPHA_J2000\"] >= ra_range[0]) & (c20p_cut[\"ALPHA_J2000\"] <= ra_range[1])       # RA\n",
    "                & (c20p_cut[\"DELTA_J2000\"] >= dec_range[0]) & (c20p_cut[\"DELTA_J2000\"] <= dec_range[1])     # DEC\n",
    "                & ((c20p_cut[\"IRAC_CH1_MAG\"] <= IRAC_cut) | (c20p_cut[\"IRAC_CH2_MAG\"] <= IRAC_cut)) # IRAC\n",
    "                & ((c20p_cut[\"lp_type\"] == 0) | (c20p_cut[\"lp_type\"] == 2)))        # LePhare type\n",
    "\n",
    "g_c20p = c20p_cut[g_idxs]"
   ]
  },
  {
   "cell_type": "code",
   "execution_count": 11,
   "metadata": {},
   "outputs": [
    {
     "data": {
      "text/plain": [
       "(287363,)"
      ]
     },
     "execution_count": 11,
     "metadata": {},
     "output_type": "execute_result"
    }
   ],
   "source": [
    "g_c20p.shape"
   ]
  },
  {
   "cell_type": "code",
   "execution_count": 12,
   "metadata": {},
   "outputs": [],
   "source": [
    "n = 3\n",
    "\n",
    "med = g_c20p[\"lp_zPDF\"]\n",
    "\n",
    "diff_l = med - g_c20p[\"lp_zPDF_l68\"]\n",
    "diff_u = g_c20p[\"lp_zPDF_u68\"] - med\n",
    "\n",
    "l_crit = med - n*diff_l\n",
    "u_crit = med + n*diff_u\n",
    "\n",
    "in_2_3 = np.where(\n",
    "    (  (med <= 3) & (u_crit >= 2) )\n",
    "    | (  (med >= 2) & (l_crit <= 3) )\n",
    ")\n",
    "\n",
    "small_c20p = g_c20p[in_2_3]"
   ]
  },
  {
   "cell_type": "code",
   "execution_count": 18,
   "metadata": {},
   "outputs": [
    {
     "name": "stdout",
     "output_type": "stream",
     "text": [
      "382.9583333333333\n"
     ]
    }
   ],
   "source": [
    "print(small_c20p.shape[0]*0.25 /60)"
   ]
  },
  {
   "cell_type": "code",
   "execution_count": 14,
   "metadata": {},
   "outputs": [
    {
     "data": {
      "application/vnd.jupyter.widget-view+json": {
       "model_id": "955867f4e92e49a799b9309aafac83f3",
       "version_major": 2,
       "version_minor": 0
      },
      "text/plain": [
       "  0%|          | 0/100 [00:00<?, ?it/s]"
      ]
     },
     "metadata": {},
     "output_type": "display_data"
    },
    {
     "name": "stderr",
     "output_type": "stream",
     "text": [
      "c:\\Users\\sikor\\Anaconda3\\envs\\py38\\lib\\site-packages\\scipy\\stats\\_distn_infrastructure.py:2176: RuntimeWarning: divide by zero encountered in divide\n",
      "  x = np.asarray((x - loc)/scale, dtype=dtyp)\n",
      "c:\\Users\\sikor\\Anaconda3\\envs\\py38\\lib\\site-packages\\scipy\\stats\\_distn_infrastructure.py:2351: RuntimeWarning: invalid value encountered in multiply\n",
      "  lower_bound = _a * scale + loc\n",
      "c:\\Users\\sikor\\Anaconda3\\envs\\py38\\lib\\site-packages\\scipy\\stats\\_distn_infrastructure.py:2352: RuntimeWarning: invalid value encountered in multiply\n",
      "  upper_bound = _b * scale + loc\n",
      "C:\\Users\\sikor\\AppData\\Local\\Temp\\ipykernel_19324\\3971317608.py:5: RuntimeWarning: invalid value encountered in sqrt\n",
      "  d = np.sqrt(  np.pi/2 * (1-var/wi**2))      # Delta parameter\n"
     ]
    }
   ],
   "source": [
    "### Just Plotting ###\n",
    "for idx in tqdm(range(100)):\n",
    "    c_index = small_c20p[\"ID\"][idx]\n",
    "\n",
    "    zm, l68, u68 = small_c20p[\"lp_zPDF\"][idx], small_c20p[\"lp_zPDF_l68\"][idx], small_c20p[\"lp_zPDF_u68\"][idx]\n",
    "\n",
    "    plot_path = f\"zDists/c20_{c_index}.png\"\n",
    "\n",
    "    a, w, l, r = fitDist(zm, l68, u68, plot_path, c_index )\n"
   ]
  },
  {
   "cell_type": "code",
   "execution_count": 17,
   "metadata": {},
   "outputs": [
    {
     "data": {
      "application/vnd.jupyter.widget-view+json": {
       "model_id": "acb969fe1f934e5385289c9b3a61c043",
       "version_major": 2,
       "version_minor": 0
      },
      "text/plain": [
       "  0%|          | 0/100 [00:00<?, ?it/s]"
      ]
     },
     "metadata": {},
     "output_type": "display_data"
    }
   ],
   "source": [
    "import warnings\n",
    "warnings.filterwarnings(\"ignore\", category=RuntimeWarning) \n",
    "save_fits = np.zeros((small_c20p.shape[0], 5))\n",
    "\n",
    "# for idx in tqdm(range(small_c20p.shape[0])):\n",
    "for idx in tqdm(range(100)):\n",
    "\n",
    "    c_index = small_c20p[\"ID\"][idx]\n",
    "\n",
    "    zm, l68, u68 = small_c20p[\"lp_zPDF\"][idx], small_c20p[\"lp_zPDF_l68\"][idx], small_c20p[\"lp_zPDF_u68\"][idx]\n",
    "\n",
    "    a, w, l, r = fitDist(zm, l68, u68)\n",
    "\n",
    "    save_fits[idx] = np.array([c_index, a, w, l, r])\n",
    "\n",
    "# np.save(f\"zFits/zFits.npy\", save_fits)"
   ]
  },
  {
   "cell_type": "markdown",
   "metadata": {},
   "source": [
    "---\n",
    "---\n",
    "---"
   ]
  },
  {
   "cell_type": "markdown",
   "metadata": {},
   "source": [
    "# MC C20 Photometry"
   ]
  },
  {
   "cell_type": "code",
   "execution_count": 11,
   "metadata": {},
   "outputs": [
    {
     "data": {
      "application/vnd.jupyter.widget-view+json": {
       "model_id": "940182b325ac4d00b44b1a957122dcf4",
       "version_major": 2,
       "version_minor": 0
      },
      "text/plain": [
       "  0%|          | 0/70283 [00:00<?, ?it/s]"
      ]
     },
     "metadata": {},
     "output_type": "display_data"
    }
   ],
   "source": [
    "### Find good Fits ###\n",
    "all_fits = np.load(\"zFits/zFits.npy\")\n",
    "\n",
    "# Find good fits based on proximity of median\n",
    "med_diffs = []\n",
    "for f in tqdm(all_fits):\n",
    "    skn = skewnorm(f[1], scale=f[2], loc=f[3])\n",
    "    z_med = c20p[\"lp_zPDF\"][int(f[0])-1]\n",
    "    med_diffs.append(skn.median() - z_med) \n",
    "\n",
    "b_fits = np.where(np.abs(med_diffs) > 0.1)    # bad residual\n",
    "\n",
    "g_fits = np.delete(all_fits, b_fits, axis=0)"
   ]
  },
  {
   "cell_type": "code",
   "execution_count": 12,
   "metadata": {},
   "outputs": [
    {
     "name": "stdout",
     "output_type": "stream",
     "text": [
      "All fits:  70283\n",
      "Bad fits:  234\n",
      "Good fits:  70049\n"
     ]
    }
   ],
   "source": [
    "print(\"All fits: \", all_fits.shape[0])\n",
    "print(\"Bad fits: \", b_fits[0].shape[0])\n",
    "print(\"Good fits: \", g_fits.shape[0])\n"
   ]
  },
  {
   "cell_type": "code",
   "execution_count": 13,
   "metadata": {},
   "outputs": [
    {
     "data": {
      "application/vnd.jupyter.widget-view+json": {
       "model_id": "5bb8e52f2944472b9a8c6f3ccdc1a41b",
       "version_major": 2,
       "version_minor": 0
      },
      "text/plain": [
       "  0%|          | 0/100 [00:00<?, ?it/s]"
      ]
     },
     "metadata": {},
     "output_type": "display_data"
    }
   ],
   "source": [
    "#### RUN THE MC ####\n",
    "# ========================================================\n",
    "# ========================================================\n",
    "for run in range(1):\n",
    "    niter = 100      # Number of iterations\n",
    "\n",
    "    z_range = [2,3]         # Redshift range for \n",
    "    # plot_field = f\"./MC_iterations/c20p_total_{run}/\"\n",
    "    # plot_zrange = f\"./MC_iterations/c20p_Hyper_{run}/\"\n",
    "\n",
    "    phot_med = c20p[\"lp_zPDF\"][g_fits[:,0].astype(int)-1]\n",
    "    # phot_l68 = phot_med - c20p[\"lp_zPDF_l68\"]\n",
    "    # phot_u68 = c20p[\"lp_zPDF_u68\"] - phot_med\n",
    "\n",
    "    # ========================================================\n",
    "    # ========================================================\n",
    "    # ========================================================\n",
    "\n",
    "    ## MC ##\n",
    "    phot_ids, new_pzs, _ = MCz(niter ,phot_med, np.zeros(len(g_fits)), z_range, my_PDF,\n",
    "                         verbose=True, alpha=g_fits[:,1], omega=g_fits[:,2], loc=g_fits[:,3])\n",
    "\n",
    "    ## Update bad galaxies ##\n",
    "    # new_pzs[bad_ids] = np.full(shape=(len(bad_ids), niter), fill_value=-99)\n",
    "\n",
    "    ## WRITE TO RESULT FILE ##\n",
    "\n",
    "    # Update dtypes\n",
    "    dtypes = [c20p.dtype.descr[0]] + [(f\"MC_iter{n}\", \">f8\") for n in range(niter)]\n",
    "\n",
    "    # Make array to fill\n",
    "    write_arr = np.zeros(shape=(len(g_fits)), dtype=dtypes)\n",
    "\n",
    "    write_arr[\"ID\"] = c20p[\"ID\"][g_fits[:,0].astype(int)-1]\n",
    "    for n in range(niter):\n",
    "        write_arr[f\"MC_iter{n}\"] = new_pzs[:,n]\n",
    "\n",
    "    np.save(rf\"C:/Users/sikor/OneDrive/Desktop/BigData/COSMOS2020/C20_MC_100_{run}.npy\", write_arr)"
   ]
  },
  {
   "cell_type": "markdown",
   "metadata": {},
   "source": [
    "---"
   ]
  },
  {
   "cell_type": "markdown",
   "metadata": {},
   "source": [
    "# MC Spectra and Grism "
   ]
  },
  {
   "cell_type": "code",
   "execution_count": 14,
   "metadata": {},
   "outputs": [
    {
     "name": "stdout",
     "output_type": "stream",
     "text": [
      "Number of C20 spectra: 42776\n",
      "Number of missing spectra: 2562\n",
      "Number of Grism redshifts: 12764\n",
      "Number of missing grisms: 53\n"
     ]
    }
   ],
   "source": [
    "## LOAD DATA ##\n",
    "# PHOTO-Zs\n",
    "cosmos_file = fits.open(r\"C:/Users/sikor/OneDrive/Desktop/BigData/COSMOS2020/COSMOS2020_CLASSIC_R1_v2.0.fits\")\n",
    "c20p = cosmos_file[1].data\n",
    "\n",
    "# SPECTRA\n",
    "specz_cat = np.loadtxt(\"./Data/master_specz_COSMOS_BF_v4b.cat\", dtype=object)   # Load in the data\n",
    "# Fix up the formatting for the spec data-file:\n",
    "new_array = []\n",
    "for idx in range(specz_cat.shape[1]):\n",
    "    try:\n",
    "        col = specz_cat[:,idx].astype(np.float32)\n",
    "    except:\n",
    "        col = specz_cat[:,idx]\n",
    "    new_array.append(col)\n",
    "\n",
    "c20s = np.array(new_array, dtype=object)\n",
    "c20s = np.transpose(c20s)\n",
    "\n",
    "miss_spec = np.where(c20s[:,0] == -99)[0]   # spectra not in the cosmos catalog\n",
    "\n",
    "print(f\"Number of C20 spectra: {c20s.shape[0]}\")\n",
    "print(f\"Number of missing spectra: {len(miss_spec)}\")\n",
    "\n",
    "# ----------------------------------------------------------------------\n",
    "# ----------------------------------------------------------------------\n",
    "\n",
    "# GRISM\n",
    "griz_cat = np.loadtxt(\"./Data/HST_Hyp_zcat.v1.2.cat\", skiprows=1, usecols=range(16), dtype=object)   # Load in the data\n",
    "# Fix up the formatting for the spec data-file:\n",
    "new_array = []\n",
    "for idx in range(griz_cat.shape[1]):\n",
    "    try:\n",
    "        col = griz_cat[:,idx].astype(np.float32)\n",
    "    except:\n",
    "        col = griz_cat[:,idx]\n",
    "    new_array.append(col)\n",
    "\n",
    "griz = np.array(new_array, dtype=object)\n",
    "griz = np.transpose(griz)\n",
    "\n",
    "miss_griz = np.where(griz[:,4] == -99)[0]   # spectra not in the cosmos catalog\n",
    "\n",
    "\n",
    "print(f\"Number of Grism redshifts: {griz.shape[0]}\")\n",
    "print(f\"Number of missing grisms: {len(miss_griz)}\")"
   ]
  },
  {
   "cell_type": "code",
   "execution_count": 37,
   "metadata": {},
   "outputs": [
    {
     "name": "stdout",
     "output_type": "stream",
     "text": [
      "Unique Grizli Objects = 10053\n",
      "Unique Spec Objects = 40106\n",
      "Common Objects = 2711\n"
     ]
    }
   ],
   "source": [
    "## FIND COMMON OBJECTS ##\n",
    "gids = []       # idx in grism catalog of common object\n",
    "sids = []       # idx in spectrum catalog of common object \n",
    "\n",
    "sim_objs = []   # Keep track of info of the object for MC use --> [C20_ID, zs, qf_s, zg, qf_gz, bf]\n",
    "\n",
    "for g_id, c_id in enumerate(griz[:,4]):\n",
    "    if c_id > 0:    # Make sure it's a cosmos object\n",
    "        t = np.where(c_id == c20s[:,0])[0]\n",
    "\n",
    "        if len(t) != 0: # Object is in both\n",
    "            gids.append(g_id)   # Add grism id\n",
    "            sids.append(t[0])   # Add spec id\n",
    "            sim_objs.append([c_id, griz[g_id][10], griz[g_id][11], griz[g_id][13], griz[g_id][15], griz[g_id][5]])\n",
    "\n",
    "\n",
    "# Create unique catalogs\n",
    "spec_unique = np.delete(c20s, sids, axis=0)\n",
    "griz_unique = np.delete(griz, gids, axis=0)\n",
    "sim_objs = np.array(sim_objs)\n",
    "\n",
    "print(f\"Unique Grizli Objects = {len(griz_unique)}\")\n",
    "print(f\"Unique Spec Objects = {len(spec_unique)}\")\n",
    "print(f\"Common Objects = {len(sim_objs)}\")"
   ]
  },
  {
   "cell_type": "code",
   "execution_count": 16,
   "metadata": {},
   "outputs": [],
   "source": [
    "## PREP STORAGE ARRAY ## \n",
    "niter = 100\n",
    "\n",
    "dtypes = [c20p.dtype.descr[0]] + [(f\"MC_iter{n}\", \">f8\") for n in range(niter)]\n",
    "\n",
    "# Make array to fill\n",
    "spec_mc = np.zeros(shape=(len(spec_unique) + len(griz_unique) + len(sim_objs)), dtype=dtypes)\n",
    "\n",
    "which_z = np.zeros(shape=(len(spec_unique) + len(griz_unique) + len(sim_objs)), dtype=dtypes)"
   ]
  },
  {
   "cell_type": "markdown",
   "metadata": {},
   "source": [
    "## MC C20 Spectra"
   ]
  },
  {
   "cell_type": "code",
   "execution_count": 17,
   "metadata": {},
   "outputs": [
    {
     "name": "stdout",
     "output_type": "stream",
     "text": [
      "Number of bad p(z)'s for specta: 3911\n"
     ]
    }
   ],
   "source": [
    "## Pack parameters of spectra from cosmos catalog ##\n",
    "bad_spec = [] # where parameters have a nan\n",
    "gal_params = []\n",
    "for s_id, c_id in enumerate(spec_unique[:,0].astype(int)):\n",
    "\n",
    "    if c_id == -99:     # Not a cosmos object\n",
    "        bad_spec.append(s_id)\n",
    "        gal_params.append([2, 1.9, 2.1])    # make up temporary parameters\n",
    "\n",
    "    else:   # It is a cosmos object\n",
    "        med = c20p[\"lp_zPDF\"][c_id-1]\n",
    "        l68 = med - c20p[\"lp_zPDF_l68\"][c_id-1]\n",
    "        u68 = c20p[\"lp_zPDF_u68\"][c_id-1] - med\n",
    "\n",
    "\n",
    "        if (med != med) or (l68 != l68) or (u68 != u68):   # p(z) contains a NaN\n",
    "            bad_spec.append(s_id)\n",
    "            gal_params.append([2, 1.9, 2.1])    # make up temporary parameters\n",
    "\n",
    "        else:\n",
    "            gal_params.append([med, l68, u68])\n",
    "\n",
    "gal_params = np.array(gal_params)\n",
    "bad_spec = np.array(bad_spec)\n",
    "print(f\"Number of bad p(z)'s for specta: {len(bad_spec)}\")"
   ]
  },
  {
   "cell_type": "code",
   "execution_count": 18,
   "metadata": {},
   "outputs": [
    {
     "data": {
      "application/vnd.jupyter.widget-view+json": {
       "model_id": "479045d6a5e54a2e83945197142ef68c",
       "version_major": 2,
       "version_minor": 0
      },
      "text/plain": [
       "  0%|          | 0/42776 [00:00<?, ?it/s]"
      ]
     },
     "metadata": {},
     "output_type": "display_data"
    },
    {
     "name": "stderr",
     "output_type": "stream",
     "text": [
      "c:\\Users\\sikor\\Anaconda3\\envs\\py38\\lib\\site-packages\\scipy\\stats\\_distn_infrastructure.py:2176: RuntimeWarning: divide by zero encountered in divide\n",
      "  x = np.asarray((x - loc)/scale, dtype=dtyp)\n",
      "c:\\Users\\sikor\\Anaconda3\\envs\\py38\\lib\\site-packages\\scipy\\stats\\_distn_infrastructure.py:2351: RuntimeWarning: invalid value encountered in multiply\n",
      "  lower_bound = _a * scale + loc\n",
      "c:\\Users\\sikor\\Anaconda3\\envs\\py38\\lib\\site-packages\\scipy\\stats\\_distn_infrastructure.py:2352: RuntimeWarning: invalid value encountered in multiply\n",
      "  upper_bound = _b * scale + loc\n",
      "C:\\Users\\sikor\\AppData\\Local\\Temp\\ipykernel_22100\\3998956261.py:5: RuntimeWarning: invalid value encountered in sqrt\n",
      "  d = np.sqrt(  np.pi/2 * (1-var/wi**2))      # Delta parameter\n"
     ]
    },
    {
     "ename": "TypeError",
     "evalue": "_save_dispatcher() missing 1 required positional argument: 'arr'",
     "output_type": "error",
     "traceback": [
      "\u001b[1;31m---------------------------------------------------------------------------\u001b[0m",
      "\u001b[1;31mTypeError\u001b[0m                                 Traceback (most recent call last)",
      "Cell \u001b[1;32mIn[18], line 25\u001b[0m\n\u001b[0;32m     22\u001b[0m             \u001b[38;5;28;01mcontinue\u001b[39;00m\n\u001b[0;32m     24\u001b[0m s_fits \u001b[38;5;241m=\u001b[39m np\u001b[38;5;241m.\u001b[39marray(s_fits)\n\u001b[1;32m---> 25\u001b[0m \u001b[43mnp\u001b[49m\u001b[38;5;241;43m.\u001b[39;49m\u001b[43msave\u001b[49m\u001b[43m(\u001b[49m\u001b[38;5;124;43m\"\u001b[39;49m\u001b[38;5;124;43mzFits/sFits.npy\u001b[39;49m\u001b[38;5;124;43m\"\u001b[39;49m\u001b[43m)\u001b[49m\n",
      "File \u001b[1;32m<__array_function__ internals>:179\u001b[0m, in \u001b[0;36msave\u001b[1;34m(*args, **kwargs)\u001b[0m\n",
      "\u001b[1;31mTypeError\u001b[0m: _save_dispatcher() missing 1 required positional argument: 'arr'"
     ]
    }
   ],
   "source": [
    "### Create small catalog of spec/ grism fits ###\n",
    "s_fits = []\n",
    "\n",
    "for s_id, s in tqdm(enumerate(c20s), total=len(c20s)):\n",
    "    c_id = int(s[0])\n",
    "    if c_id == -99: continue    # Skip if not cosmos number\n",
    "    \n",
    "    # Check if already been fit\n",
    "    f_ids = np.where(g_fits[:,0].astype(int) == c_id)[0]\n",
    "    if len(f_ids) != 0:    # Already been fit\n",
    "        s_fits.append(g_fits[f_ids[0]])\n",
    "        continue\n",
    "    \n",
    "    # Hasn't been fit\n",
    "    else:\n",
    "        a, w, l, r = fitDist(c20p[\"lp_zPDF\"][c_id-1], c20p[\"lp_zPDF_l68\"][c_id-1], c20p[\"lp_zPDF_u68\"][c_id-1])\n",
    "        #Check to see if fit converged\n",
    "        f_med = skewnorm(a,scale=w,loc=l).median()\n",
    "        if np.abs(f_med - c20p[\"lp_zPDF\"][c_id-1] ) < 0.1:\n",
    "            s_fits.append([c_id, a,w,l,r])\n",
    "        else:\n",
    "            continue\n",
    "\n",
    "s_fits = np.array(s_fits)\n",
    "np.save(\"zFits/sFits.npy\", s_fits)"
   ]
  },
  {
   "cell_type": "code",
   "execution_count": 49,
   "metadata": {},
   "outputs": [],
   "source": [
    "### Pack the fits for use ###\n",
    "s_params = []\n",
    "b_params = []\n",
    "for idx, c_id in enumerate(spec_unique[:,0]):\n",
    "    idxs = np.where(s_fits[:,0] == c_id)[0]\n",
    "    if len(idxs) != 0:\n",
    "        i = idxs[0]\n",
    "        s_params.append([s_fits[i][1],s_fits[i][2], s_fits[i][3]])\n",
    "    else :\n",
    "        b_params.append(idx)\n",
    "    \n",
    "\n",
    "s_params = np.array(s_params)\n",
    "final_spec = np.delete(spec_unique, b_params, axis=0)"
   ]
  },
  {
   "cell_type": "code",
   "execution_count": 52,
   "metadata": {},
   "outputs": [
    {
     "data": {
      "application/vnd.jupyter.widget-view+json": {
       "model_id": "c18415f52c474fa5be80c0a90d6a72ec",
       "version_major": 2,
       "version_minor": 0
      },
      "text/plain": [
       "  0%|          | 0/100 [00:00<?, ?it/s]"
      ]
     },
     "metadata": {},
     "output_type": "display_data"
    }
   ],
   "source": [
    "#### RUN THE MC ####\n",
    "# ========================================================\n",
    "# ========================================================\n",
    "z_range = [2,3]         # Redshift range for \n",
    "# plot_field = \"./MC_iterations/c20s_total/\"\n",
    "# plot_zrange = \"./MC_iterations/c20s_Hyper/\"\n",
    "\n",
    "spec_z = final_spec[:,11]         # orginal spec-z\n",
    "spec_med = gal_params[:,0]  # parameters for the p(z)\n",
    "spec_l68 = gal_params[:,1]\n",
    "spec_u68 = gal_params[:,2]\n",
    "\n",
    "# Set the MC weights based on the quality flags\n",
    "qfs = final_spec[:,13] % 10      # \n",
    "spec_weights = np.select( [(qfs >=2.)&(qfs<3.),(qfs>=9.)&(qfs<10.), (qfs>=3.)&(qfs<5.) ],\n",
    "                [0.7, 0.7, 0.993],\n",
    "                default=0)\n",
    "# ========================================================\n",
    "# ========================================================\n",
    "# ========================================================\n",
    "\n",
    "## MC ##\n",
    "spec_ids, new_szs, drawn_idxs = MCz(niter, spec_z, spec_weights, z_range, my_PDF,\n",
    "                     verbose=True, alpha = s_params[:,0], omega = s_params[:,1], loc = s_params[:,2])\n",
    "\n",
    "## Update bad galaxies ##\n",
    "# new_szs[bad_spec] = np.full(shape=(len(bad_spec), niter), fill_value=-99)\n",
    "\n",
    "## WRITE TO RESULT FILE ##\n",
    "\n",
    "# Update dtypes\n",
    "dtypes = [c20p.dtype.descr[0]] + [(f\"MC_iter{n}\", \">f8\") for n in range(niter)]\n",
    "\n",
    "# Make array to fill\n",
    "write_arr = np.zeros(shape=(len(final_spec)), dtype=dtypes)\n",
    "\n",
    "write_arr[\"ID\"] = final_spec[:,0]\n",
    "for n in range(niter):\n",
    "    write_arr[f\"MC_iter{n}\"] = new_szs[:,n]\n",
    "    new_ids = drawn_idxs[n]\n",
    "\n",
    "    which_z[f\"MC_iter{n}\"][:len(new_szs)][new_ids] = np.ones(len(new_ids))\n",
    "\n",
    "np.save(r\"C:/Users/sikor/OneDrive/Desktop/BigData/COSMOS2020/C20_spec_MC_1000.npy\", write_arr)\n",
    "\n",
    "spec_mc[\"ID\"][:len(new_szs)] = final_spec[:,0]     # update with cosmos IDs\n",
    "which_z[f\"ID\"][:len(new_szs)] = final_spec[:,0]\n",
    "\n",
    "\n",
    "for n in range(niter):\n",
    "    spec_mc[f\"MC_iter{n}\"][:len(new_szs)] = new_szs[:,n]"
   ]
  },
  {
   "cell_type": "markdown",
   "metadata": {},
   "source": [
    "---"
   ]
  },
  {
   "cell_type": "markdown",
   "metadata": {},
   "source": [
    "## MC Grizli Spectra"
   ]
  },
  {
   "cell_type": "code",
   "execution_count": 53,
   "metadata": {},
   "outputs": [
    {
     "name": "stdout",
     "output_type": "stream",
     "text": [
      "Number of bad p(z)'s for specta: 637\n"
     ]
    }
   ],
   "source": [
    "## Pack parameters of spectra from cosmos catalog ##\n",
    "bad_griz = [] # where parameters have a nan\n",
    "griz_params = []\n",
    "for g_id, c_id in enumerate(griz_unique[:,4].astype(int)):\n",
    "\n",
    "    if c_id == -99:     # Not a cosmos object\n",
    "        bad_griz.append(g_id)\n",
    "        griz_params.append([2, 1.9, 2.1])    # make up temporary parameters\n",
    "\n",
    "    elif griz_unique[:,5][g_id] == 1:   # blended object --> discard\n",
    "        bad_griz.append(g_id)\n",
    "        griz_params.append([2, 1.9, 2.1])\n",
    "\n",
    "    else:   # It is a cosmos object\n",
    "        med = c20p[\"lp_zPDF\"][c_id-1]\n",
    "        l68 = med - c20p[\"lp_zPDF_l68\"][c_id-1]\n",
    "        u68 = c20p[\"lp_zPDF_u68\"][c_id-1] - med\n",
    "\n",
    "\n",
    "        if (med != med) or (l68 != l68) or (u68 != u68):   # p(z) contains a NaN\n",
    "            bad_griz.append(g_id)\n",
    "            griz_params.append([2, 1.9, 2.1])    # make up temporary parameters\n",
    "\n",
    "        else:\n",
    "            griz_params.append([med, l68, u68])\n",
    "\n",
    "griz_params = np.array(griz_params)\n",
    "bad_griz = np.array(bad_griz)\n",
    "print(f\"Number of bad p(z)'s for specta: {len(bad_griz)}\")"
   ]
  },
  {
   "cell_type": "code",
   "execution_count": 54,
   "metadata": {},
   "outputs": [
    {
     "data": {
      "application/vnd.jupyter.widget-view+json": {
       "model_id": "a706d5b86da04edb857f452cfb540496",
       "version_major": 2,
       "version_minor": 0
      },
      "text/plain": [
       "  0%|          | 0/10053 [00:00<?, ?it/s]"
      ]
     },
     "metadata": {},
     "output_type": "display_data"
    },
    {
     "name": "stderr",
     "output_type": "stream",
     "text": [
      "c:\\Users\\sikor\\Anaconda3\\envs\\py38\\lib\\site-packages\\scipy\\stats\\_distn_infrastructure.py:2176: RuntimeWarning: divide by zero encountered in divide\n",
      "  x = np.asarray((x - loc)/scale, dtype=dtyp)\n",
      "c:\\Users\\sikor\\Anaconda3\\envs\\py38\\lib\\site-packages\\scipy\\stats\\_distn_infrastructure.py:2351: RuntimeWarning: invalid value encountered in multiply\n",
      "  lower_bound = _a * scale + loc\n",
      "c:\\Users\\sikor\\Anaconda3\\envs\\py38\\lib\\site-packages\\scipy\\stats\\_distn_infrastructure.py:2352: RuntimeWarning: invalid value encountered in multiply\n",
      "  upper_bound = _b * scale + loc\n",
      "C:\\Users\\sikor\\AppData\\Local\\Temp\\ipykernel_22100\\3998956261.py:5: RuntimeWarning: invalid value encountered in sqrt\n",
      "  d = np.sqrt(  np.pi/2 * (1-var/wi**2))      # Delta parameter\n"
     ]
    }
   ],
   "source": [
    "### Create small catalog of spec/ grism fits ###\n",
    "griz_fits = []\n",
    "\n",
    "for g_id, g in tqdm(enumerate(griz_unique), total=len(griz_unique)):\n",
    "    g_id = int(g[4])\n",
    "    if g_id == -99: continue    # Skip if not cosmos number\n",
    "    \n",
    "    # Check if already been fit\n",
    "    f_ids = np.where(g_fits[:,0].astype(int) == g_id)[0]\n",
    "    if len(f_ids) != 0:    # Already been fit\n",
    "        griz_fits.append(g_fits[f_ids[0]])\n",
    "        continue\n",
    "    \n",
    "    # Hasn't been fit\n",
    "    else:\n",
    "        a, w, l, r = fitDist(c20p[\"lp_zPDF\"][g_id-1], c20p[\"lp_zPDF_l68\"][g_id-1], c20p[\"lp_zPDF_u68\"][g_id-1])\n",
    "        #Check to see if fit converged\n",
    "        f_med = skewnorm(a,scale=w,loc=l).median()\n",
    "        if np.abs(f_med - c20p[\"lp_zPDF\"][g_id-1] ) < 0.1:\n",
    "            griz_fits.append([g_id, a,w,l,r])\n",
    "        else:\n",
    "            continue\n",
    "\n",
    "griz_fits = np.array(griz_fits)\n",
    "np.save(\"zFits/gFits.npy\", griz_fits)"
   ]
  },
  {
   "cell_type": "code",
   "execution_count": 55,
   "metadata": {},
   "outputs": [],
   "source": [
    "### Pack the fits for use ###\n",
    "g_params = []\n",
    "b_params = []\n",
    "for idx, c_id in enumerate(griz_unique[:,4]):\n",
    "    idxs = np.where(griz_fits[:,0] == c_id)[0]\n",
    "    if len(idxs) != 0:\n",
    "        i = idxs[0]\n",
    "        g_params.append([griz_fits[i][1],griz_fits[i][2], griz_fits[i][3]])\n",
    "    else :\n",
    "        b_params.append(idx)\n",
    "    \n",
    "\n",
    "g_params = np.array(g_params)\n",
    "final_griz = np.delete(griz_unique, b_params, axis=0)"
   ]
  },
  {
   "cell_type": "code",
   "execution_count": 57,
   "metadata": {},
   "outputs": [
    {
     "data": {
      "application/vnd.jupyter.widget-view+json": {
       "model_id": "706c90e4892e4a628dfd580d08b36be4",
       "version_major": 2,
       "version_minor": 0
      },
      "text/plain": [
       "  0%|          | 0/100 [00:00<?, ?it/s]"
      ]
     },
     "metadata": {},
     "output_type": "display_data"
    }
   ],
   "source": [
    "#### RUN THE MC ####\n",
    "# ========================================================\n",
    "# ========================================================\n",
    "z_range = [2,3]         # Redshift range for \n",
    "plot_field = \"./MC_iterations/griz_total/\"\n",
    "plot_zrange = \"./MC_iterations/griz_Hyper/\"\n",
    "\n",
    "griz_z = final_griz[:,13].astype(float)         # orginal spec-z\n",
    "griz_width = 46/14100*(1+griz_z)       # Width of the normal distribution to draw from\n",
    "\n",
    "griz_med = griz_params[:,0]  # parameters for the p(z)\n",
    "griz_l68 = griz_params[:,1]\n",
    "griz_u68 = griz_params[:,2]\n",
    "\n",
    "\n",
    "# Set the MC weights based on the quality flags\n",
    "qfs = final_griz[:,-1]  \n",
    "griz_weights = np.select( [qfs==5, qfs==4, qfs==3 ],\n",
    "                [0.925, 0.818, 0.668],\n",
    "                default=0)\n",
    "\n",
    "# ========================================================\n",
    "# ========================================================\n",
    "# ========================================================\n",
    "spec_mc[\"ID\"][len(new_szs):len(new_szs) + len(final_griz)] = final_griz[:,4]     # update with cosmos IDs\n",
    "which_z[\"ID\"][len(new_szs):len(new_szs) + len(final_griz)] = final_griz[:,4]\n",
    "\n",
    "for n in tqdm(range(niter)):\n",
    "\n",
    "    gzs = np.random.normal(griz_z, griz_width)\n",
    "\n",
    "    ## MC ##\n",
    "    griz_ids, new_g, new_ids = MCz(1, gzs, griz_weights, z_range, my_PDF, \n",
    "                        verbose=False, alpha = griz_fits[:,1], omega = griz_fits[:,2], loc = griz_fits[:,3])\n",
    "    \n",
    "    new_gzs = new_g.flatten()\n",
    "    # new_gzs[bad_griz] = -99\n",
    "    \n",
    "    spec_mc[f\"MC_iter{n}\"][len(new_szs):len(new_szs) + len(final_griz)] = new_gzs\n",
    "    which_z[f\"MC_iter{n}\"][len(new_szs):len(new_szs) + len(final_griz)][new_ids] = 2*np.ones(len(new_ids))\n",
    "\n",
    "\n",
    "\n",
    "# WRITE TO RESULT FILE ##\n",
    "\n",
    "# # Update dtypes\n",
    "# dtypes = [c20p.dtype.descr[0]] + [(f\"MC_iter{n}\", \">f8\") for n in range(niter)]\n",
    "\n",
    "# # Make array to fill\n",
    "# write_arr = np.zeros(shape=(len(griz)), dtype=dtypes)\n",
    "\n",
    "# write_arr[\"ID\"] = griz[:,0]\n",
    "# for n in range(niter):\n",
    "#     write_arr[f\"MC_iter{n}\"] = new_gzs[:,n]\n",
    "\n",
    "# np.save(r\"C:/Users/sikor/OneDrive/Desktop/BigData/COSMOS2020/grizli_MC_1000.npy\", write_arr)"
   ]
  },
  {
   "cell_type": "markdown",
   "metadata": {},
   "source": [
    "---"
   ]
  },
  {
   "cell_type": "markdown",
   "metadata": {},
   "source": [
    "## MC Common Objects"
   ]
  },
  {
   "cell_type": "code",
   "execution_count": 58,
   "metadata": {},
   "outputs": [
    {
     "name": "stderr",
     "output_type": "stream",
     "text": [
      "c:\\Users\\sikor\\Anaconda3\\envs\\py38\\lib\\site-packages\\scipy\\stats\\_distn_infrastructure.py:2176: RuntimeWarning: divide by zero encountered in divide\n",
      "  x = np.asarray((x - loc)/scale, dtype=dtyp)\n",
      "c:\\Users\\sikor\\Anaconda3\\envs\\py38\\lib\\site-packages\\scipy\\stats\\_distn_infrastructure.py:2351: RuntimeWarning: invalid value encountered in multiply\n",
      "  lower_bound = _a * scale + loc\n",
      "c:\\Users\\sikor\\Anaconda3\\envs\\py38\\lib\\site-packages\\scipy\\stats\\_distn_infrastructure.py:2352: RuntimeWarning: invalid value encountered in multiply\n",
      "  upper_bound = _b * scale + loc\n",
      "C:\\Users\\sikor\\AppData\\Local\\Temp\\ipykernel_22100\\3998956261.py:5: RuntimeWarning: invalid value encountered in sqrt\n",
      "  d = np.sqrt(  np.pi/2 * (1-var/wi**2))      # Delta parameter\n"
     ]
    }
   ],
   "source": [
    "## Pack parameters of spectra from cosmos catalog ##\n",
    "bad_com = [] # where parameters have a nan\n",
    "com_fits = []\n",
    "for idx, c_id in enumerate(sim_objs[:,0].astype(int)):\n",
    "\n",
    "    if c_id == -99: continue    # Skip if not cosmos number\n",
    "    \n",
    "    # Check if already been fit\n",
    "    f_ids = np.where(g_fits[:,0].astype(int) == c_id)[0]\n",
    "    if len(f_ids) != 0:    # Already been fit\n",
    "        com_fits.append(g_fits[f_ids[0]])\n",
    "        continue\n",
    "    \n",
    "    # Hasn't been fit\n",
    "    else:\n",
    "        a, w, l, r = fitDist(c20p[\"lp_zPDF\"][c_id-1], c20p[\"lp_zPDF_l68\"][c_id-1], c20p[\"lp_zPDF_u68\"][c_id-1])\n",
    "        #Check to see if fit converged\n",
    "        f_med = skewnorm(a,scale=w,loc=l).median()\n",
    "        if np.abs(f_med - c20p[\"lp_zPDF\"][c_id-1] ) < 0.1:\n",
    "            com_fits.append([c_id, a,w,l,r])\n",
    "        else:\n",
    "            continue\n",
    "\n",
    "\n",
    "com_fits = np.array(com_fits)\n",
    "bad_com = np.array(bad_com)\n",
    "np.save(\"zFits/cFits.npy\", com_fits)"
   ]
  },
  {
   "cell_type": "code",
   "execution_count": 59,
   "metadata": {},
   "outputs": [],
   "source": [
    "### Pack the fits for use ###\n",
    "c_params = []\n",
    "b_params = []\n",
    "for idx, c_id in enumerate(sim_objs[:,0]):\n",
    "    idxs = np.where(com_fits[:,0] == c_id)[0]\n",
    "    if len(idxs) != 0:\n",
    "        i = idxs[0]\n",
    "        c_params.append([com_fits[i][1],com_fits[i][2], com_fits[i][3]])\n",
    "    else :\n",
    "        b_params.append(idx)\n",
    "    \n",
    "\n",
    "c_params = np.array(c_params)\n",
    "final_c = np.delete(sim_objs, b_params, axis=0)"
   ]
  },
  {
   "cell_type": "code",
   "execution_count": 67,
   "metadata": {},
   "outputs": [
    {
     "data": {
      "application/vnd.jupyter.widget-view+json": {
       "model_id": "bde2f47cf96f42698f39cc046ca30182",
       "version_major": 2,
       "version_minor": 0
      },
      "text/plain": [
       "  0%|          | 0/100 [00:00<?, ?it/s]"
      ]
     },
     "metadata": {},
     "output_type": "display_data"
    }
   ],
   "source": [
    "#### RUN THE MC ####\n",
    "# ========================================================\n",
    "# ========================================================\n",
    "z_range = [2,3]         # Redshift range for \n",
    "\n",
    "\n",
    "## Weights\n",
    "\n",
    "# Spectra weights\n",
    "qfs = final_c[:,2] % 10      # \n",
    "spec_weights = np.select( [(qfs >=2.)&(qfs<3.),(qfs>=9.)&(qfs<10.), (qfs>=3.)&(qfs<5.) ],\n",
    "                [0.7, 0.7, 0.993],\n",
    "                default=0)\n",
    "\n",
    "# Grizli weights \n",
    "qfg = final_c[:,-1]  \n",
    "griz_weights = np.select( [qfg==5, qfg==4, qfg==3 ],\n",
    "                [0.925, 0.818, 0.668],\n",
    "                default=0)\n",
    "\n",
    "# Combine\n",
    "sim_weights = np.c_[spec_weights, griz_weights]\n",
    "\n",
    "# Keep track of which flag is higher\n",
    "max_id = np.argmax(sim_weights, axis=1)\n",
    "\n",
    "# Sort the weights\n",
    "sim_weights = np.sort(sim_weights, axis=1)\n",
    "\n",
    "\n",
    "spec_mc[\"ID\"][len(new_szs) + len(final_griz):len(new_szs) + len(final_griz) + len(final_c)] = final_c[:,0]     # update with cosmos IDs\n",
    "which_z[\"ID\"][len(new_szs) + len(final_griz):len(new_szs) + len(final_griz) + len(final_c)] = final_c[:,0]     # update with cosmos IDs\n",
    "\n",
    "# ========================================================\n",
    "# ========================================================\n",
    "# ========================================================\n",
    "\n",
    "for n in tqdm(range(niter)):\n",
    "\n",
    "    # Draw random number for each object:\n",
    "    mc_rns = np.random.random(size=len(sim_weights))\n",
    "\n",
    "    # Choose specz, griz, or photoz\n",
    "    z_choice = []   \n",
    "    for rn_idx, rn in enumerate(mc_rns):\n",
    "        sw = sim_weights[rn_idx]    # weights for this spectrum\n",
    "\n",
    "        if rn < sw[1]: \n",
    "            z_choice.append(max_id[rn_idx]) # Choose better spectrum\n",
    "\n",
    "        elif (rn >=sw[1]) and (rn < sw[1]+sw[0]*(1-sw[1])):\n",
    "            z_choice.append(not(max_id[rn_idx]))    # Choose worse spectrum\n",
    "\n",
    "        else:\n",
    "            z_choice.append(2)  # Choose photoz\n",
    "\n",
    "    \n",
    "    # Make random grism redshifts\n",
    "    g_rand = np.random.normal(final_c[:,3], 46/14100*(1+final_c[:,3]) )\n",
    "\n",
    "    # Pick which redshift to use\n",
    "    z_meds = np.select([z_choice == 0, z_choice == 1, z_choice == 2], \n",
    "                       [final_c[:,1],  g_rand, 2])\n",
    "    \n",
    "    # For \"which_z\" storage only\n",
    "    wz = np.select([z_choice==0, z_choice==1, z_choice==2],\n",
    "                   [1, 2, 0])\n",
    "    \n",
    "    # Assign weights\n",
    "    ws = [0 if zi == 2 else 1 for zi in z_choice]\n",
    "\n",
    "\n",
    "    ## MC ##\n",
    "    _, new_sim , _ = MCz(1, z_meds, ws, z_range, my_PDF,\n",
    "                       verbose=False, alpha = c_params[:,0], omega = c_params[:,1], loc = c_params[:,2])\n",
    "    \n",
    "    new_simz = new_sim.flatten()\n",
    "    # new_simz[bad_com] = -99\n",
    "    \n",
    "    spec_mc[f\"MC_iter{n}\"][len(new_szs) + len(final_griz):len(new_szs) + len(final_griz) + len(final_c)] = new_simz\n",
    "    which_z[f\"MC_iter{n}\"][len(new_szs) + len(final_griz):len(new_szs) + len(final_griz) + len(final_c)] = wz\n"
   ]
  },
  {
   "cell_type": "code",
   "execution_count": 68,
   "metadata": {},
   "outputs": [],
   "source": [
    "spec_mc = spec_mc[:len(new_szs) + len(final_griz) + len(final_c)]\n",
    "which_z = which_z[:len(new_szs) + len(final_griz) + len(final_c)]"
   ]
  },
  {
   "cell_type": "code",
   "execution_count": 69,
   "metadata": {},
   "outputs": [],
   "source": [
    "np.save(r\"C:/Users/sikor/OneDrive/Desktop/BigData/COSMOS2020/MC_spec.npy\", spec_mc)\n",
    "np.save(r\"C:/Users/sikor/OneDrive/Desktop/BigData/COSMOS2020/MC_which.npy\", which_z)"
   ]
  },
  {
   "cell_type": "markdown",
   "metadata": {},
   "source": [
    "----\n",
    "----\n",
    "----\n"
   ]
  },
  {
   "cell_type": "markdown",
   "metadata": {},
   "source": [
    "# Fix up stuff"
   ]
  },
  {
   "cell_type": "code",
   "execution_count": 70,
   "metadata": {},
   "outputs": [],
   "source": [
    "### Sort spectra by cosmos ID ###\n",
    "sorted_spec = np.sort(spec_mc)\n",
    "sorted_which_z = np.sort(which_z)"
   ]
  },
  {
   "cell_type": "code",
   "execution_count": 71,
   "metadata": {},
   "outputs": [
    {
     "data": {
      "application/vnd.jupyter.widget-view+json": {
       "model_id": "7b48a7f5d2e9479d9c1b77e2cf259813",
       "version_major": 2,
       "version_minor": 0
      },
      "text/plain": [
       "  0%|          | 0/48325 [00:00<?, ?it/s]"
      ]
     },
     "metadata": {},
     "output_type": "display_data"
    },
    {
     "data": {
      "application/vnd.jupyter.widget-view+json": {
       "model_id": "2e2cbf3812c046d4882a3cc7f2402a7a",
       "version_major": 2,
       "version_minor": 0
      },
      "text/plain": [
       "  0%|          | 0/100 [00:00<?, ?it/s]"
      ]
     },
     "metadata": {},
     "output_type": "display_data"
    }
   ],
   "source": [
    "dtypes = [c20p.dtype.descr[0]] + [(\"zs\", \">f8\"), (\"zg\", \">f8\")] + [(f\"MC_iter{n}\", \">f8\") for n in range(niter)]\n",
    "\n",
    "# Make array to fill\n",
    "final_spec = np.zeros(shape=(len(sorted_spec)), dtype=dtypes)\n",
    "final_which = np.zeros(shape=(len(sorted_spec)), dtype=dtypes)\n",
    "\n",
    "\n",
    "final_spec[\"ID\"] = sorted_spec[\"ID\"]\n",
    "final_which[\"ID\"] = sorted_spec[\"ID\"]\n",
    "\n",
    "\n",
    "\n",
    "# Add original redshifts\n",
    "zs = []\n",
    "zg = []\n",
    "\n",
    "for id in tqdm(final_spec[\"ID\"]):\n",
    "    # Get original specz\n",
    "    spec_check = np.where(c20s[:,0] == id)[0]\n",
    "    if len(spec_check)==1: zs.append(c20s[:,11][spec_check[0]])\n",
    "    else: zs.append(-99)\n",
    "\n",
    "    # get original griz-z\n",
    "    griz_check = np.where(griz[:,4] == id)[0]\n",
    "    if len(griz_check) ==1: zg.append(griz[:,13][griz_check[0]])\n",
    "    else: zg.append(-99)\n",
    "\n",
    "final_spec[\"zs\"] = zs\n",
    "final_which[\"zs\"] = np.ones(len(zs))\n",
    "\n",
    "final_spec[\"zg\"] = zg\n",
    "final_which[\"zg\"] = 2*np.ones(len(zg))\n",
    "\n",
    "for n in tqdm(range(niter)):\n",
    "    final_spec[f\"MC_iter{n}\"] = sorted_spec[f\"MC_iter{n}\"]\n",
    "    final_which[f\"MC_iter{n}\"] = sorted_which_z[f\"MC_iter{n}\"]\n",
    "\n",
    "np.save(r\"C:/Users/sikor/OneDrive/Desktop/BigData/COSMOS2020/C20spec_MC_100.npy\", final_spec)\n",
    "np.save(r\"C:/Users/sikor/OneDrive/Desktop/BigData/COSMOS2020/C20spec_MC_100_choices.npy\", final_which)"
   ]
  },
  {
   "cell_type": "code",
   "execution_count": 25,
   "metadata": {},
   "outputs": [
    {
     "data": {
      "application/vnd.jupyter.widget-view+json": {
       "model_id": "ee8166fec63a461e96b9336857075d62",
       "version_major": 2,
       "version_minor": 0
      },
      "text/plain": [
       "  0%|          | 0/100 [00:00<?, ?it/s]"
      ]
     },
     "metadata": {},
     "output_type": "display_data"
    }
   ],
   "source": [
    "cosmos_file = fits.open(r\"C:/Users/sikor/OneDrive/Desktop/BigData/COSMOS2020/COSMOS2020_CLASSIC_R1_v2.0.fits\")\n",
    "c20p = cosmos_file[1].data\n",
    "\n",
    "niter = 100\n",
    "\n",
    "for run in range(1):\n",
    "\n",
    "    mcs = np.load(rf\"C:/Users/sikor/OneDrive/Desktop/BigData/COSMOS2020/C20_MC_250_{run}.npy\")\n",
    "\n",
    "\n",
    "    dtypes = [c20p.dtype.descr[0]] + [(\"lp_zPDF\", \">f8\")] + [(f\"MC_iter{n}\", \">f8\") for n in range(niter)]\n",
    "\n",
    "    # Make array to fill\n",
    "    final = np.zeros(shape=(len(mcs)), dtype=dtypes)\n",
    "\n",
    "    final[\"ID\"] = mcs[\"ID\"]\n",
    "\n",
    "    final[\"lp_zPDF\"] = c20p[\"lp_zPDF\"]\n",
    "\n",
    "    for n in tqdm(range(niter)):\n",
    "        final[f\"MC_iter{n}\"] = mcs[f\"MC_iter{n}\"]\n",
    "\n",
    "\n",
    "    mcs = np.save(rf\"C:/Users/sikor/OneDrive/Desktop/BigData/COSMOS2020/C20_MC_250_{run}_redo.npy\", final)\n",
    "\n"
   ]
  }
 ],
 "metadata": {
  "kernelspec": {
   "display_name": "py38",
   "language": "python",
   "name": "python3"
  },
  "language_info": {
   "codemirror_mode": {
    "name": "ipython",
    "version": 3
   },
   "file_extension": ".py",
   "mimetype": "text/x-python",
   "name": "python",
   "nbconvert_exporter": "python",
   "pygments_lexer": "ipython3",
   "version": "3.8.19"
  }
 },
 "nbformat": 4,
 "nbformat_minor": 2
}
