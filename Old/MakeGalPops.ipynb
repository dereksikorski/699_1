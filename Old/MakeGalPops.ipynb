{
 "cells": [
  {
   "cell_type": "code",
   "execution_count": 13,
   "metadata": {},
   "outputs": [],
   "source": [
    "### Imports ###\n",
    "import numpy as np\n",
    "import matplotlib.pyplot as plt\n",
    "import matplotlib.gridspec as gridspec\n",
    "from astropy.io import fits\n",
    "from astropy.cosmology import FlatLambdaCDM\n",
    "from astropy import units as u\n",
    "import os\n",
    "from scipy.optimize import curve_fit\n",
    "cosmo = FlatLambdaCDM(H0=70, Om0=0.27)\n",
    "from GalPop import *\n",
    "from tqdm.notebook import tqdm"
   ]
  },
  {
   "cell_type": "markdown",
   "metadata": {},
   "source": [
    "----\n",
    "----\n",
    "----\n",
    "----\n"
   ]
  },
  {
   "cell_type": "markdown",
   "metadata": {},
   "source": [
    "<font size = 7><h1 align = center>Creating pops for original sample</h1 ></font>      \n"
   ]
  },
  {
   "cell_type": "code",
   "execution_count": 14,
   "metadata": {},
   "outputs": [],
   "source": [
    "### PREP ###\n",
    "\n",
    "## Set limits\n",
    "ra_range = (149.6, 150.52)  \n",
    "dec_range = (1.74, 2.73)\n",
    "z_range = (2., 3.)\n",
    "IRAC_cut = 25.4\n",
    "\n",
    "\n",
    "## Interpolated sigma cube\n",
    "sig_cube = fits.open(r\"C:\\Users\\sikor\\OneDrive\\Desktop\\benpy\\ThirdTry\\Hyperion_interpolated_cube_sigma.fits\")\n",
    "\n",
    "## Path for folders with .dat sigma files\n",
    "sigPath = r\"C:\\Users\\sikor\\OneDrive\\Desktop\\benpy\\HyperionPeaks\"\n"
   ]
  },
  {
   "cell_type": "markdown",
   "metadata": {},
   "source": [
    "<font size = 5><h1 align = center>Handle Photometric sources</h1 ></font>    \n",
    "\n",
    "Make a broad cut on RA, Dec, z, IRAC mag, and lp_type, and then save to GalPop"
   ]
  },
  {
   "cell_type": "code",
   "execution_count": 15,
   "metadata": {},
   "outputs": [
    {
     "name": "stdout",
     "output_type": "stream",
     "text": [
      "Cosmos catalog = (1720700,)\n",
      "Potentially good galaxies = (45356,)\n"
     ]
    }
   ],
   "source": [
    "## CUT DATA AND SAVE ##\n",
    "\n",
    "## Load Cosmos\n",
    "cosmos = fits.open(r\"C:\\Users\\sikor\\OneDrive\\Desktop\\BigData\\COSMOS2020\\COSMOS2020_CLASSIC_R1_v2.0.fits\")\n",
    "c20p = cosmos[1].data\n",
    "\n",
    "## Apply cut\n",
    "g_idxs = np.where((c20p[\"ALPHA_J2000\"] >= ra_range[0]) & (c20p[\"ALPHA_J2000\"] <= ra_range[1])       # RA\n",
    "                & (c20p[\"DELTA_J2000\"] >= dec_range[0]) & (c20p[\"DELTA_J2000\"] <= dec_range[1])     # DEC\n",
    "                & ((c20p[\"IRAC_CH1_MAG\"] <= IRAC_cut) | (c20p[\"IRAC_CH2_MAG\"] <= IRAC_cut)) # IRAC\n",
    "                & (c20p[\"lp_zPDF\"] >= z_range[0]) & (c20p[\"lp_zPDF\"] <= z_range[1])       # Redshift\n",
    "                & ((c20p[\"lp_type\"] == 0) | (c20p[\"lp_type\"] == 2)))        # LePhare type\n",
    "\n",
    "c20p_cut = c20p[g_idxs] # cosmos photometry\n",
    "\n",
    "## Make GalPop and save\n",
    "p_misc = {'Age': c20p_cut[\"lp_age\"], 'survey' :np.full(len(c20p_cut), 'C20p')}\n",
    "IRAC_mags = np.min(np.c_[c20p_cut[\"IRAC_CH1_MAG\"], c20p_cut[\"IRAC_CH2_MAG\"]], axis=1)\n",
    "\n",
    "og_c20p = GalPop(IDs = c20p_cut[\"ID\"], ms = c20p_cut[\"lp_MASS_MED\"], obs_type=np.zeros(len(c20p_cut[\"ID\"])), \n",
    "                coords = np.c_[c20p_cut[\"ALPHA_J2000\"], c20p_cut[\"DELTA_J2000\"] , c20p_cut[\"lp_zPDF\"]],\n",
    "                SFRs=c20p_cut[\"lp_SFR_MED\"], misc=p_misc, mags={'IRAC': IRAC_mags})\n",
    "og_c20p.saveFile(\"OG_c20p.npy\")\n",
    "\n",
    "\n",
    "print(f\"Cosmos catalog = {np.shape(c20p)}\")\n",
    "print(f\"Potentially good galaxies = {np.shape(c20p_cut)}\")"
   ]
  },
  {
   "cell_type": "markdown",
   "metadata": {},
   "source": [
    "<font size = 5><h1 align = center>Handle Spectra sources</h1 ></font>    "
   ]
  },
  {
   "cell_type": "code",
   "execution_count": 16,
   "metadata": {},
   "outputs": [
    {
     "name": "stdout",
     "output_type": "stream",
     "text": [
      "Number of C20 spectra: 42776\n",
      "Number of Grism redshifts: 12764\n"
     ]
    }
   ],
   "source": [
    "### LOAD SPECTRA ###\n",
    "\n",
    "# GROUND-BASED (GB)\n",
    "specz_cat = np.loadtxt(\"./Data/master_specz_COSMOS_BF_v4b.cat\", dtype=object)   # Load in the data\n",
    "# Fix up the formatting for the spec data-file:\n",
    "new_array = []\n",
    "for idx in range(specz_cat.shape[1]):\n",
    "    try:\n",
    "        col = specz_cat[:,idx].astype(np.float32)\n",
    "    except:\n",
    "        col = specz_cat[:,idx]\n",
    "    new_array.append(col)\n",
    "\n",
    "c20s = np.array(new_array, dtype=object)\n",
    "c20s = np.transpose(c20s)\n",
    "\n",
    "print(f\"Number of C20 spectra: {c20s.shape[0]}\")\n",
    "\n",
    "# ----------------------------------------------------------------------\n",
    "# ----------------------------------------------------------------------\n",
    "\n",
    "# GRISM\n",
    "griz_cat = np.loadtxt(\"./Data/HST_galfits_v1.2.cat\", dtype=object)   # Load in the data\n",
    "# Fix up the formatting for the spec data-file:\n",
    "new_array = []\n",
    "for idx in range(griz_cat.shape[1]):\n",
    "    try:\n",
    "        col = griz_cat[:,idx].astype(np.float32)\n",
    "    except:\n",
    "        col = griz_cat[:,idx]\n",
    "    new_array.append(col)\n",
    "\n",
    "griz = np.array(new_array, dtype=object)\n",
    "griz = np.transpose(griz)\n",
    "\n",
    "# Need blended flags from griz_cat\n",
    "griz_rs_cat = np.loadtxt(\"./Data/HST_Hyp_zcat.v1.2.cat\",  usecols=range(16), dtype=object)   # Load in the data\n",
    "bfs = griz_rs_cat[:,5].astype(int)\n",
    "\n",
    "print(f\"Number of Grism redshifts: {griz.shape[0]}\")"
   ]
  },
  {
   "cell_type": "markdown",
   "metadata": {},
   "source": [
    "Make a cut based on the IRAC CH1 and CH2 Mag for the object in COSMOS2020. Also check if there is a meaningful mass measurement (i.e. it's not zero)"
   ]
  },
  {
   "cell_type": "code",
   "execution_count": 17,
   "metadata": {},
   "outputs": [
    {
     "name": "stdout",
     "output_type": "stream",
     "text": [
      "POST IRAC CUT\n",
      "Number of C20 spectra: 29257\n",
      "Number of Grism redshifts: 12270\n"
     ]
    }
   ],
   "source": [
    "## MAKE MAG CUT AND CHECK MASS ##\n",
    "    # Find idx in original C20 cat and cut based on mag\n",
    "    # Check if mass exists (i.e. is positive)\n",
    "\n",
    "## GB\n",
    "\n",
    "spec_cids = c20s[:,0].astype(int) - 1   \n",
    "spec_gals = c20p[spec_cids]\n",
    "g_spec = np.where(((spec_gals[\"IRAC_CH1_MAG\"] <= IRAC_cut) | (spec_gals[\"IRAC_CH2_MAG\"] <= IRAC_cut))\n",
    "                  & (c20s[:,15] > 0))\n",
    "c20s = c20s[g_spec]\n",
    "\n",
    "## GRISM\n",
    "\n",
    "griz_cids = griz[:,5].astype(int)  -1\n",
    "griz_gals = c20p[griz_cids]\n",
    "g_griz = np.where(((griz_gals[\"IRAC_CH1_MAG\"] <= IRAC_cut) | (griz_gals[\"IRAC_CH2_MAG\"] <= IRAC_cut))\n",
    "                  & (griz[:,6] > 0))\n",
    "griz = griz[g_griz]\n",
    "bfs = bfs[g_griz]\n",
    "\n",
    "print(\"POST IRAC CUT\")\n",
    "print(f\"Number of C20 spectra: {c20s.shape[0]}\")\n",
    "print(f\"Number of Grism redshifts: {griz.shape[0]}\")"
   ]
  },
  {
   "cell_type": "markdown",
   "metadata": {},
   "source": [
    "Figure out which objects have both GB and Grism observations. Make unique catalogs for grism and GB measurements w/ these removed. In the similar catalog, remove the blended objects."
   ]
  },
  {
   "cell_type": "code",
   "execution_count": 18,
   "metadata": {},
   "outputs": [
    {
     "name": "stdout",
     "output_type": "stream",
     "text": [
      "Unique Grizli Objects = 10328\n",
      "Unique Spec Objects = 27343\n",
      "Common Objects = 1886    (56 were removed b/c of blending)\n"
     ]
    }
   ],
   "source": [
    "## FIND COMMON OBJECTS ##\n",
    "\n",
    "sim_objs = []   # Keep track of idxs of the object --> [spec_id, griz_id, cosmos id]\n",
    "\n",
    "# Check if the cosmos id is in the spec catalog, and add to list if it is\n",
    "for g_id, c_id in enumerate(griz[:,5]):\n",
    "\n",
    "    if c_id > 0:    # Make sure it's a cosmos object (not -99)\n",
    "        s_ids = np.where(c_id == c20s[:,0])[0]\n",
    "        for si in s_ids:\n",
    "            sim_objs.append([s_ids[0], g_id, c_id, bfs[g_id]])\n",
    "\n",
    "sim_objs = np.array(sim_objs, dtype=int)\n",
    "\n",
    "# Create unique catalogs\n",
    "spec_unique = np.delete(c20s, sim_objs[:,0], axis=0)\n",
    "griz_unique = np.delete(griz, sim_objs[:,1], axis=0)\n",
    "bfs_unique = np.delete(bfs, sim_objs[:,1])\n",
    "\n",
    "# Delete similar objects that have blended flag in grism spec\n",
    "blended = np.where(sim_objs[:,-1] == 1)\n",
    "sim_objs = np.delete(sim_objs, blended, axis=0)\n",
    "\n",
    "print(f\"Unique Grizli Objects = {len(griz_unique)}\")\n",
    "print(f\"Unique Spec Objects = {len(spec_unique)}\")\n",
    "print(f\"Common Objects = {len(sim_objs)}    ({len(blended[0])} were removed b/c of blending)\")"
   ]
  },
  {
   "cell_type": "markdown",
   "metadata": {},
   "source": [
    "Cut the GB measurements based on RA, Dec, z, and qf. Note we've already cut based on magnitude and if there's a mass"
   ]
  },
  {
   "cell_type": "code",
   "execution_count": 19,
   "metadata": {},
   "outputs": [
    {
     "name": "stdout",
     "output_type": "stream",
     "text": [
      "Good spectra:  1864\n"
     ]
    }
   ],
   "source": [
    "### Narrow down the spec-targets ###\n",
    "\n",
    "qfs = spec_unique[:,13] % 10        # Find last digit of qf\n",
    "\n",
    "spec_use_idxs = np.where( (ra_range[0]<= spec_unique[:,4]) & (spec_unique[:,4] <= ra_range[1])          # RA check\n",
    "                 & (dec_range[0] <= spec_unique[:,6]) & (spec_unique[:,6] <= dec_range[1])      # Dec check\n",
    "                 & (z_range[0] <= spec_unique[:,11]) & (spec_unique[:,11]<= z_range[1])         # redshift check\n",
    "                 & (  ((qfs >=2.)&(qfs<3.))  |  ((qfs>=9.)&(qfs<10.)) | ((qfs>=3.)&(qfs<5.)))   )[0] # QF check         \n",
    "\n",
    "\n",
    "spec_use = spec_unique[spec_use_idxs]     # Trim the spec catalog to only include galaxies I care about\n",
    "print(\"Good spectra: \", len(spec_use))"
   ]
  },
  {
   "cell_type": "markdown",
   "metadata": {},
   "source": [
    "Narrow down the Grism targets based on RA, Dec, z, qfs, and if it's blended. Note we've already trimmed based on IRAC and if there's a mass."
   ]
  },
  {
   "cell_type": "code",
   "execution_count": 20,
   "metadata": {},
   "outputs": [
    {
     "name": "stdout",
     "output_type": "stream",
     "text": [
      "Good Grism spectra:  512\n"
     ]
    }
   ],
   "source": [
    "### Narrow down the griz-targets ###\n",
    "\n",
    "qfs = griz_unique[:,4]  \n",
    "\n",
    "griz_use_idxs = np.where( (ra_range[0]<= griz_unique[:,1]) & (griz_unique[:,1] <= ra_range[1])          # RA check\n",
    "                 & (dec_range[0] <= griz_unique[:,2]) & (griz_unique[:,2] <= dec_range[1])      # Dec check\n",
    "                 & (z_range[0] <= griz_unique[:,3]) & (griz_unique[:,3]<= z_range[1])         # redshift check\n",
    "                 & (  (qfs==3)  |  (qfs==4) | (qfs==5) )        # QF check\n",
    "                 & (bfs_unique== 0))[0]          # Not a blended object\n",
    "\n",
    "griz_use = griz_unique[griz_use_idxs]     # Trim the spec catalog to only include galaxies I care about\n",
    "print(\"Good Grism spectra: \", len(griz_use))"
   ]
  },
  {
   "cell_type": "markdown",
   "metadata": {},
   "source": [
    "For similar objects, we need to figure out the best object with both observations based on the quality flag. For Qs and Qg, the ranking goes:\n",
    "\n",
    "Qs=3/4 > Qg=5 > Qg=4 > Qs2/9 > Qg=3\n",
    "\n",
    "\n",
    "Note these objects are checked for RA, Dec, and z later"
   ]
  },
  {
   "cell_type": "code",
   "execution_count": 21,
   "metadata": {},
   "outputs": [
    {
     "name": "stdout",
     "output_type": "stream",
     "text": [
      "Number of spectra:  1414\n",
      "Number of grism:  325\n",
      "Number total =  1886\n",
      "Number of bad objects  0\n"
     ]
    }
   ],
   "source": [
    "### Figure out the best of the similar objects ###\n",
    "\n",
    "qf_s = c20s[sim_objs[:,0]][:,13] %10\n",
    "qf_g = griz[sim_objs[:,1]][:,4]\n",
    "\n",
    "which_choice = []   # 1 for spec, 2 for griz, -99 for bad quality\n",
    "\n",
    "# qs_3/4 > qg_5 > qg_4 > qs_2/9 > qg_3\n",
    "\n",
    "for s, g in zip(qf_s, qf_g):\n",
    "\n",
    "        if (s>=3.) and (s<5.): which_choice.append(1)       # qs == 3/4\n",
    "        elif g in [5,4]:  which_choice.append(2)            # qg == 5 or 4\n",
    "        elif ((s >=2.)and(s<3.)) or ((s>=9.)and(s<10.)): which_choice.append(1)   # qs = 2 or 9\n",
    "        elif g == 3: which_choice.append(2)\n",
    "        else: which_choice.append(-99)\n",
    "\n",
    "# Find and remove bad quality objects\n",
    "bad_objs = np.where(which_choice==-99)  \n",
    "sim_objs = np.delete(sim_objs, bad_objs, axis=0)\n",
    "which_choice = np.delete(which_choice, bad_objs)\n",
    "\n",
    "print(\"Number of spectra: \", len(which_choice[which_choice==1]))\n",
    "print(\"Number of grism: \", len(which_choice[which_choice==2]))\n",
    "print(\"Number total = \", len(which_choice))\n",
    "print(\"Number of bad objects \", len(bad_objs[0]))\n"
   ]
  },
  {
   "cell_type": "markdown",
   "metadata": {},
   "source": [
    "<font size = 5><h1 align = center>Make catalog</h1 ></font>    "
   ]
  },
  {
   "cell_type": "markdown",
   "metadata": {},
   "source": [
    "We now have:\n",
    "- A GalPop Object for the good photometric data\n",
    "- A list of unique, usable Ground-Based spectra\n",
    "- A list of unique, usable Grism spectra\n",
    "- A list of the IDs for potentially usable similar objects that need an RA/Dec/z check still\n",
    "\n",
    "Let's combine combine the spectra into another GalPop, then combine the GalPops"
   ]
  },
  {
   "cell_type": "code",
   "execution_count": 22,
   "metadata": {},
   "outputs": [
    {
     "name": "stdout",
     "output_type": "stream",
     "text": [
      "Final number of objects =  45964\n",
      "Photo-z sources =  43306\n",
      "Spec-z sources =  2078\n",
      "Grism-z sources =  580\n"
     ]
    }
   ],
   "source": [
    "\n",
    "## Prep the GB Spectra ##\n",
    "s_obs = np.ones(len(spec_use))  # obs type = 1 for spectra\n",
    "s_IDs = spec_use[:,0].astype(int)       # C20 ID\n",
    "s_survey = spec_use[:,2]        # which survey\n",
    "s_coords  = np.c_[spec_use[:,4], spec_use[:,6], spec_use[:,11]]    # spec (ra, dec, z)\n",
    "s_ms = spec_use[:,15]    # Spec m\n",
    "s_sfr = spec_use[:,18]   # sfr\n",
    "s_age = spec_use[:,21]   # age\n",
    "s_qf = spec_use[:,13] %10\n",
    "s_imag = np.min(   np.c_[c20p['IRAC_CH1_MAG'][s_IDs-1], c20p['IRAC_CH1_MAG'][s_IDs-1]], axis=1)\n",
    "\n",
    "\n",
    "## Prep the Grism Spec ##\n",
    "g_obs = 2*np.ones(len(griz_use))     # obs type = 2 for grizli\n",
    "g_survey = np.full(len(griz_use), 'HST')    # Which survey\n",
    "g_IDs = griz_use[:,5].astype(int)   # C20 ID\n",
    "g_coords  = np.c_[griz_use[:,1], griz_use[:,2], griz_use[:,3]]     # grizli coords\n",
    "g_ms = griz_use[:,6]    # mass\n",
    "g_sfr = griz_use[:,9]   # sfr\n",
    "g_age = griz_use[:,11]   # age\n",
    "g_qf = griz_use[:,4]\n",
    "g_imag = np.min(   np.c_[c20p['IRAC_CH1_MAG'][g_IDs-1], c20p['IRAC_CH1_MAG'][g_IDs-1]], axis=1)\n",
    "\n",
    "derek = []\n",
    "## Prep the common objects ##\n",
    "    # Note we still need to check RA/dec/z\n",
    "com_typ = []\n",
    "com_ids, com_survey,  com_coords, com_ms, com_sfr, com_age, com_qf, com_imag = [], [], [], [], [], [], [], []\n",
    "for idx, t in enumerate(which_choice):\n",
    "    if t == 1:  # Using a GB-spec\n",
    "        s_id = sim_objs[idx][0]\n",
    "        props = c20s[s_id]\n",
    "        # Make sure the galaxy is in right range\n",
    "        if (ra_range[0]<= props[4]<=ra_range[1]) and (dec_range[0]<=props[6]<=dec_range[1])and(z_range[0]<=props[11]<=z_range[1]):\n",
    "            com_typ.append(1)\n",
    "            com_survey.append(props[2])\n",
    "            com_ids.append(props[0])\n",
    "            com_coords.append([props[4], props[6], props[11]])\n",
    "            com_ms.append(props[15])\n",
    "            com_sfr.append(props[18])\n",
    "            com_age.append(props[21])\n",
    "            com_qf.append(props[13]%10)\n",
    "            derek.append(props[13])\n",
    "            c = np.int32(props[0]-1)\n",
    "            com_imag.append( np.min( (c20p['IRAC_CH1_MAG'][c], c20p['IRAC_CH1_MAG'][c] )) )\n",
    "\n",
    "        else:\n",
    "            continue\n",
    "\n",
    "    elif t==2:  # Using Grism\n",
    "        g_id = sim_objs[idx][1]\n",
    "        props = griz[g_id]\n",
    "        if (ra_range[0]<= props[1]<=ra_range[1]) and (dec_range[0]<=props[2]<=dec_range[1])and(z_range[0]<=props[3]<=z_range[1]):\n",
    "            com_typ.append(2)\n",
    "            com_survey.append('HST')\n",
    "            com_ids.append(props[5])\n",
    "            com_coords.append([props[1], props[2], props[3]])\n",
    "            com_ms.append(props[6])\n",
    "            com_sfr.append(props[9])\n",
    "            com_age.append(props[11])\n",
    "            com_qf.append(props[4])\n",
    "            c = np.int32(props[5]-1)\n",
    "            com_imag.append( np.min( (c20p['IRAC_CH1_MAG'][c], c20p['IRAC_CH1_MAG'][c]) ) )\n",
    "\n",
    "        else:\n",
    "            continue\n",
    "\n",
    "# Flatten on the lists into one array\n",
    "spec_obs = np.concatenate((s_obs, g_obs, com_typ))\n",
    "spec_ids = np.concatenate((s_IDs, g_IDs, com_ids ))\n",
    "spec_survey = np.concatenate((s_survey, g_survey, com_survey))\n",
    "spec_coords = np.concatenate((s_coords, g_coords, com_coords ), axis=0)\n",
    "spec_ms = np.concatenate((s_ms, g_ms, com_ms))\n",
    "spec_sfr = np.concatenate((s_sfr, g_sfr, com_sfr))\n",
    "spec_age = np.concatenate((s_age, g_age, com_age))\n",
    "spec_qf = np.concatenate((s_qf, g_qf, com_qf))\n",
    "imags = np.concatenate((s_imag, g_imag, com_imag))\n",
    "\n",
    "# Add the misc info and make object\n",
    "spec_misc = {'Age': spec_age, 'survey': spec_survey}\n",
    "spec_gp = GalPop(IDs=spec_ids.astype(int), ms=spec_ms.astype(float), coords=spec_coords,\n",
    "                SFRs=spec_sfr.astype(float), obs_type=spec_obs, misc=spec_misc, mags={'IRAC': imags})\n",
    "\n",
    "# Delete the similar objects from the photometric catalog and combine\n",
    "og_c20p.del_objs(spec_gp.IDs)\n",
    "final_tot = spec_gp.combine(og_c20p)\n",
    "\n",
    "# Find breakdown of galaxies\n",
    "\n",
    "print(\"Final number of objects = \", len(final_tot.IDs))\n",
    "print(\"Photo-z sources = \", len(final_tot.obs_type[final_tot.obs_type == 0]))\n",
    "print(\"Spec-z sources = \", len(final_tot.obs_type[final_tot.obs_type == 1]))\n",
    "print(\"Grism-z sources = \", len(final_tot.obs_type[final_tot.obs_type == 2]))\n"
   ]
  },
  {
   "cell_type": "code",
   "execution_count": 26,
   "metadata": {},
   "outputs": [
    {
     "data": {
      "image/png": "[encoded data removed]",
      "text/plain": [
       "<Figure size 640x480 with 1 Axes>"
      ]
     },
     "metadata": {},
     "output_type": "display_data"
    }
   ],
   "source": [
    "dz = 0.025\n",
    "\n",
    "for z in np.arange(2,3,dz):\n",
    "    z_id = np.where((final_tot.coords[:,2]>=z) & (final_tot.coords[:,2]<z+dz))\n",
    "\n",
    "    frac = len(np.where(final_tot.obs_type[z_id] == 0)[0]) / len(final_tot.obs_type[z_id])\n",
    "\n",
    "\n",
    "    plt.scatter(z,1-frac, color='b', s=10 )\n",
    "\n",
    "\n",
    "plt.axvline(2.35, color='r', ls='--')\n",
    "plt.axvline(2.7, color='r', ls='--')\n",
    "plt.show()"
   ]
  },
  {
   "cell_type": "code",
   "execution_count": 11,
   "metadata": {},
   "outputs": [
    {
     "name": "stdout",
     "output_type": "stream",
     "text": [
      "40\n"
     ]
    },
    {
     "data": {
      "text/plain": [
       "(array([0., 0., 0., 0., 0., 0., 0., 0., 0., 0., 1., 0., 0., 0., 0., 0., 0.,\n",
       "        0., 0.]),\n",
       " array([2.  , 2.05, 2.1 , 2.15, 2.2 , 2.25, 2.3 , 2.35, 2.4 , 2.45, 2.5 ,\n",
       "        2.55, 2.6 , 2.65, 2.7 , 2.75, 2.8 , 2.85, 2.9 , 2.95]),\n",
       " <BarContainer object of 19 artists>)"
      ]
     },
     "execution_count": 11,
     "metadata": {},
     "output_type": "execute_result"
    },
    {
     "data": {
      "image/png": "[encoded data removed]",
      "text/plain": [
       "<Figure size 640x480 with 1 Axes>"
      ]
     },
     "metadata": {},
     "output_type": "display_data"
    }
   ],
   "source": [
    "test_qf = np.concatenate((spec_use[:,13], derek))\n",
    "hm = len(np.where(((test_qf >= 10) & (test_qf < 20)) | (test_qf > 100))[0])\n",
    "print(hm)\n",
    "plt.hist(spec_coords[:,2][hm], bins=np.arange(2,3,0.05))"
   ]
  },
  {
   "cell_type": "code",
   "execution_count": 39,
   "metadata": {},
   "outputs": [
    {
     "data": {
      "text/plain": [
       "(array([ 0.,  0.,  0., 86., 11.,  2.]),\n",
       " array([0., 1., 2., 3., 4., 5., 6.]),\n",
       " <BarContainer object of 6 artists>)"
      ]
     },
     "execution_count": 39,
     "metadata": {},
     "output_type": "execute_result"
    },
    {
     "data": {
      "image/png": "[encoded data removed]",
      "text/plain": [
       "<Figure size 640x480 with 1 Axes>"
      ]
     },
     "metadata": {},
     "output_type": "display_data"
    }
   ],
   "source": [
    "gi = np.where(((g_coords[:,2] >=2.35) & (g_coords[:,2] <=2.55)))\n",
    "plt.hist(g_qf[gi], bins=np.arange(7))\n"
   ]
  },
  {
   "cell_type": "code",
   "execution_count": 32,
   "metadata": {},
   "outputs": [
    {
     "data": {
      "text/plain": [
       "(array([  0.,   0., 826., 648., 279.,   0.,   0.,   0.,  47.]),\n",
       " array([0., 1., 2., 3., 4., 5., 6., 7., 8., 9.]),\n",
       " <BarContainer object of 9 artists>)"
      ]
     },
     "execution_count": 32,
     "metadata": {},
     "output_type": "execute_result"
    },
    {
     "data": {
      "image/png": "[encoded data removed]",
      "text/plain": [
       "<Figure size 640x480 with 1 Axes>"
      ]
     },
     "metadata": {},
     "output_type": "display_data"
    }
   ],
   "source": [
    "plt.hist(s_qf, bins=np.arange(0,10,1))"
   ]
  },
  {
   "cell_type": "code",
   "execution_count": 12,
   "metadata": {},
   "outputs": [],
   "source": [
    "# Define sigma information\n",
    "sigs = np.arange(2.0, 5.5, 0.5)\n",
    "sig_path = sigPath\n",
    "sig_sums = [f\"\\peaks_sig{s}.dat\" for s in sigs]\n",
    "sig_folders = [f\"\\sig{s}_peaks\" for s in sigs]\n",
    "\n",
    "# Assign peaks to objects\n",
    "spec_gp.assignPeaks(sigs, sig_cube, sig_path, sig_sums, sig_folders, overwrite=True)"
   ]
  },
  {
   "cell_type": "code",
   "execution_count": 30,
   "metadata": {},
   "outputs": [
    {
     "ename": "KeyError",
     "evalue": "2.0",
     "output_type": "error",
     "traceback": [
      "\u001b[1;31m---------------------------------------------------------------------------\u001b[0m",
      "\u001b[1;31mKeyError\u001b[0m                                  Traceback (most recent call last)",
      "Cell \u001b[1;32mIn[30], line 1\u001b[0m\n\u001b[1;32m----> 1\u001b[0m s \u001b[38;5;241m=\u001b[39m np\u001b[38;5;241m.\u001b[39mwhere((spec_gp\u001b[38;5;241m.\u001b[39mobs_type \u001b[38;5;241m==\u001b[39m \u001b[38;5;241m1\u001b[39m) \u001b[38;5;241m&\u001b[39m (\u001b[38;5;241m2.35\u001b[39m \u001b[38;5;241m<\u001b[39m\u001b[38;5;241m=\u001b[39m spec_gp\u001b[38;5;241m.\u001b[39mcoords[:,\u001b[38;5;241m2\u001b[39m]) \u001b[38;5;241m&\u001b[39m (\u001b[38;5;241m2.7\u001b[39m \u001b[38;5;241m>\u001b[39m\u001b[38;5;241m=\u001b[39m spec_gp\u001b[38;5;241m.\u001b[39mcoords[:,\u001b[38;5;241m2\u001b[39m]) \u001b[38;5;241m&\u001b[39m (\u001b[43mspec_gp\u001b[49m\u001b[38;5;241;43m.\u001b[39;49m\u001b[43mpks\u001b[49m\u001b[43m[\u001b[49m\u001b[38;5;241;43m2.0\u001b[39;49m\u001b[43m]\u001b[49m\u001b[38;5;241m==\u001b[39m\u001b[38;5;241m1\u001b[39m))\n\u001b[0;32m      2\u001b[0m plt\u001b[38;5;241m.\u001b[39mhist(spec_qf[s], bins\u001b[38;5;241m=\u001b[39mnp\u001b[38;5;241m.\u001b[39marange(\u001b[38;5;241m0\u001b[39m,\u001b[38;5;241m11\u001b[39m,\u001b[38;5;241m1\u001b[39m))\n",
      "\u001b[1;31mKeyError\u001b[0m: 2.0"
     ]
    }
   ],
   "source": [
    "s = np.where((spec_gp.obs_type == 1) & (2.35 <= spec_gp.coords[:,2]) & (2.7 >= spec_gp.coords[:,2]) & (spec_gp.pks[2.0]==1))\n",
    "plt.hist(spec_qf[s], bins=np.arange(0,11,1))"
   ]
  },
  {
   "cell_type": "code",
   "execution_count": 75,
   "metadata": {},
   "outputs": [
    {
     "data": {
      "text/plain": [
       "160.297"
      ]
     },
     "execution_count": 75,
     "metadata": {},
     "output_type": "execute_result"
    }
   ],
   "source": [
    "0.7*(39+7) + 0.993*(55+74)"
   ]
  },
  {
   "cell_type": "code",
   "execution_count": 62,
   "metadata": {},
   "outputs": [
    {
     "data": {
      "text/plain": [
       "(array([ 0.,  0.,  0., 47.,  7.,  2.,  0.,  0.,  0.,  0.]),\n",
       " array([ 0.,  1.,  2.,  3.,  4.,  5.,  6.,  7.,  8.,  9., 10.]),\n",
       " <BarContainer object of 10 artists>)"
      ]
     },
     "execution_count": 62,
     "metadata": {},
     "output_type": "execute_result"
    },
    {
     "data": {
      "image/png": "[encoded data removed]",
      "text/plain": [
       "<Figure size 640x480 with 1 Axes>"
      ]
     },
     "metadata": {},
     "output_type": "display_data"
    }
   ],
   "source": [
    "s = np.where((spec_gp.obs_type == 2) & (2.35 <= spec_gp.coords[:,2]) & (2.7 >= spec_gp.coords[:,2]) & (spec_gp.pks[2.0]==1))\n",
    "plt.hist(spec_qf[s], bins=np.arange(0,11,1))"
   ]
  },
  {
   "cell_type": "code",
   "execution_count": 73,
   "metadata": {},
   "outputs": [
    {
     "data": {
      "text/plain": [
       "38.972"
      ]
     },
     "execution_count": 73,
     "metadata": {},
     "output_type": "execute_result"
    }
   ],
   "source": [
    "0.925*2 + 0.818*7 + 0.668*47"
   ]
  },
  {
   "cell_type": "markdown",
   "metadata": {},
   "source": [
    "<font size = 5><h1 align = center>Assign Objects to peaks and make Subpops</h1 ></font>    "
   ]
  },
  {
   "cell_type": "code",
   "execution_count": 23,
   "metadata": {},
   "outputs": [
    {
     "name": "stderr",
     "output_type": "stream",
     "text": [
      "No artists with labels found to put in legend.  Note that artists whose label start with an underscore are ignored when legend() is called with no argument.\n",
      "No artists with labels found to put in legend.  Note that artists whose label start with an underscore are ignored when legend() is called with no argument.\n",
      "No artists with labels found to put in legend.  Note that artists whose label start with an underscore are ignored when legend() is called with no argument.\n",
      "No artists with labels found to put in legend.  Note that artists whose label start with an underscore are ignored when legend() is called with no argument.\n"
     ]
    },
    {
     "name": "stdout",
     "output_type": "stream",
     "text": [
      "2.0\n",
      "2.5\n",
      "3.0\n",
      "3.5\n",
      "4.0\n",
      "4.5\n",
      "5.0\n"
     ]
    }
   ],
   "source": [
    "# Define sigma information\n",
    "sigs = np.arange(2.0, 5.5, 0.5)\n",
    "sig_path = sigPath\n",
    "sig_sums = [f\"\\peaks_sig{s}.dat\" for s in sigs]\n",
    "sig_folders = [f\"\\sig{s}_peaks\" for s in sigs]\n",
    "\n",
    "# Assign peaks to objects\n",
    "final_tot.assignPeaks(sigs, sig_cube, sig_path, sig_sums, sig_folders, overwrite=True)\n",
    "\n",
    "# Make subpopulations based on this\n",
    "pk_path = \"HyperionPeaks_new/\"\n",
    "pk_sums = [f\"peaks_sig{s}.dat\" for s in sigs]\n",
    "\n",
    "\n",
    "# Make field subpops\n",
    "final_tot.subPop(\"field1\", [-99, 4.0], 13. , [2.15, 2.25], pk_path, \"peaks_sig4.0.dat\", sig_cube, cosmo = cosmo, plot=f\"popPlots/OG_Cosmos\")\n",
    "final_tot.subPop(\"field2\", [-99, 4.0], 13. , [2.65, 2.75], pk_path, \"peaks_sig4.0.dat\", sig_cube, cosmo = cosmo, plot=f\"popPlots/OG_Cosmos\")\n",
    "\n",
    "# Make overdense subpops\n",
    "for si, sigma in enumerate(sigs):\n",
    "    print(sigma)\n",
    "    final_tot.subPop(f\"ho{sigma}\", [sigma, np.inf], 13., [2.35, 2.7], pk_path, pk_sums[si], sig_cube, plot=f\"popPlots/OG_Cosmos\")\n",
    "\n",
    "final_tot.subPop(f\"ho2.0\", [2.0, np.inf], 13., [2.35, 2.7], pk_path, pk_sums[si], sig_cube, pk_nums=[1], plot=f\"popPlots/OG_Cosmos\")\n",
    "\n",
    "\n",
    "\n",
    "final_tot.saveFile(\"OG_Cosmos.npy\")"
   ]
  },
  {
   "cell_type": "markdown",
   "metadata": {},
   "source": [
    "---\n",
    "---\n",
    "---"
   ]
  },
  {
   "cell_type": "markdown",
   "metadata": {},
   "source": [
    "# Assign Peaks to C20p"
   ]
  },
  {
   "cell_type": "code",
   "execution_count": 3,
   "metadata": {},
   "outputs": [
    {
     "name": "stdout",
     "output_type": "stream",
     "text": [
      "Cosmos catalog = (1720700,)\n",
      "MCp = (70049,)\n"
     ]
    }
   ],
   "source": [
    "### LOAD DATA ###\n",
    "# Cosmos data\n",
    "cosmos = fits.open(r\"C:\\Users\\sikor\\OneDrive\\Desktop\\BigData\\COSMOS2020\\COSMOS2020_CLASSIC_R1_v2.0.fits\")\n",
    "c20p = cosmos[1].data\n",
    "\n",
    "# MC iterations\n",
    "MCp = np.load(rf\"C:/Users/sikor/OneDrive/Desktop/BigData/COSMOS2020/C20_MC_100_0.npy\")\n",
    "\n",
    "## Interpolated sigma cube\n",
    "sig_cube = fits.open(r\"C:\\Users\\sikor\\OneDrive\\Desktop\\benpy\\ThirdTry\\Hyperion_interpolated_cube_sigma.fits\")\n",
    "\n",
    "## Path for folders with .dat sigma files\n",
    "sigPath = r\"C:\\Users\\sikor\\OneDrive\\Desktop\\benpy\\HyperionPeaks\"\n",
    "\n",
    "print(f\"Cosmos catalog = {np.shape(c20p)}\")\n",
    "print(f\"MCp = {np.shape(MCp)}\")"
   ]
  },
  {
   "cell_type": "code",
   "execution_count": 4,
   "metadata": {},
   "outputs": [
    {
     "name": "stdout",
     "output_type": "stream",
     "text": [
      "(70049,)\n",
      "Potentially good galaxies = (70049,)\n"
     ]
    }
   ],
   "source": [
    "## CUT DATA TO POTENTIALLY USABLE ##\n",
    "ra_range = (149.6, 150.52)  \n",
    "dec_range = (1.74, 2.73)\n",
    "z_range = (2., 3.)\n",
    "IRAC_cut = 25.4\n",
    "\n",
    "g_idxs = np.where((c20p[\"ALPHA_J2000\"] >= ra_range[0]) & (c20p[\"ALPHA_J2000\"] <= ra_range[1])       # RA\n",
    "                & (c20p[\"DELTA_J2000\"] >= dec_range[0]) & (c20p[\"DELTA_J2000\"] <= dec_range[1])     # DEC\n",
    "                & ((c20p[\"IRAC_CH1_MAG\"] <= IRAC_cut) | (c20p[\"IRAC_CH2_MAG\"] <= IRAC_cut)) # IRAC\n",
    "                & ((c20p[\"lp_type\"] == 0) | (c20p[\"lp_type\"] == 2)))        # LePhare type\n",
    "\n",
    "c20p = c20p[g_idxs] # cosmos photometry\n",
    "\n",
    "gp_idxs = np.in1d(c20p[\"ID\"], MCp[\"ID\"])\n",
    "c20p = c20p[gp_idxs]\n",
    "\n",
    "\n",
    "print(c20p.shape)\n",
    "print(f\"Potentially good galaxies = {np.shape(MCp)}\")"
   ]
  },
  {
   "cell_type": "code",
   "execution_count": 5,
   "metadata": {},
   "outputs": [
    {
     "data": {
      "application/vnd.jupyter.widget-view+json": {
       "model_id": "1051acfd50fb4fef9ca21b5081d7e442",
       "version_major": 2,
       "version_minor": 0
      },
      "text/plain": [
       "  0%|          | 0/100 [00:00<?, ?it/s]"
      ]
     },
     "metadata": {},
     "output_type": "display_data"
    }
   ],
   "source": [
    "## Create GalPop Objects ##\n",
    "mc_iter = 100     # Number of differnet redshifts to use\n",
    "sigs = np.arange(2.0, 5.5, 0.5)\n",
    "sig_path = sigPath\n",
    "sig_sums = [f\"\\peaks_sig{s}.dat\" for s in sigs]\n",
    "sig_folders = [f\"\\sig{s}_peaks\" for s in sigs]\n",
    "\n",
    "\n",
    "for m in tqdm(range(mc_iter)):\n",
    "\n",
    "    # Create the galaxy coordinates for this iteration\n",
    "    gal_coords = np.c_[c20p[\"ALPHA_J2000\"], c20p[\"DELTA_J2000\"], MCp[f\"MC_iter{m}\"]]\n",
    "\n",
    "    # Find good galaxies for this pop\n",
    "    g_idxs = np.where((gal_coords[:,2] >= z_range[0]) & (gal_coords[:,2] <= z_range[1]))\n",
    "\n",
    "    irac_mags = np.max(np.c_[c20p[\"IRAC_CH1_MAG\"][g_idxs] , c20p[\"IRAC_CH1_MAG\"][g_idxs] ], axis=1)\n",
    "\n",
    "    # Create an instance\n",
    "    gp = GalPop(c20p[\"ID\"][g_idxs], gal_coords[g_idxs], c20p[\"lp_mass_med\"][g_idxs],\n",
    "                 obs_type=np.zeros(len(g_idxs[0])),mags={'IRAC': irac_mags}, verbose=False)\n",
    "\n",
    "    # Assign the peaks\n",
    "    # gp.assignPeaks(sigs, sig_cube, sig_path, sig_sums, sig_folders, overwrite=True)\n",
    "\n",
    "    # Save file\n",
    "    gp.saveFile(f\"GalPops_phot/MC_{m}.npy\")"
   ]
  },
  {
   "cell_type": "code",
   "execution_count": 6,
   "metadata": {},
   "outputs": [
    {
     "name": "stdout",
     "output_type": "stream",
     "text": [
      "(24275,)\n"
     ]
    }
   ],
   "source": [
    "cosmos = fits.open(r\"C:\\Users\\sikor\\OneDrive\\Desktop\\BigData\\COSMOS2020\\COSMOS2020_CLASSIC_R1_v2.0.fits\")\n",
    "c20p = cosmos[1].data\n",
    "\n",
    "MCs = np.load(r\"C:/Users/sikor/OneDrive/Desktop/BigData/COSMOS2020/MC_spec.npy\", allow_pickle=True)\n",
    "\n",
    "which_typ =  np.load(r\"C:/Users/sikor/OneDrive/Desktop/BigData/COSMOS2020/MC_which.npy\", allow_pickle=True)\n",
    "\n",
    "c20_sgals = np.take(c20p, MCs[\"ID\"]-1, axis=0)\n",
    "\n",
    "print(MCs.shape)\n"
   ]
  },
  {
   "cell_type": "code",
   "execution_count": 7,
   "metadata": {},
   "outputs": [
    {
     "name": "stdout",
     "output_type": "stream",
     "text": [
      "(23307,)\n",
      "Potentially good galaxies = (23307,)\n"
     ]
    }
   ],
   "source": [
    "## CUT DATA TO POTENTIALLY USABLE ##\n",
    "ra_range = (149.6, 150.52)  \n",
    "dec_range = (1.74, 2.73)\n",
    "z_range = (2., 3.)\n",
    "IRAC_cut = 25.4\n",
    "\n",
    "g_idxs = np.where((c20_sgals[\"ALPHA_J2000\"] >= ra_range[0]) & (c20_sgals[\"ALPHA_J2000\"] <= ra_range[1])       # RA\n",
    "                & (c20_sgals[\"DELTA_J2000\"] >= dec_range[0]) & (c20_sgals[\"DELTA_J2000\"] <= dec_range[1])     # DEC\n",
    "                & ((c20_sgals[\"IRAC_CH1_MAG\"] <= IRAC_cut) | (c20_sgals[\"IRAC_CH2_MAG\"] <= IRAC_cut)) # IRAC\n",
    "                & ((c20_sgals[\"lp_type\"] == 0) | (c20_sgals[\"lp_type\"] == 2)))        # LePhare type\n",
    "\n",
    "c20_sgals = c20_sgals[g_idxs] # cosmos photometry\n",
    "MCs = MCs[g_idxs]\n",
    "which_typ = which_typ[g_idxs]\n",
    "\n",
    "gp_idxs = np.in1d(c20_sgals[\"ID\"], MCs[\"ID\"])\n",
    "c20_sgals = c20_sgals[gp_idxs]\n",
    "MCs = MCs[gp_idxs]\n",
    "which_typ = which_typ[gp_idxs]\n",
    "\n",
    "\n",
    "print(c20_sgals.shape)\n",
    "print(f\"Potentially good galaxies = {np.shape(MCs)}\")"
   ]
  },
  {
   "cell_type": "code",
   "execution_count": 8,
   "metadata": {},
   "outputs": [
    {
     "data": {
      "application/vnd.jupyter.widget-view+json": {
       "model_id": "22d102e3f1334160bb2acd7ebc86bbf9",
       "version_major": 2,
       "version_minor": 0
      },
      "text/plain": [
       "  0%|          | 0/100 [00:00<?, ?it/s]"
      ]
     },
     "metadata": {},
     "output_type": "display_data"
    }
   ],
   "source": [
    "## Create GalPop Objects ##\n",
    "mc_iter = 100     # Number of differnet redshifts to use\n",
    "sigs = np.arange(2.0, 5.5, 0.5)\n",
    "sig_path = sigPath\n",
    "sig_sums = [f\"\\peaks_sig{s}.dat\" for s in sigs]\n",
    "sig_folders = [f\"\\sig{s}_peaks\" for s in sigs]\n",
    "\n",
    "\n",
    "# Create the galaxy coordinates for this iteration\n",
    "for m in tqdm(range(mc_iter)):\n",
    "\n",
    "\n",
    "    gal_coords = np.c_[c20_sgals[\"ALPHA_J2000\"], c20_sgals[\"DELTA_J2000\"], MCs[f\"MC_iter{m}\"]]\n",
    "\n",
    "    # Find good galaxies for this pop\n",
    "    g_idxs = np.where((gal_coords[:,2] >= z_range[0]) & (gal_coords[:,2] <= z_range[1]))\n",
    "\n",
    "    irac_mags = np.max(np.c_[c20_sgals[\"IRAC_CH1_MAG\"][g_idxs] , c20_sgals[\"IRAC_CH1_MAG\"][g_idxs] ], axis=1)\n",
    "\n",
    "\n",
    "    # Create an instance\n",
    "    gp = GalPop(IDs = c20_sgals[\"ID\"][g_idxs], coords = gal_coords[g_idxs],\n",
    "                ms =  c20_sgals[\"lp_mass_med\"][g_idxs], obs_type=which_typ[f\"MC_iter{m}\"][g_idxs], \n",
    "                mags={'IRAC': irac_mags},verbose=False)\n",
    "\n",
    "    # Assign the peaks\n",
    "    # gp.assignPeaks(sigs, sig_cube, sig_path, sig_sums, sig_folders, overwrite=True)\n",
    "\n",
    "    # Save file\n",
    "    gp.saveFile(f\"GalPops_spec/MC_{m}.npy\")"
   ]
  },
  {
   "cell_type": "markdown",
   "metadata": {},
   "source": [
    "## Combine Populations"
   ]
  },
  {
   "cell_type": "code",
   "execution_count": 79,
   "metadata": {},
   "outputs": [],
   "source": [
    "### PREP ###\n",
    "cosmos_file = fits.open(r\"C:/Users/sikor/OneDrive/Desktop/BigData/COSMOS2020/COSMOS2020_CLASSIC_R1_v2.0.fits\")\n",
    "c20p = cosmos_file[1].data"
   ]
  },
  {
   "cell_type": "code",
   "execution_count": 43,
   "metadata": {},
   "outputs": [
    {
     "data": {
      "application/vnd.jupyter.widget-view+json": {
       "model_id": "805a577f85f84470b13be09bc1aa0f54",
       "version_major": 2,
       "version_minor": 0
      },
      "text/plain": [
       "  0%|          | 0/100 [00:00<?, ?it/s]"
      ]
     },
     "metadata": {},
     "output_type": "display_data"
    }
   ],
   "source": [
    "### MAKE GAL POPS ###\n",
    "\n",
    "m_iter = 100            # Max iterations\n",
    "tot_pops = []           # Store total gal pops \n",
    "\n",
    "\n",
    "for m in tqdm(range(m_iter)):\n",
    "    # Load Photo\n",
    "    new_p = GalPop.loadFile(f\"GalPops_phot/MC_{m}.npy\")\n",
    "    \n",
    "    # Load specs\n",
    "    new_s = GalPop.loadFile(f\"GalPops_spec/MC_{m}.npy\")\n",
    "\n",
    "\n",
    "    # Cut repeat gals from photos\n",
    "    pids = new_s.IDs   # IDs for the spectra\n",
    "    new_p.del_objs(pids)       # Delete the objects\n",
    "\n",
    "    # Combine\n",
    "    new_tot = new_s.combine(new_p)\n",
    "\n",
    "    # Remove based on IRAC cut\n",
    "    \n",
    "    tot_pops.append(new_tot)"
   ]
  },
  {
   "cell_type": "markdown",
   "metadata": {},
   "source": [
    "## Assign Peaks and Create subpopulations"
   ]
  },
  {
   "cell_type": "code",
   "execution_count": 44,
   "metadata": {},
   "outputs": [],
   "source": [
    "### PREP ###\n",
    "sig_cube = fits.open(r\"C:\\Users\\sikor\\OneDrive\\Desktop\\benpy\\ThirdTry\\Hyperion_interpolated_cube_sigma.fits\")\n",
    "\n",
    "sigs = np.arange(2.0, 5.5, 0.5)\n",
    "\n",
    "pk_path = \"HyperionPeaks/\"\n",
    "pk_sums = [f\"peaks_sig{s}.dat\" for s in sigs]\n",
    "sig_folders = [f\"\\sig{s}_peaks\" for s in sigs]\n"
   ]
  },
  {
   "cell_type": "code",
   "execution_count": 45,
   "metadata": {},
   "outputs": [
    {
     "data": {
      "application/vnd.jupyter.widget-view+json": {
       "model_id": "d7e1656aec7a423ab5e088fa1decf8f0",
       "version_major": 2,
       "version_minor": 0
      },
      "text/plain": [
       "  0%|          | 0/50 [00:00<?, ?it/s]"
      ]
     },
     "metadata": {},
     "output_type": "display_data"
    }
   ],
   "source": [
    "### TOT-Z ###\n",
    "idx0 = 50\n",
    "\n",
    "for idx, t in tqdm(enumerate(tot_pops[idx0:100]), total=len(tot_pops[idx0:100])):\n",
    "\n",
    "    idx += idx0\n",
    "\n",
    "    t.assignPeaks(sigs, sig_cube, pk_path, pk_sums, sig_folders, overwrite=True)\n",
    "\n",
    "    ## Make field pops\n",
    "    t.subPop(\"field1\", [-99, 4.0], 13. , [2.15, 2.25], pk_path, \"peaks_sig4.0.dat\", sig_cube, cosmo = cosmo)\n",
    "    t.subPop(\"field2\", [-99, 4.0], 13. , [2.8, 2.9], pk_path, \"peaks_sig4.0.dat\", sig_cube, cosmo = cosmo)\n",
    "\n",
    "    # Make pops for all peaks\n",
    "    for si, sigma in enumerate(sigs):\n",
    "        t.subPop(f\"o{sigma}\", [sigma, np.inf], 13., [2.35, 2.7], pk_path, pk_sums[si], sig_cube)\n",
    "\n",
    "    # Make just Hyperion peaks w/ 2.0 cut\n",
    "    h_objs = np.where(t.pks[2.0] == 1)      # Indices of gals in Hyperion\n",
    "    hh_objs = np.where(t.pks[2.5] == 1)      # Indices of gals in Hyperion\n",
    "\n",
    "    for si, sigma in enumerate(sigs):\n",
    "        in_pk = np.where(t.pks[sigma] > 0)[0]      # Indices of gals in a peak\n",
    "\n",
    "        hs = np.in1d(in_pk, h_objs)     # Which objects in a peak are also in Hyperion (2.0)\n",
    "        hhs = np.in1d(in_pk, hh_objs)     # Which objects in a peak are also in Hyperion    (2.5)\n",
    "\n",
    "        t.subpops[f'ho{sigma}'] = in_pk[hs]\n",
    "        t.subpops[f'hho{sigma}'] = in_pk[hhs]\n",
    "\n",
    "\n",
    "\n",
    "    t.saveFile(f\"GalPops_tot/MC_{idx}.npy\")"
   ]
  }
 ],
 "metadata": {
  "kernelspec": {
   "display_name": "py38",
   "language": "python",
   "name": "python3"
  },
  "language_info": {
   "codemirror_mode": {
    "name": "ipython",
    "version": 3
   },
   "file_extension": ".py",
   "mimetype": "text/x-python",
   "name": "python",
   "nbconvert_exporter": "python",
   "pygments_lexer": "ipython3",
   "version": "3.8.19"
  }
 },
 "nbformat": 4,
 "nbformat_minor": 2
}
